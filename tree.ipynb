{
  "metadata": {
    "language_info": {
      "codemirror_mode": {
        "name": "python",
        "version": 3
      },
      "file_extension": ".py",
      "mimetype": "text/x-python",
      "name": "python",
      "nbconvert_exporter": "python",
      "pygments_lexer": "ipython3",
      "version": "3.8"
    },
    "kernelspec": {
      "name": "python",
      "display_name": "Python (Pyodide)",
      "language": "python"
    }
  },
  "nbformat_minor": 4,
  "nbformat": 4,
  "cells": [
    {
      "cell_type": "code",
      "source": "import pandas as pd\nimport numpy as np\nimport scipy.optimize as opt",
      "metadata": {
        "trusted": true
      },
      "execution_count": 1,
      "outputs": []
    },
    {
      "cell_type": "code",
      "source": "class Leaf:\n    def __init__(self,value):\n        self.value = value",
      "metadata": {
        "tags": [],
        "trusted": true
      },
      "execution_count": 2,
      "outputs": []
    },
    {
      "cell_type": "code",
      "source": "class Node:\n    def __init__(self,branches,threshold):\n        self.branches = branches\n        self.threshold = threshold\n        \n    def get(self,x):\n        return self.branches[0] if x < self.threshold else self.branches[1]\n        ",
      "metadata": {
        "trusted": true
      },
      "execution_count": 3,
      "outputs": []
    },
    {
      "cell_type": "code",
      "source": "class Tree:\n    def __init__(self,root):\n        self.root = root\n        \n    def predict(self,x):\n        item = self.root\n        while isinstance(item,Node):\n            item = item.get(x)\n        return item",
      "metadata": {
        "trusted": true
      },
      "execution_count": 4,
      "outputs": []
    },
    {
      "cell_type": "code",
      "source": "r=Node([Leaf('young'),Leaf('old')],18)\nt=Tree(r)\nprint(t.predict(2).value)",
      "metadata": {
        "trusted": true
      },
      "execution_count": 5,
      "outputs": [
        {
          "name": "stdout",
          "text": "young\n",
          "output_type": "stream"
        }
      ]
    },
    {
      "cell_type": "code",
      "source": "df=pd.read_csv(\"data/iris.csv\")",
      "metadata": {
        "trusted": true
      },
      "execution_count": 6,
      "outputs": []
    },
    {
      "cell_type": "code",
      "source": "print(t.predict(20).value)",
      "metadata": {
        "trusted": true
      },
      "execution_count": 7,
      "outputs": [
        {
          "name": "stdout",
          "text": "old\n",
          "output_type": "stream"
        }
      ]
    },
    {
      "cell_type": "code",
      "source": "class CART:\n    def __init__(self,df,y_name,X_names):\n        self.df = df\n        self.y_name = y_name\n        self.X_names = X_names\n    \n    def _gini_impurity(self, df):\n        pass\n    \n    def _opt_fun(self,df,split_name):\n        df1 = df[df[split_name]<split_threshold]\n        \n    def _node_or_leaf(self,df):\n        loss_parent = 1.\n        loss_best, split_df, split_threshold = self._loss_best(df)\n        if loss_best < loss_patent:\n            branches = []\n            for i in range(2):\n                self._node_or_leaf(split_df[i])\n            item = Node()\n        else:\n            item = Leaf()\n        return item\n    \n    def _loss_best(self,df):\n        \n        ",
      "metadata": {
        "trusted": true
      },
      "execution_count": 8,
      "outputs": [
        {
          "ename": "<class 'IndentationError'>",
          "evalue": "expected an indented block after function definition on line 25 (<ipython-input-8-02303ad60b6b>, line 27)",
          "traceback": [
            "\u001b[0;36m  Cell \u001b[0;32mIn[8], line 27\u001b[0;36m\u001b[0m\n\u001b[0;31m    \u001b[0m\n\u001b[0m    ^\u001b[0m\n\u001b[0;31mIndentationError\u001b[0m\u001b[0;31m:\u001b[0m expected an indented block after function definition on line 25\n"
          ],
          "output_type": "error"
        }
      ]
    },
    {
      "cell_type": "code",
      "source": "df.columns",
      "metadata": {
        "trusted": true
      },
      "execution_count": 9,
      "outputs": [
        {
          "execution_count": 9,
          "output_type": "execute_result",
          "data": {
            "text/plain": "Index(['sepal_length', 'sepal_width', 'petal_length', 'petal_width',\n       'species'],\n      dtype='object')"
          },
          "metadata": {}
        }
      ]
    },
    {
      "cell_type": "code",
      "source": "X_names=[\"sepal_length\",\"sepal_width\"]\ndf[X_names]",
      "metadata": {
        "trusted": true
      },
      "execution_count": 10,
      "outputs": [
        {
          "execution_count": 10,
          "output_type": "execute_result",
          "data": {
            "text/plain": "     sepal_length  sepal_width\n0             5.1          3.5\n1             4.9          3.0\n2             4.7          3.2\n3             4.6          3.1\n4             5.0          3.6\n..            ...          ...\n145           6.7          3.0\n146           6.3          2.5\n147           6.5          3.0\n148           6.2          3.4\n149           5.9          3.0\n\n[150 rows x 2 columns]",
            "text/html": "<div>\n<style scoped>\n    .dataframe tbody tr th:only-of-type {\n        vertical-align: middle;\n    }\n\n    .dataframe tbody tr th {\n        vertical-align: top;\n    }\n\n    .dataframe thead th {\n        text-align: right;\n    }\n</style>\n<table border=\"1\" class=\"dataframe\">\n  <thead>\n    <tr style=\"text-align: right;\">\n      <th></th>\n      <th>sepal_length</th>\n      <th>sepal_width</th>\n    </tr>\n  </thead>\n  <tbody>\n    <tr>\n      <th>0</th>\n      <td>5.1</td>\n      <td>3.5</td>\n    </tr>\n    <tr>\n      <th>1</th>\n      <td>4.9</td>\n      <td>3.0</td>\n    </tr>\n    <tr>\n      <th>2</th>\n      <td>4.7</td>\n      <td>3.2</td>\n    </tr>\n    <tr>\n      <th>3</th>\n      <td>4.6</td>\n      <td>3.1</td>\n    </tr>\n    <tr>\n      <th>4</th>\n      <td>5.0</td>\n      <td>3.6</td>\n    </tr>\n    <tr>\n      <th>...</th>\n      <td>...</td>\n      <td>...</td>\n    </tr>\n    <tr>\n      <th>145</th>\n      <td>6.7</td>\n      <td>3.0</td>\n    </tr>\n    <tr>\n      <th>146</th>\n      <td>6.3</td>\n      <td>2.5</td>\n    </tr>\n    <tr>\n      <th>147</th>\n      <td>6.5</td>\n      <td>3.0</td>\n    </tr>\n    <tr>\n      <th>148</th>\n      <td>6.2</td>\n      <td>3.4</td>\n    </tr>\n    <tr>\n      <th>149</th>\n      <td>5.9</td>\n      <td>3.0</td>\n    </tr>\n  </tbody>\n</table>\n<p>150 rows × 2 columns</p>\n</div>"
          },
          "metadata": {}
        }
      ]
    },
    {
      "cell_type": "code",
      "source": "df[X_names].values\n\n",
      "metadata": {
        "trusted": true
      },
      "execution_count": 11,
      "outputs": [
        {
          "execution_count": 11,
          "output_type": "execute_result",
          "data": {
            "text/plain": "array([[5.1, 3.5],\n       [4.9, 3. ],\n       [4.7, 3.2],\n       [4.6, 3.1],\n       [5. , 3.6],\n       [5.4, 3.9],\n       [4.6, 3.4],\n       [5. , 3.4],\n       [4.4, 2.9],\n       [4.9, 3.1],\n       [5.4, 3.7],\n       [4.8, 3.4],\n       [4.8, 3. ],\n       [4.3, 3. ],\n       [5.8, 4. ],\n       [5.7, 4.4],\n       [5.4, 3.9],\n       [5.1, 3.5],\n       [5.7, 3.8],\n       [5.1, 3.8],\n       [5.4, 3.4],\n       [5.1, 3.7],\n       [4.6, 3.6],\n       [5.1, 3.3],\n       [4.8, 3.4],\n       [5. , 3. ],\n       [5. , 3.4],\n       [5.2, 3.5],\n       [5.2, 3.4],\n       [4.7, 3.2],\n       [4.8, 3.1],\n       [5.4, 3.4],\n       [5.2, 4.1],\n       [5.5, 4.2],\n       [4.9, 3.1],\n       [5. , 3.2],\n       [5.5, 3.5],\n       [4.9, 3.1],\n       [4.4, 3. ],\n       [5.1, 3.4],\n       [5. , 3.5],\n       [4.5, 2.3],\n       [4.4, 3.2],\n       [5. , 3.5],\n       [5.1, 3.8],\n       [4.8, 3. ],\n       [5.1, 3.8],\n       [4.6, 3.2],\n       [5.3, 3.7],\n       [5. , 3.3],\n       [7. , 3.2],\n       [6.4, 3.2],\n       [6.9, 3.1],\n       [5.5, 2.3],\n       [6.5, 2.8],\n       [5.7, 2.8],\n       [6.3, 3.3],\n       [4.9, 2.4],\n       [6.6, 2.9],\n       [5.2, 2.7],\n       [5. , 2. ],\n       [5.9, 3. ],\n       [6. , 2.2],\n       [6.1, 2.9],\n       [5.6, 2.9],\n       [6.7, 3.1],\n       [5.6, 3. ],\n       [5.8, 2.7],\n       [6.2, 2.2],\n       [5.6, 2.5],\n       [5.9, 3.2],\n       [6.1, 2.8],\n       [6.3, 2.5],\n       [6.1, 2.8],\n       [6.4, 2.9],\n       [6.6, 3. ],\n       [6.8, 2.8],\n       [6.7, 3. ],\n       [6. , 2.9],\n       [5.7, 2.6],\n       [5.5, 2.4],\n       [5.5, 2.4],\n       [5.8, 2.7],\n       [6. , 2.7],\n       [5.4, 3. ],\n       [6. , 3.4],\n       [6.7, 3.1],\n       [6.3, 2.3],\n       [5.6, 3. ],\n       [5.5, 2.5],\n       [5.5, 2.6],\n       [6.1, 3. ],\n       [5.8, 2.6],\n       [5. , 2.3],\n       [5.6, 2.7],\n       [5.7, 3. ],\n       [5.7, 2.9],\n       [6.2, 2.9],\n       [5.1, 2.5],\n       [5.7, 2.8],\n       [6.3, 3.3],\n       [5.8, 2.7],\n       [7.1, 3. ],\n       [6.3, 2.9],\n       [6.5, 3. ],\n       [7.6, 3. ],\n       [4.9, 2.5],\n       [7.3, 2.9],\n       [6.7, 2.5],\n       [7.2, 3.6],\n       [6.5, 3.2],\n       [6.4, 2.7],\n       [6.8, 3. ],\n       [5.7, 2.5],\n       [5.8, 2.8],\n       [6.4, 3.2],\n       [6.5, 3. ],\n       [7.7, 3.8],\n       [7.7, 2.6],\n       [6. , 2.2],\n       [6.9, 3.2],\n       [5.6, 2.8],\n       [7.7, 2.8],\n       [6.3, 2.7],\n       [6.7, 3.3],\n       [7.2, 3.2],\n       [6.2, 2.8],\n       [6.1, 3. ],\n       [6.4, 2.8],\n       [7.2, 3. ],\n       [7.4, 2.8],\n       [7.9, 3.8],\n       [6.4, 2.8],\n       [6.3, 2.8],\n       [6.1, 2.6],\n       [7.7, 3. ],\n       [6.3, 3.4],\n       [6.4, 3.1],\n       [6. , 3. ],\n       [6.9, 3.1],\n       [6.7, 3.1],\n       [6.9, 3.1],\n       [5.8, 2.7],\n       [6.8, 3.2],\n       [6.7, 3.3],\n       [6.7, 3. ],\n       [6.3, 2.5],\n       [6.5, 3. ],\n       [6.2, 3.4],\n       [5.9, 3. ]])"
          },
          "metadata": {}
        }
      ]
    },
    {
      "cell_type": "code",
      "source": "",
      "metadata": {},
      "execution_count": null,
      "outputs": []
    }
  ]
}
