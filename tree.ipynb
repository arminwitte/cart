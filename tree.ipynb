{
 "cells": [
  {
   "cell_type": "code",
   "execution_count": 1,
   "metadata": {},
   "outputs": [],
   "source": [
    "import pandas as pd\n",
    "import numpy as np\n",
    "import copy\n",
    "import treelib\n",
    "import itertools\n",
    "import scipy.optimize as opt"
   ]
  },
  {
   "cell_type": "code",
   "execution_count": 2,
   "metadata": {},
   "outputs": [],
   "source": [
    "class Node:\n",
    "    def __init__(self,branches=None,attribute=None,threshold=None,value=None):\n",
    "        if branches is None and value is None:\n",
    "            print(\"ERROR\")\n",
    "        \n",
    "        self.branches = branches\n",
    "        self.threshold = threshold\n",
    "        self.attribute = attribute\n",
    "        self.is_leaf = True if self.branches is None else False\n",
    "        self.value = value\n",
    "        self.pinfo = {}\n",
    "        \n",
    "    def get_child(self,df):\n",
    "        if isinstance(df[self.attribute],(int,float,np.number)):\n",
    "            return self.branches[0] if df[self.attribute] < self.threshold else self.branches[1]\n",
    "        else:\n",
    "            return self.branches[0] if df[self.attribute] in self.threshold else self.branches[1]\n",
    "        "
   ]
  },
  {
   "cell_type": "code",
   "execution_count": 3,
   "metadata": {},
   "outputs": [],
   "source": [
    "class Tree:\n",
    "    def __init__(self,root):\n",
    "        self.root = root\n",
    "        \n",
    "    def predict(self,x):\n",
    "        item = self.root\n",
    "        while not item.is_leaf:\n",
    "            item = item.get_child(x)\n",
    "        return item\n",
    "    \n",
    "    def leaf_count(self):\n",
    "        return self._leaf_count(self.root)\n",
    "    \n",
    "    def _leaf_count(self,node):\n",
    "        if node.is_leaf:\n",
    "            return 1\n",
    "        else:\n",
    "            return np.sum([self._leaf_count(b) for b in node.branches])\n",
    "    \n",
    "    def nodes(self):\n",
    "        return self._nodes(self.root)\n",
    "    \n",
    "    def _nodes(self,node):\n",
    "        if node.is_leaf:\n",
    "            return [node]\n",
    "        \n",
    "        nl = [node]\n",
    "        for b in node.branches:\n",
    "            nl += self._nodes(b)\n",
    "        return nl\n",
    "    \n",
    "    def classes(self):\n",
    "        nodes = self.nodes()\n",
    "        c = []\n",
    "        for n in nodes:\n",
    "            c.append(n.value)\n",
    "        return np.unique(c).tolist()\n",
    "    \n",
    "    def show(self):\n",
    "        tree_view = treelib.Tree()\n",
    "        self._show(self.root,tree_view)\n",
    "        tree_view.show()\n",
    "        \n",
    "    def _show(self,node,tree_view,parent=None):\n",
    "        name = str(hash(node))\n",
    "        if node.is_leaf:\n",
    "            text = f\"{node.value}\"\n",
    "        else:\n",
    "            if isinstance(node.threshold,(int,float,np.number)):\n",
    "                text = f\"{node.attribute}<{node.threshold:.2f}\"\n",
    "            else:\n",
    "                text = f\"{node.attribute} in {node.threshold}\"\n",
    "        tree_view.create_node(text,name,parent=parent)\n",
    "        \n",
    "        if not node.is_leaf:\n",
    "            for b in node.branches:\n",
    "                self._show(b,tree_view,parent=name)\n",
    "    "
   ]
  },
  {
   "cell_type": "code",
   "execution_count": 4,
   "metadata": {},
   "outputs": [
    {
     "name": "stdout",
     "output_type": "stream",
     "text": [
      "young\n"
     ]
    }
   ],
   "source": [
    "l0= Node(value=\"young\")\n",
    "l1=Node(value=\"old\")\n",
    "r=Node([l0,l1],\"age\",18)\n",
    "t=Tree(r)\n",
    "print(t.predict({\"age\":2}).value)"
   ]
  },
  {
   "cell_type": "code",
   "execution_count": 5,
   "metadata": {},
   "outputs": [
    {
     "name": "stdout",
     "output_type": "stream",
     "text": [
      "old\n"
     ]
    }
   ],
   "source": [
    "print(t.predict({\"age\":20}).value)"
   ]
  },
  {
   "cell_type": "code",
   "execution_count": 6,
   "metadata": {},
   "outputs": [
    {
     "data": {
      "text/plain": [
       "2"
      ]
     },
     "execution_count": 6,
     "metadata": {},
     "output_type": "execute_result"
    }
   ],
   "source": [
    "t.leaf_count()"
   ]
  },
  {
   "cell_type": "code",
   "execution_count": 7,
   "metadata": {},
   "outputs": [
    {
     "data": {
      "text/plain": [
       "[<__main__.Node at 0x7fc3a292ac10>,\n",
       " <__main__.Node at 0x7fc3a292ab90>,\n",
       " <__main__.Node at 0x7fc3a292aa90>]"
      ]
     },
     "execution_count": 7,
     "metadata": {},
     "output_type": "execute_result"
    }
   ],
   "source": [
    "t.nodes()"
   ]
  },
  {
   "cell_type": "code",
   "execution_count": 8,
   "metadata": {},
   "outputs": [],
   "source": [
    "class CART:\n",
    "    def __init__(self,df,y_name,X_names):\n",
    "        self.y_name = y_name\n",
    "        self.X_names = X_names\n",
    "        self.df = self._handle_missings(df)\n",
    "        self.tree = None\n",
    "        self.splittyness = 1.\n",
    "        self.leaf_loss_threshold = 1e-12\n",
    "        \n",
    "        self.classes = np.unique(df[self.y_name]).tolist()\n",
    "        \n",
    "    def train(self,k=5, plot=True):\n",
    "        \"\"\"\n",
    "        train desicion tree by k-fold cross-validation\n",
    "        \"\"\"\n",
    "        #shuffle dataframe\n",
    "        df = self.df.sample(frac=1.)\n",
    "        \n",
    "        # train tree with full dataset\n",
    "        self.create_tree()\n",
    "        pres = self.prune()\n",
    "        print(pres)\n",
    "    \n",
    "        #split df for k-fold cross-validation\n",
    "        training_sets, test_sets = self._k_fold_split(df,k)\n",
    "        for i in range(len(training_sets)):\n",
    "            c = CART(training_sets[i],self.y_name, self.X_names)\n",
    "            c.create_tree()          \n",
    "            pres = c.prune(test_set=test_sets[i])\n",
    "            print(pres)\n",
    "            import matplotlib.pyplot as plt\n",
    "            plt.plot(pres[\"alpha\"],pres[\"A_cv\"])\n",
    "        #train k trees\n",
    "        #prune k trees\n",
    "        #get table alpha vs mean accuracy\n",
    "        #train tree with full df\n",
    "        #prune to best alpha from cross-validation\n",
    "        pass\n",
    "    \n",
    "    @staticmethod\n",
    "    def _k_fold_split(df,k):\n",
    "        N = len(df.index)\n",
    "        n = int(np.ceil(N/k))\n",
    "        training_sets = []\n",
    "        test_sets = []\n",
    "        for i in range(k):\n",
    "            test = df.iloc[i*n:min(N,(i+1)*n),:]\n",
    "            training = df.loc[df.index.difference(test.index),:]\n",
    "            test_sets.append(test)\n",
    "            training_sets.append(training)\n",
    "        return training_sets, test_sets\n",
    "    \n",
    "    def _handle_missings(self,df_in):\n",
    "        df_out = df_in.dropna(subset=[self.y_name])\n",
    "        # use nan as category\n",
    "        # use mean if numerical\n",
    "        for name in self.X_names:\n",
    "            if np.issubdtype(df_out[name].values.dtype, np.number):\n",
    "                df_out[name] = df_out[name].fillna(np.nanmean(df_out[name].values))\n",
    "            else:\n",
    "                df_out[name] = df_out[name].fillna(\"missing\")\n",
    "        return df_out\n",
    "        \n",
    "    def create_tree(self,splittyness=1., leaf_loss_threshold=1e-12):\n",
    "        self.splittyness = splittyness\n",
    "        self.leaf_loss_threshold = leaf_loss_threshold\n",
    "        root = self._node_or_leaf(self.df)\n",
    "        self.tree = Tree(root)\n",
    "        n_leafs = self.tree.leaf_count()\n",
    "        print(f\"A tree with {n_leafs} was created\")\n",
    "        return self.tree\n",
    "    \n",
    "    def _gini_impurity(self, df):\n",
    "        unique, counts = np.unique(df[self.y_name].values, return_counts=True)\n",
    "        N = df[self.y_name].values.ravel().size\n",
    "        p = counts/N\n",
    "        #print(unique)\n",
    "        #print(p)\n",
    "        return 1. - np.sum(p**2)\n",
    "    \n",
    "    def _shannon_entropy(self,df):\n",
    "        unique, counts = np.unique(df[self.y_name].values, return_counts=True)\n",
    "        N = df[self.y_name].values.size\n",
    "        p = counts/N\n",
    "        return -np.sum(p * np.log2(p))\n",
    "    \n",
    "    def _misclassification_cost(self,df):\n",
    "        y = df[self.y_name].values\n",
    "        unique, counts = np.unique(y, return_counts=True)\n",
    "        N = y.size\n",
    "        p = np.max(counts)/N\n",
    "        return 1. - p\n",
    "        \n",
    "    def _opt_fun(self,df,split_name):\n",
    "        def fun(x):\n",
    "            split_df = [df[df[split_name]<x],\n",
    "                        df[df[split_name]>=x]]\n",
    "            N = len(df.index)\n",
    "            n = [len(df_.index) for df_ in split_df]\n",
    "            return n[0]/N * self._loss(split_df[0]) + n[1]/N * self._loss(split_df[1])\n",
    "        return fun\n",
    "        \n",
    "    def _node_or_leaf(self,df):\n",
    "        loss_parent = self._loss(df)\n",
    "        if loss_parent < self.leaf_loss_threshold:\n",
    "            return self._leaf(df)\n",
    "        \n",
    "        loss_best, split_df, split_threshold, split_name = self._loss_best(df)\n",
    "        #print(f\"Computed split:\\nloss: {loss_best:.2f} (parent: {loss_parent:.2f})\\nattribute: {split_name}\\nthreshold: {split_threshold}\\ncount: {[len(df_.index) for df_ in split_df]}\")\n",
    "        if loss_best * self.splittyness < loss_parent:\n",
    "            #print(f\"=> Node({split_name}, {split_threshold})\")\n",
    "            branches = []\n",
    "            for i in range(2):\n",
    "                branches.append(self._node_or_leaf(split_df[i]))\n",
    "            unique, counts = np.unique(df[self.y_name], return_counts=True)\n",
    "            value = unique[np.argmax(counts)]\n",
    "            item = Node(branches=branches,attribute=split_name,threshold=split_threshold,value=value)\n",
    "            item.pinfo[\"N\"] = len(df.index)\n",
    "            item.pinfo[\"r\"] = self._misclassification_cost(df)\n",
    "            item.pinfo[\"R\"] = item.pinfo[\"N\"]/len(self.df.index) * item.pinfo[\"r\"]\n",
    "        else:\n",
    "            item = self._leaf(df)\n",
    "            \n",
    "        return item\n",
    "    \n",
    "    def _leaf(self,df):\n",
    "        unique, counts = np.unique(df[self.y_name].values,return_counts=True)\n",
    "        #print([(unique[i], counts[i]) for i in range(len(counts))])\n",
    "        sort_ind = np.argsort(-counts)\n",
    "        value = unique[sort_ind[0]]\n",
    "        leaf = Node(value=value)\n",
    "        \n",
    "        leaf.pinfo[\"N\"] = len(df.index)\n",
    "        leaf.pinfo[\"r\"] = self._misclassification_cost(df)\n",
    "        leaf.pinfo[\"R\"] = leaf.pinfo[\"N\"]/len(self.df.index) * leaf.pinfo[\"r\"]\n",
    "        #print(f\"=> Leaf({value}, N={len(df.index)})\")\n",
    "        return leaf\n",
    "    \n",
    "    def _loss_best(self,df):\n",
    "        loss0 = 10\n",
    "        for name in self.X_names:\n",
    "            loss = np.Inf\n",
    "            if np.issubdtype(df[name].values.dtype, np.number):\n",
    "                #split_threshold_ = np.median(df[name].v\n",
    "                res = opt.minimize_scalar(self._opt_fun(df,name),bounds=(df[name].min(),df[name].max()),method=\"bounded\")\n",
    "                split_threshold_ = res.x\n",
    "                split_df_ = [df[df[name]<split_threshold_],\n",
    "                        df[df[name]>=split_threshold_]]\n",
    "                #loss = self._loss(split_df_[0]) + self._loss(split_df_[1])\n",
    "                loss = res.fun\n",
    "            else:\n",
    "                unique = np.unique(df[name])\n",
    "                comb = []\n",
    "                for i in range(1,len(unique)):\n",
    "                    comb += list(itertools.combinations(unique,i))\n",
    "                loss__ = np.Inf\n",
    "                for c in comb:\n",
    "                    split_threshold__ = c\n",
    "                    split_df__ =[df[df[name].isin(split_threshold__)],\n",
    "                            df[~df[name].isin(split_threshold__)]]\n",
    "                    N = len(df.index)\n",
    "                    n = [len(df_.index) for df_ in split_df__]\n",
    "                    loss__ = n[0]/N * self._loss(split_df__[0]) + n[1]/N * self._loss(split_df__[1])\n",
    "                    if loss__ < loss0:\n",
    "                        loss = loss__\n",
    "                        split_threshold_ = split_threshold__\n",
    "                        split_df_ = split_df__\n",
    "            if loss < loss0:\n",
    "                loss0 = loss\n",
    "                split_threshold = split_threshold_\n",
    "                split_df = split_df_\n",
    "                split_name = name\n",
    "                \n",
    "        #print(loss0)\n",
    "                \n",
    "        return loss0, split_df, split_threshold, split_name\n",
    "    \n",
    "    def _loss(self,df):\n",
    "        #return self._gini_impurity(df)\n",
    "        return self._shannon_entropy(df)\n",
    "    \n",
    "    def metrics(self,df=None):\n",
    "        confmat = self.confusion_matrix(df=df)\n",
    "        P = self._precision(confmat)\n",
    "        #print(f\"precision: {P}\")\n",
    "        R = self._recall(confmat)\n",
    "        #print(f\"recall: {R}\")\n",
    "        F = np.mean(self._F1(P,R))\n",
    "        #print(f\"F-score: {F}\")\n",
    "        A = self._accuracy(confmat)\n",
    "        return {\"precision\":P,\n",
    "                \"recall\":R,\n",
    "                \"F-score\":F,\n",
    "                \"accuracy\":A}\n",
    "    \n",
    "    def _k_fold_miss(self,k=5,frac=0.5):\n",
    "        R = []\n",
    "        for i in range(k):\n",
    "            df = self.df.sample(frac=frac, replace=True)\n",
    "            r = self._miss(df)\n",
    "            R.append(r)\n",
    "        return R\n",
    "    \n",
    "    def prune(self,alpha_max=None, test_set=None):\n",
    "        #if not alpha_max:\n",
    "        #    tree = copy.deepcopy(self.tree)\n",
    "        #else:\n",
    "        tree = self.tree\n",
    "                \n",
    "        d={}\n",
    "        d[\"alpha\"]=[]\n",
    "        d[\"R\"]=[]\n",
    "        d[\"n_leafs\"]=[]\n",
    "        if test_set is not None:\n",
    "            d[\"A_cv\"] = []\n",
    "            d[\"R_cv\"] = []\n",
    "            d[\"P_cv\"] = []\n",
    "            d[\"F_cv\"] = []\n",
    "        n_iter = 0\n",
    "        g_min = 0\n",
    "        alpha = 0\n",
    "        #print(\"n_leafs\\tR\\talpha\")\n",
    "        n_leafs, R = self._g2(tree.root)\n",
    "        #print(f\"{n_leafs}\\t{R:.4f}\\t{g_min:.2e}\")\n",
    "        while tree.leaf_count() > 1 and n_iter < 100:\n",
    "            n_iter += 1\n",
    "            \n",
    "            alpha = g_min\n",
    "            if alpha_max is not None and alpha > alpha_max:\n",
    "                break\n",
    "            # compute g\n",
    "            nodes = tree.nodes()\n",
    "            g = []\n",
    "            pnodes = []\n",
    "            for n in nodes:\n",
    "                if not n.is_leaf:\n",
    "                    g.append(self._g(n))\n",
    "                    pnodes.append(n)\n",
    "                    \n",
    "            g_min = max(0,np.min(g))\n",
    "            for i, n in enumerate(pnodes):\n",
    "                if g[i] <= g_min:\n",
    "                    n.is_leaf = True\n",
    "            N, R = self._g2(tree.root)\n",
    "            #print(f\"{N}\\t{R:.4f}\\t{alpha:.2e}\")\n",
    "            if test_set is not None:\n",
    "                metrics = self.metrics(df=test_set)\n",
    "                d[\"A_cv\"].append(metrics[\"accuracy\"])\n",
    "                d[\"R_cv\"].append(metrics[\"recall\"])\n",
    "                d[\"P_cv\"].append(metrics[\"precision\"])\n",
    "                d[\"F_cv\"].append(metrics[\"F-score\"])\n",
    "            d[\"alpha\"].append(alpha)\n",
    "            d[\"n_leafs\"].append(N)\n",
    "            d[\"R\"].append(R)\n",
    "        return d\n",
    "            \n",
    "    \n",
    "    def _g(self,node):\n",
    "        n_leafs, R_desc = self._g2(node)\n",
    "        R = node.pinfo[\"R\"]\n",
    "        #print(n_leafs, R, R_desc)\n",
    "        return (R - R_desc)/(n_leafs - 1)\n",
    "                              \n",
    "    def _g2(self,node):\n",
    "        n_leafs = 0\n",
    "        R_desc = 0\n",
    "        if node.is_leaf:\n",
    "            return 1, node.pinfo[\"R\"]\n",
    "        \n",
    "        for b in node.branches:\n",
    "            nl, R = self._g2(b)\n",
    "            n_leafs += nl\n",
    "            R_desc += R\n",
    "        return n_leafs, R_desc\n",
    "           \n",
    "            \n",
    "            \n",
    "                 \n",
    "                              \n",
    "        \n",
    "    \n",
    "    @staticmethod\n",
    "    def _precision(m):\n",
    "        return np.diag(m) / np.sum(m, axis=1)\n",
    "        \n",
    "    \n",
    "    @staticmethod\n",
    "    def _recall(m):\n",
    "        return np.diag(m) / np.sum(m, axis=0)\n",
    "    \n",
    "    @staticmethod\n",
    "    def _F1(P,R):\n",
    "        #F = np.zeros_like(P)\n",
    "        #for i in range(len(\n",
    "        return 2 * P * R / (P + R)\n",
    "    \n",
    "    @staticmethod\n",
    "    def _accuracy(m):\n",
    "        return np.sum(np.diag(m))/np.sum(np.sum(m))\n",
    "    \n",
    "    def _specificity(m):\n",
    "        pass\n",
    "            \n",
    "        \n",
    "        \n",
    "\n",
    "    def confusion_matrix(self,df=None):\n",
    "        if df is None:\n",
    "            df = self.df\n",
    "        unique = np.unique(self.df[self.y_name].values)\n",
    "        classes = unique.tolist()#self.tree.classes()\n",
    "        n_classes = len(classes)\n",
    "        confmat = np.zeros((n_classes,n_classes))\n",
    "        \n",
    "        for i in range(len(df.index)):\n",
    "            val_pred = self.tree.predict(df.iloc[i]).value\n",
    "            val_true = df[self.y_name].iloc[i]\n",
    "            i_pred = classes.index(val_pred)\n",
    "            i_true = classes.index(val_true)\n",
    "            confmat[i_true,i_pred] += 1\n",
    "        return confmat\n",
    "    \n",
    "    def validate(self,df):\n",
    "        pass\n",
    "        "
   ]
  },
  {
   "cell_type": "markdown",
   "metadata": {},
   "source": [
    "Iris dataset\n",
    "=="
   ]
  },
  {
   "cell_type": "code",
   "execution_count": 9,
   "metadata": {},
   "outputs": [],
   "source": [
    "df=pd.read_csv(\"iris.csv\")"
   ]
  },
  {
   "cell_type": "code",
   "execution_count": 10,
   "metadata": {},
   "outputs": [
    {
     "data": {
      "text/html": [
       "<div>\n",
       "<style scoped>\n",
       "    .dataframe tbody tr th:only-of-type {\n",
       "        vertical-align: middle;\n",
       "    }\n",
       "\n",
       "    .dataframe tbody tr th {\n",
       "        vertical-align: top;\n",
       "    }\n",
       "\n",
       "    .dataframe thead th {\n",
       "        text-align: right;\n",
       "    }\n",
       "</style>\n",
       "<table border=\"1\" class=\"dataframe\">\n",
       "  <thead>\n",
       "    <tr style=\"text-align: right;\">\n",
       "      <th></th>\n",
       "      <th>petal_length</th>\n",
       "      <th>petal_width</th>\n",
       "    </tr>\n",
       "  </thead>\n",
       "  <tbody>\n",
       "    <tr>\n",
       "      <th>0</th>\n",
       "      <td>1.4</td>\n",
       "      <td>0.2</td>\n",
       "    </tr>\n",
       "    <tr>\n",
       "      <th>1</th>\n",
       "      <td>1.4</td>\n",
       "      <td>0.2</td>\n",
       "    </tr>\n",
       "    <tr>\n",
       "      <th>2</th>\n",
       "      <td>1.3</td>\n",
       "      <td>0.2</td>\n",
       "    </tr>\n",
       "    <tr>\n",
       "      <th>3</th>\n",
       "      <td>1.5</td>\n",
       "      <td>0.2</td>\n",
       "    </tr>\n",
       "    <tr>\n",
       "      <th>4</th>\n",
       "      <td>1.4</td>\n",
       "      <td>0.2</td>\n",
       "    </tr>\n",
       "    <tr>\n",
       "      <th>...</th>\n",
       "      <td>...</td>\n",
       "      <td>...</td>\n",
       "    </tr>\n",
       "    <tr>\n",
       "      <th>145</th>\n",
       "      <td>5.2</td>\n",
       "      <td>2.3</td>\n",
       "    </tr>\n",
       "    <tr>\n",
       "      <th>146</th>\n",
       "      <td>5.0</td>\n",
       "      <td>1.9</td>\n",
       "    </tr>\n",
       "    <tr>\n",
       "      <th>147</th>\n",
       "      <td>5.2</td>\n",
       "      <td>2.0</td>\n",
       "    </tr>\n",
       "    <tr>\n",
       "      <th>148</th>\n",
       "      <td>5.4</td>\n",
       "      <td>2.3</td>\n",
       "    </tr>\n",
       "    <tr>\n",
       "      <th>149</th>\n",
       "      <td>5.1</td>\n",
       "      <td>1.8</td>\n",
       "    </tr>\n",
       "  </tbody>\n",
       "</table>\n",
       "<p>150 rows × 2 columns</p>\n",
       "</div>"
      ],
      "text/plain": [
       "     petal_length  petal_width\n",
       "0             1.4          0.2\n",
       "1             1.4          0.2\n",
       "2             1.3          0.2\n",
       "3             1.5          0.2\n",
       "4             1.4          0.2\n",
       "..            ...          ...\n",
       "145           5.2          2.3\n",
       "146           5.0          1.9\n",
       "147           5.2          2.0\n",
       "148           5.4          2.3\n",
       "149           5.1          1.8\n",
       "\n",
       "[150 rows x 2 columns]"
      ]
     },
     "execution_count": 10,
     "metadata": {},
     "output_type": "execute_result"
    }
   ],
   "source": [
    "df.columns\n",
    "X_names=[\"petal_length\",\"petal_width\"]\n",
    "df[X_names]"
   ]
  },
  {
   "cell_type": "code",
   "execution_count": 11,
   "metadata": {},
   "outputs": [
    {
     "data": {
      "text/plain": [
       "sepal_length       5.1\n",
       "sepal_width        3.5\n",
       "petal_length       1.4\n",
       "petal_width        0.2\n",
       "species         setosa\n",
       "Name: 0, dtype: object"
      ]
     },
     "execution_count": 11,
     "metadata": {},
     "output_type": "execute_result"
    }
   ],
   "source": [
    "df.iloc[0]"
   ]
  },
  {
   "cell_type": "code",
   "execution_count": 12,
   "metadata": {},
   "outputs": [
    {
     "name": "stdout",
     "output_type": "stream",
     "text": [
      "A tree with 12 was created\n"
     ]
    },
    {
     "data": {
      "text/plain": [
       "<__main__.Tree at 0x7fc3a2e5f690>"
      ]
     },
     "execution_count": 12,
     "metadata": {},
     "output_type": "execute_result"
    }
   ],
   "source": [
    "c = CART(df,\"species\",X_names)\n",
    "c.create_tree(splittyness=1.)\n"
   ]
  },
  {
   "cell_type": "code",
   "execution_count": 13,
   "metadata": {},
   "outputs": [
    {
     "data": {
      "text/plain": [
       "'setosa'"
      ]
     },
     "execution_count": 13,
     "metadata": {},
     "output_type": "execute_result"
    }
   ],
   "source": [
    "c.tree.predict(df.iloc[0]).value"
   ]
  },
  {
   "cell_type": "code",
   "execution_count": 14,
   "metadata": {},
   "outputs": [
    {
     "data": {
      "text/plain": [
       "{'N': 50, 'r': 0.0, 'R': 0.0}"
      ]
     },
     "execution_count": 14,
     "metadata": {},
     "output_type": "execute_result"
    }
   ],
   "source": [
    "c.tree.root.branches[0].pinfo\n"
   ]
  },
  {
   "cell_type": "code",
   "execution_count": 15,
   "metadata": {},
   "outputs": [
    {
     "data": {
      "text/plain": [
       "{'alpha': [0,\n",
       "  0,\n",
       "  0.0016666666666666642,\n",
       "  0.006666666666666663,\n",
       "  0.29333333333333333],\n",
       " 'R': [0.006666666666666665,\n",
       "  0.013333333333333322,\n",
       "  0.03999999999999997,\n",
       "  0.3333333333333333,\n",
       "  0.6666666666666667],\n",
       " 'n_leafs': [11, 7, 3, 2, 1]}"
      ]
     },
     "execution_count": 15,
     "metadata": {},
     "output_type": "execute_result"
    }
   ],
   "source": [
    "c.prune()\n"
   ]
  },
  {
   "cell_type": "code",
   "execution_count": 16,
   "metadata": {},
   "outputs": [
    {
     "name": "stdout",
     "output_type": "stream",
     "text": [
      "A tree with 12 was created\n"
     ]
    },
    {
     "data": {
      "text/plain": [
       "{'alpha': [0, 0, 0.0016666666666666642],\n",
       " 'R': [0.006666666666666665, 0.013333333333333322, 0.03999999999999997],\n",
       " 'n_leafs': [11, 7, 3]}"
      ]
     },
     "execution_count": 16,
     "metadata": {},
     "output_type": "execute_result"
    }
   ],
   "source": [
    "c.create_tree()\n",
    "c.prune(alpha_max = 2e-3)\n"
   ]
  },
  {
   "cell_type": "code",
   "execution_count": 17,
   "metadata": {},
   "outputs": [
    {
     "data": {
      "text/plain": [
       "array([[50.,  0.,  0.],\n",
       "       [ 0., 48.,  2.],\n",
       "       [ 0.,  4., 46.]])"
      ]
     },
     "execution_count": 17,
     "metadata": {},
     "output_type": "execute_result"
    }
   ],
   "source": [
    "\n",
    "c.confusion_matrix()\n"
   ]
  },
  {
   "cell_type": "code",
   "execution_count": 18,
   "metadata": {},
   "outputs": [
    {
     "data": {
      "text/plain": [
       "<matplotlib.collections.PathCollection at 0x7fc3a0ac23d0>"
      ]
     },
     "execution_count": 18,
     "metadata": {},
     "output_type": "execute_result"
    },
    {
     "data": {
      "image/png": "[encoded data removed]",
      "text/plain": [
       "<Figure size 640x480 with 1 Axes>"
      ]
     },
     "metadata": {},
     "output_type": "display_data"
    }
   ],
   "source": [
    "import matplotlib.pyplot as plt\n",
    "colors = {\"setosa\":\"red\", \"versicolor\":\"blue\", \"virginica\":\"green\"}\n",
    "plt.scatter(df[\"petal_length\"],df[\"petal_width\"],c=df[\"species\"].map(colors))\n"
   ]
  },
  {
   "cell_type": "code",
   "execution_count": 19,
   "metadata": {},
   "outputs": [],
   "source": [
    "\n",
    "x, y = np.meshgrid(np.linspace(1,7,11),np.linspace(0,2.5,11))\n",
    "col = []\n",
    "for i in range(len(x.ravel())):\n",
    "    d = df.iloc[120].copy()\n",
    "    d[\"petal_length\"] = x.ravel()[i]\n",
    "    d[\"petal_width\"] = y.ravel()[i]\n",
    "    col.append(c.tree.predict(d).value)\n",
    "for i in range(len(col)):\n",
    "    if col[i] == \"setosa\":\n",
    "        col[i] = 0\n",
    "    if col[i] == \"versicolor\":\n",
    "        col[i] = 1\n",
    "    if col[i] == \"virginica\":\n",
    "        col[i] = 2\n",
    "z = np.array(col).reshape(x.shape)"
   ]
  },
  {
   "cell_type": "code",
   "execution_count": 20,
   "metadata": {},
   "outputs": [
    {
     "data": {
      "text/plain": [
       "<matplotlib.collections.PathCollection at 0x7fc39e68ec10>"
      ]
     },
     "execution_count": 20,
     "metadata": {},
     "output_type": "execute_result"
    },
    {
     "data": {
      "image/png": "[encoded data removed]",
      "text/plain": [
       "<Figure size 640x480 with 1 Axes>"
      ]
     },
     "metadata": {},
     "output_type": "display_data"
    }
   ],
   "source": [
    "fig, ax = plt.subplots()\n",
    "ax.pcolormesh(x,y,z)\n",
    "ax.scatter(df[\"petal_length\"],df[\"petal_width\"],c=df[\"species\"].map(colors))"
   ]
  },
  {
   "cell_type": "code",
   "execution_count": 21,
   "metadata": {},
   "outputs": [
    {
     "data": {
      "text/plain": [
       "{'precision': array([1.  , 0.96, 0.92]),\n",
       " 'recall': array([1.        , 0.92307692, 0.95833333]),\n",
       " 'F-score': 0.9599839935974389,\n",
       " 'accuracy': 0.96}"
      ]
     },
     "execution_count": 21,
     "metadata": {},
     "output_type": "execute_result"
    }
   ],
   "source": [
    "c.metrics()"
   ]
  },
  {
   "cell_type": "code",
   "execution_count": 22,
   "metadata": {},
   "outputs": [
    {
     "data": {
      "text/html": [
       "<div>\n",
       "<style scoped>\n",
       "    .dataframe tbody tr th:only-of-type {\n",
       "        vertical-align: middle;\n",
       "    }\n",
       "\n",
       "    .dataframe tbody tr th {\n",
       "        vertical-align: top;\n",
       "    }\n",
       "\n",
       "    .dataframe thead th {\n",
       "        text-align: right;\n",
       "    }\n",
       "</style>\n",
       "<table border=\"1\" class=\"dataframe\">\n",
       "  <thead>\n",
       "    <tr style=\"text-align: right;\">\n",
       "      <th></th>\n",
       "      <th>Survived</th>\n",
       "      <th>Pclass</th>\n",
       "      <th>Name</th>\n",
       "      <th>Sex</th>\n",
       "      <th>Age</th>\n",
       "      <th>Siblings/Spouses Aboard</th>\n",
       "      <th>Parents/Children Aboard</th>\n",
       "      <th>Fare</th>\n",
       "    </tr>\n",
       "  </thead>\n",
       "  <tbody>\n",
       "    <tr>\n",
       "      <th>0</th>\n",
       "      <td>0</td>\n",
       "      <td>3</td>\n",
       "      <td>Mr. Owen Harris Braund</td>\n",
       "      <td>male</td>\n",
       "      <td>22.0</td>\n",
       "      <td>1</td>\n",
       "      <td>0</td>\n",
       "      <td>7.2500</td>\n",
       "    </tr>\n",
       "    <tr>\n",
       "      <th>1</th>\n",
       "      <td>1</td>\n",
       "      <td>1</td>\n",
       "      <td>Mrs. John Bradley (Florence Briggs Thayer) Cum...</td>\n",
       "      <td>female</td>\n",
       "      <td>38.0</td>\n",
       "      <td>1</td>\n",
       "      <td>0</td>\n",
       "      <td>71.2833</td>\n",
       "    </tr>\n",
       "    <tr>\n",
       "      <th>2</th>\n",
       "      <td>1</td>\n",
       "      <td>3</td>\n",
       "      <td>Miss. Laina Heikkinen</td>\n",
       "      <td>female</td>\n",
       "      <td>26.0</td>\n",
       "      <td>0</td>\n",
       "      <td>0</td>\n",
       "      <td>7.9250</td>\n",
       "    </tr>\n",
       "    <tr>\n",
       "      <th>3</th>\n",
       "      <td>1</td>\n",
       "      <td>1</td>\n",
       "      <td>Mrs. Jacques Heath (Lily May Peel) Futrelle</td>\n",
       "      <td>female</td>\n",
       "      <td>35.0</td>\n",
       "      <td>1</td>\n",
       "      <td>0</td>\n",
       "      <td>53.1000</td>\n",
       "    </tr>\n",
       "    <tr>\n",
       "      <th>4</th>\n",
       "      <td>0</td>\n",
       "      <td>3</td>\n",
       "      <td>Mr. William Henry Allen</td>\n",
       "      <td>male</td>\n",
       "      <td>35.0</td>\n",
       "      <td>0</td>\n",
       "      <td>0</td>\n",
       "      <td>8.0500</td>\n",
       "    </tr>\n",
       "    <tr>\n",
       "      <th>...</th>\n",
       "      <td>...</td>\n",
       "      <td>...</td>\n",
       "      <td>...</td>\n",
       "      <td>...</td>\n",
       "      <td>...</td>\n",
       "      <td>...</td>\n",
       "      <td>...</td>\n",
       "      <td>...</td>\n",
       "    </tr>\n",
       "    <tr>\n",
       "      <th>882</th>\n",
       "      <td>0</td>\n",
       "      <td>2</td>\n",
       "      <td>Rev. Juozas Montvila</td>\n",
       "      <td>male</td>\n",
       "      <td>27.0</td>\n",
       "      <td>0</td>\n",
       "      <td>0</td>\n",
       "      <td>13.0000</td>\n",
       "    </tr>\n",
       "    <tr>\n",
       "      <th>883</th>\n",
       "      <td>1</td>\n",
       "      <td>1</td>\n",
       "      <td>Miss. Margaret Edith Graham</td>\n",
       "      <td>female</td>\n",
       "      <td>19.0</td>\n",
       "      <td>0</td>\n",
       "      <td>0</td>\n",
       "      <td>30.0000</td>\n",
       "    </tr>\n",
       "    <tr>\n",
       "      <th>884</th>\n",
       "      <td>0</td>\n",
       "      <td>3</td>\n",
       "      <td>Miss. Catherine Helen Johnston</td>\n",
       "      <td>female</td>\n",
       "      <td>7.0</td>\n",
       "      <td>1</td>\n",
       "      <td>2</td>\n",
       "      <td>23.4500</td>\n",
       "    </tr>\n",
       "    <tr>\n",
       "      <th>885</th>\n",
       "      <td>1</td>\n",
       "      <td>1</td>\n",
       "      <td>Mr. Karl Howell Behr</td>\n",
       "      <td>male</td>\n",
       "      <td>26.0</td>\n",
       "      <td>0</td>\n",
       "      <td>0</td>\n",
       "      <td>30.0000</td>\n",
       "    </tr>\n",
       "    <tr>\n",
       "      <th>886</th>\n",
       "      <td>0</td>\n",
       "      <td>3</td>\n",
       "      <td>Mr. Patrick Dooley</td>\n",
       "      <td>male</td>\n",
       "      <td>32.0</td>\n",
       "      <td>0</td>\n",
       "      <td>0</td>\n",
       "      <td>7.7500</td>\n",
       "    </tr>\n",
       "  </tbody>\n",
       "</table>\n",
       "<p>887 rows × 8 columns</p>\n",
       "</div>"
      ],
      "text/plain": [
       "     Survived  Pclass                                               Name  \\\n",
       "0           0       3                             Mr. Owen Harris Braund   \n",
       "1           1       1  Mrs. John Bradley (Florence Briggs Thayer) Cum...   \n",
       "2           1       3                              Miss. Laina Heikkinen   \n",
       "3           1       1        Mrs. Jacques Heath (Lily May Peel) Futrelle   \n",
       "4           0       3                            Mr. William Henry Allen   \n",
       "..        ...     ...                                                ...   \n",
       "882         0       2                               Rev. Juozas Montvila   \n",
       "883         1       1                        Miss. Margaret Edith Graham   \n",
       "884         0       3                     Miss. Catherine Helen Johnston   \n",
       "885         1       1                               Mr. Karl Howell Behr   \n",
       "886         0       3                                 Mr. Patrick Dooley   \n",
       "\n",
       "        Sex   Age  Siblings/Spouses Aboard  Parents/Children Aboard     Fare  \n",
       "0      male  22.0                        1                        0   7.2500  \n",
       "1    female  38.0                        1                        0  71.2833  \n",
       "2    female  26.0                        0                        0   7.9250  \n",
       "3    female  35.0                        1                        0  53.1000  \n",
       "4      male  35.0                        0                        0   8.0500  \n",
       "..      ...   ...                      ...                      ...      ...  \n",
       "882    male  27.0                        0                        0  13.0000  \n",
       "883  female  19.0                        0                        0  30.0000  \n",
       "884  female   7.0                        1                        2  23.4500  \n",
       "885    male  26.0                        0                        0  30.0000  \n",
       "886    male  32.0                        0                        0   7.7500  \n",
       "\n",
       "[887 rows x 8 columns]"
      ]
     },
     "execution_count": 22,
     "metadata": {},
     "output_type": "execute_result"
    }
   ],
   "source": [
    "titanic = pd.read_csv(\"titanic.csv\")\n",
    "titanic"
   ]
  },
  {
   "cell_type": "code",
   "execution_count": 23,
   "metadata": {},
   "outputs": [
    {
     "data": {
      "text/plain": [
       "Index(['Survived', 'Pclass', 'Name', 'Sex', 'Age', 'Siblings/Spouses Aboard',\n",
       "       'Parents/Children Aboard', 'Fare'],\n",
       "      dtype='object')"
      ]
     },
     "execution_count": 23,
     "metadata": {},
     "output_type": "execute_result"
    }
   ],
   "source": [
    "titanic.columns"
   ]
  },
  {
   "cell_type": "code",
   "execution_count": 24,
   "metadata": {},
   "outputs": [
    {
     "name": "stdout",
     "output_type": "stream",
     "text": [
      "A tree with 205 was created\n"
     ]
    },
    {
     "data": {
      "text/plain": [
       "<__main__.Tree at 0x7fc3a0aea150>"
      ]
     },
     "execution_count": 24,
     "metadata": {},
     "output_type": "execute_result"
    }
   ],
   "source": [
    "\n",
    "c_titanic = CART(titanic,\"Survived\",[\"Pclass\",\"Age\",\"Fare\",\"Siblings/Spouses Aboard\",\"Sex\",\"Parents/Children Aboard\"])\n",
    "c_titanic.create_tree(splittyness=1.01)"
   ]
  },
  {
   "cell_type": "code",
   "execution_count": 25,
   "metadata": {},
   "outputs": [
    {
     "data": {
      "text/plain": [
       "{'precision': array([0.92110092, 0.95614035]),\n",
       " 'recall': array([0.97098646, 0.88378378]),\n",
       " 'F-score': 0.9319626949364141,\n",
       " 'accuracy': 0.9346110484780158}"
      ]
     },
     "execution_count": 25,
     "metadata": {},
     "output_type": "execute_result"
    }
   ],
   "source": [
    "\n",
    "c_titanic.metrics()"
   ]
  },
  {
   "cell_type": "code",
   "execution_count": 26,
   "metadata": {},
   "outputs": [
    {
     "data": {
      "text/plain": [
       "{'alpha': [0,\n",
       "  0,\n",
       "  2.168404344971009e-19,\n",
       "  4.336808689942018e-19,\n",
       "  6.505213034913027e-19,\n",
       "  0.00016105653084232582,\n",
       "  0.00018789928598271337,\n",
       "  0.0002505323813102843,\n",
       "  0.00028184892897407,\n",
       "  0.00037579857196542624,\n",
       "  0.00037579857196542646,\n",
       "  0.0003757985719654267,\n",
       "  0.0003757985719654269,\n",
       "  0.00040264132710581425,\n",
       "  0.0004227733934611044,\n",
       "  0.0004509582863585108,\n",
       "  0.00045095828635851167,\n",
       "  0.00045095828635851313,\n",
       "  0.0004642217653690565,\n",
       "  0.0005636978579481397,\n",
       "  0.0005636978579481398,\n",
       "  0.0005636978579481399,\n",
       "  0.00056369785794814,\n",
       "  0.0005636978579481432,\n",
       "  0.0007515971439308535,\n",
       "  0.0007515971439308536,\n",
       "  0.0011273957158962787,\n",
       "  0.0011273957158962793,\n",
       "  0.0011273957158962795,\n",
       "  0.0011273957158962798,\n",
       "  0.00112739571589628,\n",
       "  0.0011273957158962802,\n",
       "  0.001691093573844421,\n",
       "  0.0016910935738444245,\n",
       "  0.0018789928598271315,\n",
       "  0.00479143179255918,\n",
       "  0.007891770011273967,\n",
       "  0.01071025930101465],\n",
       " 'R': [0.0653889515219842,\n",
       "  0.0653889515219842,\n",
       "  0.0653889515219842,\n",
       "  0.0653889515219842,\n",
       "  0.06764374295377677,\n",
       "  0.06877113866967305,\n",
       "  0.0710259301014656,\n",
       "  0.07215332581736189,\n",
       "  0.07440811724915444,\n",
       "  0.07779030439684329,\n",
       "  0.07891770011273956,\n",
       "  0.08004509582863584,\n",
       "  0.08568207440811725,\n",
       "  0.08906426155580607,\n",
       "  0.09131905298759863,\n",
       "  0.09808342728297631,\n",
       "  0.10033821871476889,\n",
       "  0.10822998872604284,\n",
       "  0.11048478015783539,\n",
       "  0.11386696730552423,\n",
       "  0.11499436302142052,\n",
       "  0.1161217587373168,\n",
       "  0.11724915445321307,\n",
       "  0.11950394588500565,\n",
       "  0.1217587373167982,\n",
       "  0.1228861330326945,\n",
       "  0.12514092446448705,\n",
       "  0.133032694475761,\n",
       "  0.13416009019165728,\n",
       "  0.13528748590755357,\n",
       "  0.13641488162344984,\n",
       "  0.13979706877113868,\n",
       "  0.14317925591882752,\n",
       "  0.1657271702367531,\n",
       "  0.18489289740698983,\n",
       "  0.1927846674182638,\n",
       "  0.2142051860202931,\n",
       "  0.38556933483652767],\n",
       " 'n_leafs': [187,\n",
       "  182,\n",
       "  181,\n",
       "  178,\n",
       "  164,\n",
       "  158,\n",
       "  149,\n",
       "  145,\n",
       "  139,\n",
       "  130,\n",
       "  127,\n",
       "  124,\n",
       "  110,\n",
       "  102,\n",
       "  97,\n",
       "  82,\n",
       "  77,\n",
       "  60,\n",
       "  56,\n",
       "  50,\n",
       "  48,\n",
       "  46,\n",
       "  44,\n",
       "  41,\n",
       "  38,\n",
       "  37,\n",
       "  35,\n",
       "  28,\n",
       "  27,\n",
       "  26,\n",
       "  25,\n",
       "  23,\n",
       "  21,\n",
       "  9,\n",
       "  5,\n",
       "  4,\n",
       "  2,\n",
       "  1]}"
      ]
     },
     "execution_count": 26,
     "metadata": {},
     "output_type": "execute_result"
    }
   ],
   "source": [
    "c_titanic.prune()\n"
   ]
  },
  {
   "cell_type": "code",
   "execution_count": 27,
   "metadata": {},
   "outputs": [
    {
     "name": "stdout",
     "output_type": "stream",
     "text": [
      "A tree with 259 was created\n"
     ]
    },
    {
     "data": {
      "text/plain": [
       "{'alpha': [0,\n",
       "  0,\n",
       "  2.168404344971009e-19,\n",
       "  4.336808689942018e-19,\n",
       "  6.505213034913027e-19,\n",
       "  0.00016105653084232582,\n",
       "  0.00018789928598271337,\n",
       "  0.0002505323813102843,\n",
       "  0.00028184892897407,\n",
       "  0.00037579857196542624,\n",
       "  0.0003757985719654263,\n",
       "  0.00037579857196542646,\n",
       "  0.0003757985719654265,\n",
       "  0.00037579857196542657,\n",
       "  0.0003757985719654267,\n",
       "  0.0003757985719654269,\n",
       "  0.00040264132710581425,\n",
       "  0.0004227733934611044,\n",
       "  0.0004509582863585108,\n",
       "  0.00045095828635851167,\n",
       "  0.00045095828635851313,\n",
       "  0.0004642217653690565,\n",
       "  0.0005636978579481397,\n",
       "  0.0005636978579481398,\n",
       "  0.0005636978579481399,\n",
       "  0.00056369785794814,\n",
       "  0.0005636978579481404,\n",
       "  0.0005636978579481432,\n",
       "  0.000751597143930853,\n",
       "  0.0007515971439308535,\n",
       "  0.0007515971439308536,\n",
       "  0.000805282654211628,\n",
       "  0.0011273957158962787,\n",
       "  0.0011273957158962791,\n",
       "  0.0011273957158962793,\n",
       "  0.0011273957158962795,\n",
       "  0.0011273957158962798,\n",
       "  0.00112739571589628,\n",
       "  0.0011273957158962802,\n",
       "  0.0013152950018789926,\n",
       "  0.0015501691093573848,\n",
       "  0.001691093573844421,\n",
       "  0.0016910935738444245],\n",
       " 'R': [0.018038331454340473,\n",
       "  0.018038331454340473,\n",
       "  0.018038331454340473,\n",
       "  0.018038331454340473,\n",
       "  0.020293122886133035,\n",
       "  0.021420518602029315,\n",
       "  0.023675310033821874,\n",
       "  0.024802705749718153,\n",
       "  0.02705749718151071,\n",
       "  0.028184892897406992,\n",
       "  0.03156708004509583,\n",
       "  0.03269447576099211,\n",
       "  0.033821871476888386,\n",
       "  0.03494926719278467,\n",
       "  0.036076662908680945,\n",
       "  0.04171364148816235,\n",
       "  0.04509582863585118,\n",
       "  0.047350620067643734,\n",
       "  0.05411499436302142,\n",
       "  0.056369785794813984,\n",
       "  0.06426155580608794,\n",
       "  0.06764374295377677,\n",
       "  0.07440811724915446,\n",
       "  0.07666290868094701,\n",
       "  0.07891770011273957,\n",
       "  0.08004509582863586,\n",
       "  0.08117249154453214,\n",
       "  0.08342728297632471,\n",
       "  0.08568207440811726,\n",
       "  0.08793686583990983,\n",
       "  0.09357384441939122,\n",
       "  0.0947012401352875,\n",
       "  0.09582863585118379,\n",
       "  0.10372040586245773,\n",
       "  0.11273957158962797,\n",
       "  0.11386696730552426,\n",
       "  0.11499436302142053,\n",
       "  0.11612175873731681,\n",
       "  0.12401352874859076,\n",
       "  0.13641488162344984,\n",
       "  0.13979706877113868,\n",
       "  0.14317925591882752,\n",
       "  0.1657271702367531],\n",
       " 'n_leafs': [241,\n",
       "  236,\n",
       "  235,\n",
       "  232,\n",
       "  218,\n",
       "  212,\n",
       "  203,\n",
       "  199,\n",
       "  193,\n",
       "  190,\n",
       "  181,\n",
       "  178,\n",
       "  175,\n",
       "  172,\n",
       "  169,\n",
       "  155,\n",
       "  147,\n",
       "  142,\n",
       "  127,\n",
       "  122,\n",
       "  105,\n",
       "  99,\n",
       "  87,\n",
       "  83,\n",
       "  79,\n",
       "  77,\n",
       "  75,\n",
       "  72,\n",
       "  69,\n",
       "  66,\n",
       "  59,\n",
       "  58,\n",
       "  57,\n",
       "  50,\n",
       "  42,\n",
       "  41,\n",
       "  40,\n",
       "  39,\n",
       "  33,\n",
       "  25,\n",
       "  23,\n",
       "  21,\n",
       "  9]}"
      ]
     },
     "execution_count": 27,
     "metadata": {},
     "output_type": "execute_result"
    }
   ],
   "source": [
    "c_titanic.create_tree()\n",
    "c_titanic.prune(alpha_max=1.7e-3)\n"
   ]
  },
  {
   "cell_type": "code",
   "execution_count": 28,
   "metadata": {},
   "outputs": [
    {
     "data": {
      "text/plain": [
       "{'precision': array([0.90458716, 0.72222222]),\n",
       " 'recall': array([0.83843537, 0.82608696]),\n",
       " 'F-score': 0.8204633922338358,\n",
       " 'accuracy': 0.8342728297632469}"
      ]
     },
     "execution_count": 28,
     "metadata": {},
     "output_type": "execute_result"
    }
   ],
   "source": [
    "c_titanic.metrics()\n"
   ]
  },
  {
   "cell_type": "code",
   "execution_count": 29,
   "metadata": {},
   "outputs": [
    {
     "data": {
      "text/plain": [
       "Index(['rowid', 'species', 'island', 'bill_length_mm', 'bill_depth_mm',\n",
       "       'flipper_length_mm', 'body_mass_g', 'sex', 'year'],\n",
       "      dtype='object')"
      ]
     },
     "execution_count": 29,
     "metadata": {},
     "output_type": "execute_result"
    }
   ],
   "source": [
    "\n",
    "penguins = pd.read_csv(\"penguins.txt\")\n",
    "penguins.columns"
   ]
  },
  {
   "cell_type": "code",
   "execution_count": 30,
   "metadata": {},
   "outputs": [
    {
     "data": {
      "text/html": [
       "<div>\n",
       "<style scoped>\n",
       "    .dataframe tbody tr th:only-of-type {\n",
       "        vertical-align: middle;\n",
       "    }\n",
       "\n",
       "    .dataframe tbody tr th {\n",
       "        vertical-align: top;\n",
       "    }\n",
       "\n",
       "    .dataframe thead th {\n",
       "        text-align: right;\n",
       "    }\n",
       "</style>\n",
       "<table border=\"1\" class=\"dataframe\">\n",
       "  <thead>\n",
       "    <tr style=\"text-align: right;\">\n",
       "      <th></th>\n",
       "      <th>rowid</th>\n",
       "      <th>species</th>\n",
       "      <th>island</th>\n",
       "      <th>bill_length_mm</th>\n",
       "      <th>bill_depth_mm</th>\n",
       "      <th>flipper_length_mm</th>\n",
       "      <th>body_mass_g</th>\n",
       "      <th>sex</th>\n",
       "      <th>year</th>\n",
       "    </tr>\n",
       "  </thead>\n",
       "  <tbody>\n",
       "    <tr>\n",
       "      <th>0</th>\n",
       "      <td>1</td>\n",
       "      <td>Adelie</td>\n",
       "      <td>Torgersen</td>\n",
       "      <td>39.1</td>\n",
       "      <td>18.7</td>\n",
       "      <td>181.0</td>\n",
       "      <td>3750.0</td>\n",
       "      <td>male</td>\n",
       "      <td>2007</td>\n",
       "    </tr>\n",
       "    <tr>\n",
       "      <th>1</th>\n",
       "      <td>2</td>\n",
       "      <td>Adelie</td>\n",
       "      <td>Torgersen</td>\n",
       "      <td>39.5</td>\n",
       "      <td>17.4</td>\n",
       "      <td>186.0</td>\n",
       "      <td>3800.0</td>\n",
       "      <td>female</td>\n",
       "      <td>2007</td>\n",
       "    </tr>\n",
       "    <tr>\n",
       "      <th>2</th>\n",
       "      <td>3</td>\n",
       "      <td>Adelie</td>\n",
       "      <td>Torgersen</td>\n",
       "      <td>40.3</td>\n",
       "      <td>18.0</td>\n",
       "      <td>195.0</td>\n",
       "      <td>3250.0</td>\n",
       "      <td>female</td>\n",
       "      <td>2007</td>\n",
       "    </tr>\n",
       "    <tr>\n",
       "      <th>3</th>\n",
       "      <td>4</td>\n",
       "      <td>Adelie</td>\n",
       "      <td>Torgersen</td>\n",
       "      <td>NaN</td>\n",
       "      <td>NaN</td>\n",
       "      <td>NaN</td>\n",
       "      <td>NaN</td>\n",
       "      <td>NaN</td>\n",
       "      <td>2007</td>\n",
       "    </tr>\n",
       "    <tr>\n",
       "      <th>4</th>\n",
       "      <td>5</td>\n",
       "      <td>Adelie</td>\n",
       "      <td>Torgersen</td>\n",
       "      <td>36.7</td>\n",
       "      <td>19.3</td>\n",
       "      <td>193.0</td>\n",
       "      <td>3450.0</td>\n",
       "      <td>female</td>\n",
       "      <td>2007</td>\n",
       "    </tr>\n",
       "    <tr>\n",
       "      <th>...</th>\n",
       "      <td>...</td>\n",
       "      <td>...</td>\n",
       "      <td>...</td>\n",
       "      <td>...</td>\n",
       "      <td>...</td>\n",
       "      <td>...</td>\n",
       "      <td>...</td>\n",
       "      <td>...</td>\n",
       "      <td>...</td>\n",
       "    </tr>\n",
       "    <tr>\n",
       "      <th>339</th>\n",
       "      <td>340</td>\n",
       "      <td>Chinstrap</td>\n",
       "      <td>Dream</td>\n",
       "      <td>55.8</td>\n",
       "      <td>19.8</td>\n",
       "      <td>207.0</td>\n",
       "      <td>4000.0</td>\n",
       "      <td>male</td>\n",
       "      <td>2009</td>\n",
       "    </tr>\n",
       "    <tr>\n",
       "      <th>340</th>\n",
       "      <td>341</td>\n",
       "      <td>Chinstrap</td>\n",
       "      <td>Dream</td>\n",
       "      <td>43.5</td>\n",
       "      <td>18.1</td>\n",
       "      <td>202.0</td>\n",
       "      <td>3400.0</td>\n",
       "      <td>female</td>\n",
       "      <td>2009</td>\n",
       "    </tr>\n",
       "    <tr>\n",
       "      <th>341</th>\n",
       "      <td>342</td>\n",
       "      <td>Chinstrap</td>\n",
       "      <td>Dream</td>\n",
       "      <td>49.6</td>\n",
       "      <td>18.2</td>\n",
       "      <td>193.0</td>\n",
       "      <td>3775.0</td>\n",
       "      <td>male</td>\n",
       "      <td>2009</td>\n",
       "    </tr>\n",
       "    <tr>\n",
       "      <th>342</th>\n",
       "      <td>343</td>\n",
       "      <td>Chinstrap</td>\n",
       "      <td>Dream</td>\n",
       "      <td>50.8</td>\n",
       "      <td>19.0</td>\n",
       "      <td>210.0</td>\n",
       "      <td>4100.0</td>\n",
       "      <td>male</td>\n",
       "      <td>2009</td>\n",
       "    </tr>\n",
       "    <tr>\n",
       "      <th>343</th>\n",
       "      <td>344</td>\n",
       "      <td>Chinstrap</td>\n",
       "      <td>Dream</td>\n",
       "      <td>50.2</td>\n",
       "      <td>18.7</td>\n",
       "      <td>198.0</td>\n",
       "      <td>3775.0</td>\n",
       "      <td>female</td>\n",
       "      <td>2009</td>\n",
       "    </tr>\n",
       "  </tbody>\n",
       "</table>\n",
       "<p>344 rows × 9 columns</p>\n",
       "</div>"
      ],
      "text/plain": [
       "     rowid    species     island  bill_length_mm  bill_depth_mm  \\\n",
       "0        1     Adelie  Torgersen            39.1           18.7   \n",
       "1        2     Adelie  Torgersen            39.5           17.4   \n",
       "2        3     Adelie  Torgersen            40.3           18.0   \n",
       "3        4     Adelie  Torgersen             NaN            NaN   \n",
       "4        5     Adelie  Torgersen            36.7           19.3   \n",
       "..     ...        ...        ...             ...            ...   \n",
       "339    340  Chinstrap      Dream            55.8           19.8   \n",
       "340    341  Chinstrap      Dream            43.5           18.1   \n",
       "341    342  Chinstrap      Dream            49.6           18.2   \n",
       "342    343  Chinstrap      Dream            50.8           19.0   \n",
       "343    344  Chinstrap      Dream            50.2           18.7   \n",
       "\n",
       "     flipper_length_mm  body_mass_g     sex  year  \n",
       "0                181.0       3750.0    male  2007  \n",
       "1                186.0       3800.0  female  2007  \n",
       "2                195.0       3250.0  female  2007  \n",
       "3                  NaN          NaN     NaN  2007  \n",
       "4                193.0       3450.0  female  2007  \n",
       "..                 ...          ...     ...   ...  \n",
       "339              207.0       4000.0    male  2009  \n",
       "340              202.0       3400.0  female  2009  \n",
       "341              193.0       3775.0    male  2009  \n",
       "342              210.0       4100.0    male  2009  \n",
       "343              198.0       3775.0  female  2009  \n",
       "\n",
       "[344 rows x 9 columns]"
      ]
     },
     "execution_count": 30,
     "metadata": {},
     "output_type": "execute_result"
    }
   ],
   "source": [
    "penguins"
   ]
  },
  {
   "cell_type": "code",
   "execution_count": 31,
   "metadata": {},
   "outputs": [],
   "source": [
    "c_penguins = CART(penguins,\"species\",[\"island\",\"bill_length_mm\",\"bill_depth_mm\",\"flipper_length_mm\",\"body_mass_g\",\"sex\"])"
   ]
  },
  {
   "cell_type": "code",
   "execution_count": 32,
   "metadata": {},
   "outputs": [
    {
     "name": "stdout",
     "output_type": "stream",
     "text": [
      "A tree with 15 was created\n"
     ]
    },
    {
     "data": {
      "text/plain": [
       "<__main__.Tree at 0x7fc39e575bd0>"
      ]
     },
     "execution_count": 32,
     "metadata": {},
     "output_type": "execute_result"
    }
   ],
   "source": [
    "c_penguins.create_tree()"
   ]
  },
  {
   "cell_type": "code",
   "execution_count": 33,
   "metadata": {},
   "outputs": [
    {
     "data": {
      "text/plain": [
       "{'precision': array([1., 1., 1.]),\n",
       " 'recall': array([1., 1., 1.]),\n",
       " 'F-score': 1.0,\n",
       " 'accuracy': 1.0}"
      ]
     },
     "execution_count": 33,
     "metadata": {},
     "output_type": "execute_result"
    }
   ],
   "source": [
    "c_penguins.metrics()"
   ]
  },
  {
   "cell_type": "code",
   "execution_count": 34,
   "metadata": {},
   "outputs": [
    {
     "data": {
      "text/plain": [
       "{'alpha': [0,\n",
       "  0.001453488372093023,\n",
       "  0.002906976744186046,\n",
       "  0.002906976744186047,\n",
       "  0.0029069767441860478,\n",
       "  0.004844961240310083,\n",
       "  0.0058139534883720955,\n",
       "  0.00872093023255814,\n",
       "  0.023255813953488393,\n",
       "  0.14244186046511625],\n",
       " 'R': [0.002906976744186046,\n",
       "  0.005813953488372092,\n",
       "  0.00872093023255814,\n",
       "  0.011627906976744188,\n",
       "  0.026162790697674437,\n",
       "  0.03779069767441863,\n",
       "  0.04651162790697677,\n",
       "  0.06976744186046516,\n",
       "  0.21220930232558144,\n",
       "  0.5581395348837209],\n",
       " 'n_leafs': [13, 12, 11, 10, 7, 5, 4, 3, 2, 1]}"
      ]
     },
     "execution_count": 34,
     "metadata": {},
     "output_type": "execute_result"
    }
   ],
   "source": [
    "c_penguins.prune()\n"
   ]
  },
  {
   "cell_type": "code",
   "execution_count": 35,
   "metadata": {},
   "outputs": [
    {
     "name": "stdout",
     "output_type": "stream",
     "text": [
      "A tree with 15 was created\n"
     ]
    },
    {
     "data": {
      "text/plain": [
       "{'alpha': [0,\n",
       "  0.001453488372093023,\n",
       "  0.002906976744186046,\n",
       "  0.002906976744186047,\n",
       "  0.0029069767441860478,\n",
       "  0.004844961240310083],\n",
       " 'R': [0.002906976744186046,\n",
       "  0.005813953488372092,\n",
       "  0.00872093023255814,\n",
       "  0.011627906976744188,\n",
       "  0.026162790697674437,\n",
       "  0.03779069767441863],\n",
       " 'n_leafs': [13, 12, 11, 10, 7, 5]}"
      ]
     },
     "execution_count": 35,
     "metadata": {},
     "output_type": "execute_result"
    }
   ],
   "source": [
    "c_penguins.create_tree()\n",
    "c_penguins.prune(alpha_max=5e-3)"
   ]
  },
  {
   "cell_type": "code",
   "execution_count": 36,
   "metadata": {},
   "outputs": [
    {
     "data": {
      "text/plain": [
       "<bound method CART.metrics of <__main__.CART object at 0x7fc39e5b7690>>"
      ]
     },
     "execution_count": 36,
     "metadata": {},
     "output_type": "execute_result"
    }
   ],
   "source": [
    "c_penguins.metrics"
   ]
  },
  {
   "cell_type": "code",
   "execution_count": 37,
   "metadata": {},
   "outputs": [
    {
     "name": "stdout",
     "output_type": "stream",
     "text": [
      "flipper_length_mm<204.36\n",
      "├── bill_length_mm<43.68\n",
      "│   ├── Adelie\n",
      "│   └── Chinstrap\n",
      "└── island in ('Dream', 'Torgersen')\n",
      "    ├── Gentoo\n",
      "    └── bill_length_mm<44.34\n",
      "        ├── Adelie\n",
      "        └── Chinstrap\n",
      "\n"
     ]
    }
   ],
   "source": [
    "c_penguins.tree.show()"
   ]
  },
  {
   "cell_type": "code",
   "execution_count": 38,
   "metadata": {},
   "outputs": [
    {
     "name": "stdout",
     "output_type": "stream",
     "text": [
      "Sex in ('male',)\n",
      "├── Pclass<1.47\n",
      "│   ├── 0\n",
      "│   └── Age<45.02\n",
      "│       ├── 0\n",
      "│       └── Age<10.37\n",
      "│           ├── 0\n",
      "│           └── Siblings/Spouses Aboard<1.17\n",
      "│               ├── 0\n",
      "│               └── 1\n",
      "└── Pclass<2.24\n",
      "    ├── 1\n",
      "    └── Fare<24.67\n",
      "        ├── 0\n",
      "        └── Age<37.99\n",
      "            ├── 0\n",
      "            └── 1\n",
      "\n"
     ]
    }
   ],
   "source": [
    "c_titanic.tree.show()"
   ]
  },
  {
   "cell_type": "code",
   "execution_count": 39,
   "metadata": {},
   "outputs": [
    {
     "name": "stdout",
     "output_type": "stream",
     "text": [
      "petal_length<2.30\n",
      "├── petal_width<1.65\n",
      "│   ├── versicolor\n",
      "│   └── virginica\n",
      "└── setosa\n",
      "\n"
     ]
    }
   ],
   "source": [
    "c.tree.show()"
   ]
  },
  {
   "cell_type": "code",
   "execution_count": 40,
   "metadata": {},
   "outputs": [
    {
     "name": "stdout",
     "output_type": "stream",
     "text": [
      "A tree with 12 was created\n",
      "{'alpha': [0, 0, 0.0016666666666666642, 0.006666666666666663, 0.29333333333333333], 'R': [0.006666666666666665, 0.013333333333333322, 0.03999999999999997, 0.3333333333333333, 0.6666666666666667], 'n_leafs': [11, 7, 3, 2, 1]}\n",
      "A tree with 11 was created\n",
      "{'alpha': [0, 0, 8.673617379884035e-18, 0.004166666666666668, 0.008333333333333333, 0.26666666666666666], 'R': [0.008333333333333331, 0.00833333333333334, 0.016666666666666677, 0.05000000000000001, 0.31666666666666665, 0.6416666666666666], 'n_leafs': [10, 9, 7, 3, 2, 1], 'A_cv': [1.0, 1.0, 1.0, 1.0, 0.6, 0.23333333333333334], 'R_cv': [array([1., 1., 1.]), array([1., 1., 1.]), array([1., 1., 1.]), array([1., 1., 1.]), array([1.        ,        nan, 0.36842105]), array([       nan,        nan, 0.23333333])], 'P_cv': [array([1., 1., 1.]), array([1., 1., 1.]), array([1., 1., 1.]), array([1., 1., 1.]), array([1., 0., 1.]), array([0., 0., 1.])], 'F_cv': [1.0, 1.0, 1.0, 1.0, nan, nan]}\n"
     ]
    },
    {
     "name": "stderr",
     "output_type": "stream",
     "text": [
      "/srv/conda/envs/notebook/lib/python3.7/site-packages/ipykernel_launcher.py:289: RuntimeWarning: invalid value encountered in true_divide\n"
     ]
    },
    {
     "name": "stdout",
     "output_type": "stream",
     "text": [
      "A tree with 9 was created\n",
      "{'alpha': [0, 0, 0.00416666666666667, 0.0125, 0.3], 'R': [0.008333333333333325, 0.016666666666666663, 0.041666666666666664, 0.3416666666666667, 0.65], 'n_leafs': [7, 5, 3, 2, 1], 'A_cv': [0.9666666666666667, 0.9666666666666667, 0.9666666666666667, 0.7, 0.26666666666666666], 'R_cv': [array([1.        , 0.88888889, 1.        ]), array([1.        , 0.88888889, 1.        ]), array([1.        , 0.88888889, 1.        ]), array([1.        , 0.47058824,        nan]), array([       nan, 0.26666667,        nan])], 'P_cv': [array([1.        , 1.        , 0.88888889]), array([1.        , 1.        , 0.88888889]), array([1.        , 1.        , 0.88888889]), array([1., 1., 0.]), array([0., 1., 0.])], 'F_cv': [0.9607843137254902, 0.9607843137254902, 0.9607843137254902, nan, nan]}\n",
      "A tree with 6 was created\n",
      "{'alpha': [0, 0, 0.016666666666666684, 0.2583333333333333], 'R': [0.008333333333333326, 0.02500000000000001, 0.2833333333333333, 0.625], 'n_leafs': [4, 3, 2, 1], 'A_cv': [0.9, 0.9, 0.4666666666666667, 0.16666666666666666], 'R_cv': [array([1.        , 0.8       , 0.93333333]), array([1.        , 0.8       , 0.93333333]), array([1.  , 0.36,  nan]), array([0.16666667,        nan,        nan])], 'P_cv': [array([1.        , 0.88888889, 0.875     ]), array([1.        , 0.88888889, 0.875     ]), array([1., 1., 0.]), array([1., 0., 0.])], 'F_cv': [0.9151103565365025, 0.9151103565365025, nan, nan]}\n",
      "A tree with 11 was created\n",
      "{'alpha': [0, 0, 0.005555555555555557, 0.3], 'R': [0.008333333333333325, 0.041666666666666664, 0.3416666666666667, 0.6583333333333333], 'n_leafs': [9, 3, 2, 1], 'A_cv': [0.9666666666666667, 0.9666666666666667, 0.7, 0.3], 'R_cv': [array([1. , 0.9, 1. ]), array([1. , 0.9, 1. ]), array([1. , 0.5, nan]), array([nan, 0.3, nan])], 'P_cv': [array([1.        , 1.        , 0.88888889]), array([1.        , 1.        , 0.88888889]), array([1., 1., 0.]), array([0., 1., 0.])], 'F_cv': [0.9628482972136223, 0.9628482972136223, nan, nan]}\n",
      "A tree with 10 was created\n",
      "{'alpha': [0, 0.002777777777777775, 0.008333333333333331, 0.275], 'R': [0.008333333333333325, 0.04166666666666665, 0.31666666666666665, 0.6583333333333333], 'n_leafs': [7, 3, 2, 1], 'A_cv': [0.9666666666666667, 0.9666666666666667, 0.6, 0.3], 'R_cv': [array([1. , 1. , 0.9]), array([1. , 1. , 0.9]), array([1.        ,        nan, 0.42857143]), array([0.3, nan, nan])], 'P_cv': [array([1.        , 0.91666667, 1.        ]), array([1.        , 0.91666667, 1.        ]), array([1., 0., 1.]), array([1., 0., 0.])], 'F_cv': [0.9679633867276888, 0.9679633867276888, nan, nan]}\n"
     ]
    },
    {
     "data": {
      "image/png": "[encoded data removed]",
      "text/plain": [
       "<Figure size 640x480 with 1 Axes>"
      ]
     },
     "metadata": {},
     "output_type": "display_data"
    }
   ],
   "source": [
    "c.train()\n"
   ]
  },
  {
   "cell_type": "code",
   "execution_count": 42,
   "metadata": {},
   "outputs": [
    {
     "name": "stdout",
     "output_type": "stream",
     "text": [
      "A tree with 259 was created\n",
      "{'alpha': [0, 0, 2.168404344971009e-19, 4.336808689942018e-19, 6.505213034913027e-19, 0.00016105653084232582, 0.00018789928598271337, 0.0002505323813102843, 0.00028184892897407, 0.00037579857196542624, 0.0003757985719654263, 0.00037579857196542646, 0.0003757985719654265, 0.00037579857196542657, 0.0003757985719654267, 0.0003757985719654269, 0.00040264132710581425, 0.0004227733934611044, 0.0004509582863585108, 0.00045095828635851167, 0.00045095828635851313, 0.0004642217653690565, 0.0005636978579481397, 0.0005636978579481398, 0.0005636978579481399, 0.00056369785794814, 0.0005636978579481404, 0.0005636978579481432, 0.000751597143930853, 0.0007515971439308535, 0.0007515971439308536, 0.000805282654211628, 0.0011273957158962787, 0.0011273957158962791, 0.0011273957158962793, 0.0011273957158962795, 0.0011273957158962798, 0.00112739571589628, 0.0011273957158962802, 0.0013152950018789926, 0.0015501691093573848, 0.001691093573844421, 0.0016910935738444245, 0.0018789928598271315, 0.00479143179255918, 0.007891770011273967, 0.01071025930101465], 'R': [0.018038331454340473, 0.018038331454340473, 0.018038331454340473, 0.018038331454340473, 0.020293122886133035, 0.021420518602029315, 0.023675310033821874, 0.024802705749718153, 0.02705749718151071, 0.028184892897406992, 0.03156708004509583, 0.03269447576099211, 0.033821871476888386, 0.03494926719278467, 0.036076662908680945, 0.04171364148816235, 0.04509582863585118, 0.047350620067643734, 0.05411499436302142, 0.056369785794813984, 0.06426155580608794, 0.06764374295377677, 0.07440811724915446, 0.07666290868094701, 0.07891770011273957, 0.08004509582863586, 0.08117249154453214, 0.08342728297632471, 0.08568207440811726, 0.08793686583990983, 0.09357384441939122, 0.0947012401352875, 0.09582863585118379, 0.10372040586245773, 0.11273957158962797, 0.11386696730552426, 0.11499436302142053, 0.11612175873731681, 0.12401352874859076, 0.13641488162344984, 0.13979706877113868, 0.14317925591882752, 0.1657271702367531, 0.18489289740698983, 0.1927846674182638, 0.2142051860202931, 0.38556933483652767], 'n_leafs': [241, 236, 235, 232, 218, 212, 203, 199, 193, 190, 181, 178, 175, 172, 169, 155, 147, 142, 127, 122, 105, 99, 87, 83, 79, 77, 75, 72, 69, 66, 59, 58, 57, 50, 42, 41, 40, 39, 33, 25, 23, 21, 9, 5, 4, 2, 1]}\n",
      "A tree with 218 was created\n"
     ]
    },
    {
     "name": "stderr",
     "output_type": "stream",
     "text": [
      "/srv/conda/envs/notebook/lib/python3.7/site-packages/ipykernel_launcher.py:289: RuntimeWarning: invalid value encountered in true_divide\n"
     ]
    },
    {
     "name": "stdout",
     "output_type": "stream",
     "text": [
      "{'alpha': [0, 0, 2.168404344971009e-19, 6.505213034913027e-19, 0.0003526093088857547, 0.00040298206729800525, 0.0004513399153737656, 0.0004701457451810058, 0.00047014574518100603, 0.0004701457451810061, 0.00047014574518100625, 0.0004701457451810063, 0.0004701457451810065, 0.0004701457451810067, 0.0005641748942172073, 0.0005641748942172081, 0.0006681018484151138, 0.0007052186177715084, 0.000705218617771509, 0.0007052186177715092, 0.0007052186177715093, 0.0008462623413258114, 0.0009402914903620122, 0.0010578279266572632, 0.0010578279266572638, 0.0014104372355430179, 0.001410437235543018, 0.0014104372355430183, 0.0014104372355430187, 0.001410437235543019, 0.0024682651622002817, 0.002538787023977432, 0.0028208744710860366, 0.0028208744710860358, 0.00376116596144805, 0.0070521861777151015, 0.011988716502115651], 'R': [0.00846262341325811, 0.00846262341325811, 0.00846262341325811, 0.00987306064880113, 0.012693935119887166, 0.02397743300423131, 0.025387870239774325, 0.02961918194640338, 0.03526093088857545, 0.03808180535966149, 0.03949224259520451, 0.040902679830747524, 0.04231311706629055, 0.0535966149506347, 0.056417489421720736, 0.0691114245416079, 0.07334273624823695, 0.07898448519040902, 0.08744710860366714, 0.09167842031029619, 0.09590973201692524, 0.10155148095909733, 0.10578279266572638, 0.11424541607898447, 0.1156558533145275, 0.11847672778561354, 0.12129760225669957, 0.1241184767277856, 0.12552891396332863, 0.13540197461212977, 0.14809590973201692, 0.15373765867418898, 0.16502115655853314, 0.18758815232722142, 0.19464033850493653, 0.21861777150916784, 0.37658674188998587], 'n_leafs': [211, 209, 208, 204, 197, 172, 169, 160, 148, 142, 139, 136, 133, 113, 108, 89, 83, 75, 63, 57, 52, 46, 42, 34, 33, 31, 29, 27, 26, 22, 17, 15, 11, 5, 4, 2, 1], 'A_cv': [0.7752808988764045, 0.7752808988764045, 0.7752808988764045, 0.7752808988764045, 0.7752808988764045, 0.8033707865168539, 0.8033707865168539, 0.8033707865168539, 0.8033707865168539, 0.8089887640449438, 0.8146067415730337, 0.8146067415730337, 0.8146067415730337, 0.8314606741573034, 0.8370786516853933, 0.848314606741573, 0.8539325842696629, 0.8426966292134831, 0.8426966292134831, 0.8370786516853933, 0.8370786516853933, 0.8426966292134831, 0.8370786516853933, 0.8426966292134831, 0.8426966292134831, 0.8426966292134831, 0.8426966292134831, 0.8426966292134831, 0.8314606741573034, 0.848314606741573, 0.8426966292134831, 0.8314606741573034, 0.8539325842696629, 0.8314606741573034, 0.8146067415730337, 0.8033707865168539, 0.5786516853932584], 'R_cv': [array([0.81188119, 0.72727273]), array([0.81188119, 0.72727273]), array([0.81188119, 0.72727273]), array([0.81188119, 0.72727273]), array([0.81188119, 0.72727273]), array([0.82075472, 0.77777778]), array([0.82075472, 0.77777778]), array([0.82075472, 0.77777778]), array([0.82075472, 0.77777778]), array([0.82242991, 0.78873239]), array([0.82407407, 0.8       ]), array([0.82407407, 0.8       ]), array([0.82407407, 0.8       ]), array([0.83486239, 0.82608696]), array([0.84259259, 0.82857143]), array([0.84545455, 0.85294118]), array([0.85321101, 0.85507246]), array([0.83783784, 0.85074627]), array([0.83783784, 0.85074627]), array([0.83636364, 0.83823529]), array([0.83636364, 0.83823529]), array([0.83783784, 0.85074627]), array([0.83636364, 0.83823529]), array([0.83783784, 0.85074627]), array([0.83783784, 0.85074627]), array([0.8440367 , 0.84057971]), array([0.8440367 , 0.84057971]), array([0.8440367 , 0.84057971]), array([0.82882883, 0.8358209 ]), array([0.86538462, 0.82432432]), array([0.87128713, 0.80519481]), array([0.86868687, 0.78481013]), array([0.85321101, 0.85507246]), array([0.8173913 , 0.85714286]), array([0.8125    , 0.81818182]), array([0.80909091, 0.79411765]), array([0.57865169,        nan])], 'P_cv': [array([0.7961165 , 0.74666667]), array([0.7961165 , 0.74666667]), array([0.7961165 , 0.74666667]), array([0.7961165 , 0.74666667]), array([0.7961165 , 0.74666667]), array([0.84466019, 0.74666667]), array([0.84466019, 0.74666667]), array([0.84466019, 0.74666667]), array([0.84466019, 0.74666667]), array([0.85436893, 0.74666667]), array([0.86407767, 0.74666667]), array([0.86407767, 0.74666667]), array([0.86407767, 0.74666667]), array([0.88349515, 0.76      ]), array([0.88349515, 0.77333333]), array([0.90291262, 0.77333333]), array([0.90291262, 0.78666667]), array([0.90291262, 0.76      ]), array([0.90291262, 0.76      ]), array([0.89320388, 0.76      ]), array([0.89320388, 0.76      ]), array([0.90291262, 0.76      ]), array([0.89320388, 0.76      ]), array([0.90291262, 0.76      ]), array([0.90291262, 0.76      ]), array([0.89320388, 0.77333333]), array([0.89320388, 0.77333333]), array([0.89320388, 0.77333333]), array([0.89320388, 0.74666667]), array([0.87378641, 0.81333333]), array([0.85436893, 0.82666667]), array([0.83495146, 0.82666667]), array([0.90291262, 0.78666667]), array([0.91262136, 0.72      ]), array([0.88349515, 0.72      ]), array([0.86407767, 0.72      ]), array([1., 0.])], 'F_cv': [0.7703818369453044, 0.7703818369453044, 0.7703818369453044, 0.7703818369453044, 0.7703818369453044, 0.797220323536113, 0.797220323536113, 0.797220323536113, 0.797220323536113, 0.8026092628832355, 0.8080078444190226, 0.8080078444190226, 0.8080078444190226, 0.8250786163522013, 0.8312796208530806, 0.8422141239042648, 0.8484014675052411, 0.8359878899565618, 0.8359878899565618, 0.8305262812305065, 0.8305262812305065, 0.8359878899565618, 0.8305262812305065, 0.8359878899565618, 0.8359878899565618, 0.8367400419287212, 0.8367400419287212, 0.8367400419287212, 0.8242727392391733, 0.8441785818500146, 0.8392672858617132, 0.8283399768548283, 0.8484014675052411, 0.8224970083765457, 0.8062345373577438, 0.795462753209232, nan]}\n",
      "A tree with 205 was created\n",
      "{'alpha': [0, 0, 2.168404344971009e-19, 4.336808689942018e-19, 6.505213034913027e-19, 1.951563910473908e-18, 0.00031343049678733746, 0.0003526093088857536, 0.00035260930888575414, 0.0003526093088857548, 0.00047014574518100544, 0.00047014574518100603, 0.0004701457451810061, 0.0004701457451810062, 0.0005876821814762574, 0.0006222517215630964, 0.0007052186177715089, 0.000705218617771509, 0.0007052186177715092, 0.0007052186177715093, 0.0007052186177715094, 0.0007052186177715095, 0.0007052186177715159, 0.0009402914903620122, 0.0010578279266572636, 0.0010578279266572638, 0.0014104372355430174, 0.0014104372355430179, 0.001410437235543018, 0.0014104372355430183, 0.0014104372355430187, 0.0018805829807240243, 0.0019393511988716494, 0.0021156558533145277, 0.0021156558533145286, 0.002350728725905034, 0.0028208744710860358, 0.002820874471086036, 0.0052891396332863175, 0.0070521861777151015, 0.01128349788434413], 'R': [0.0155148095909732, 0.0155148095909732, 0.0155148095909732, 0.0155148095909732, 0.015514809590973202, 0.02115655853314528, 0.02256699576868829, 0.023977433004231306, 0.026798307475317345, 0.02820874471086036, 0.03244005641748941, 0.03385049365303243, 0.03526093088857545, 0.04231311706629054, 0.06346967559943582, 0.06911142454160789, 0.07334273624823694, 0.07616361071932298, 0.08039492242595203, 0.08180535966149505, 0.08321579689703806, 0.08462623413258111, 0.08744710860366714, 0.09167842031029619, 0.09590973201692524, 0.09873060648801128, 0.10014104372355431, 0.10155148095909733, 0.10437235543018336, 0.11001410437235544, 0.11565585331452752, 0.13117066290550072, 0.13540197461212977, 0.13963328631875882, 0.1466854724964739, 0.14950634696755996, 0.16925246826516221, 0.19040902679830746, 0.1974612129760226, 0.22002820874471085, 0.39351198871650217], 'n_leafs': [190, 187, 186, 185, 184, 166, 162, 158, 150, 147, 138, 135, 132, 120, 86, 78, 72, 68, 62, 60, 58, 56, 53, 49, 45, 43, 42, 41, 39, 35, 32, 24, 22, 20, 17, 16, 9, 5, 4, 2, 1], 'A_cv': [0.7921348314606742, 0.7921348314606742, 0.7921348314606742, 0.7921348314606742, 0.7921348314606742, 0.7921348314606742, 0.7921348314606742, 0.797752808988764, 0.797752808988764, 0.797752808988764, 0.797752808988764, 0.797752808988764, 0.797752808988764, 0.8033707865168539, 0.8370786516853933, 0.8370786516853933, 0.8370786516853933, 0.8370786516853933, 0.8370786516853933, 0.8370786516853933, 0.8370786516853933, 0.8370786516853933, 0.8314606741573034, 0.8370786516853933, 0.8370786516853933, 0.8370786516853933, 0.8370786516853933, 0.8370786516853933, 0.8314606741573034, 0.8426966292134831, 0.848314606741573, 0.848314606741573, 0.848314606741573, 0.848314606741573, 0.848314606741573, 0.8426966292134831, 0.8539325842696629, 0.8426966292134831, 0.8258426966292135, 0.8089887640449438, 0.6460674157303371], 'R_cv': [array([0.86111111, 0.68571429]), array([0.86111111, 0.68571429]), array([0.86111111, 0.68571429]), array([0.86111111, 0.68571429]), array([0.86111111, 0.68571429]), array([0.86111111, 0.68571429]), array([0.86111111, 0.68571429]), array([0.86238532, 0.69565217]), array([0.86238532, 0.69565217]), array([0.86238532, 0.69565217]), array([0.86238532, 0.69565217]), array([0.86238532, 0.69565217]), array([0.86238532, 0.69565217]), array([0.87037037, 0.7       ]), array([0.87719298, 0.765625  ]), array([0.87719298, 0.765625  ]), array([0.87719298, 0.765625  ]), array([0.87719298, 0.765625  ]), array([0.87719298, 0.765625  ]), array([0.87719298, 0.765625  ]), array([0.87719298, 0.765625  ]), array([0.87719298, 0.765625  ]), array([0.86956522, 0.76190476]), array([0.87719298, 0.765625  ]), array([0.87719298, 0.765625  ]), array([0.87719298, 0.765625  ]), array([0.87719298, 0.765625  ]), array([0.87719298, 0.765625  ]), array([0.86956522, 0.76190476]), array([0.87826087, 0.77777778]), array([0.87288136, 0.8       ]), array([0.84920635, 0.84615385]), array([0.84375, 0.86   ]), array([0.84375, 0.86   ]), array([0.84375, 0.86   ]), array([0.83206107, 0.87234043]), array([0.86178862, 0.83636364]), array([0.848     , 0.83018868]), array([0.8442623 , 0.78571429]), array([0.84615385, 0.73770492]), array([0.64606742,        nan])], 'P_cv': [array([0.80869565, 0.76190476]), array([0.80869565, 0.76190476]), array([0.80869565, 0.76190476]), array([0.80869565, 0.76190476]), array([0.80869565, 0.76190476]), array([0.80869565, 0.76190476]), array([0.80869565, 0.76190476]), array([0.8173913 , 0.76190476]), array([0.8173913 , 0.76190476]), array([0.8173913 , 0.76190476]), array([0.8173913 , 0.76190476]), array([0.8173913 , 0.76190476]), array([0.8173913 , 0.76190476]), array([0.8173913 , 0.77777778]), array([0.86956522, 0.77777778]), array([0.86956522, 0.77777778]), array([0.86956522, 0.77777778]), array([0.86956522, 0.77777778]), array([0.86956522, 0.77777778]), array([0.86956522, 0.77777778]), array([0.86956522, 0.77777778]), array([0.86956522, 0.77777778]), array([0.86956522, 0.76190476]), array([0.86956522, 0.77777778]), array([0.86956522, 0.77777778]), array([0.86956522, 0.77777778]), array([0.86956522, 0.77777778]), array([0.86956522, 0.77777778]), array([0.86956522, 0.76190476]), array([0.87826087, 0.77777778]), array([0.89565217, 0.76190476]), array([0.93043478, 0.6984127 ]), array([0.93913043, 0.68253968]), array([0.93913043, 0.68253968]), array([0.93913043, 0.68253968]), array([0.94782609, 0.65079365]), array([0.92173913, 0.73015873]), array([0.92173913, 0.6984127 ]), array([0.89565217, 0.6984127 ]), array([0.86086957, 0.71428571]), array([1., 0.])], 'F_cv': [0.7779426143834924, 0.7779426143834924, 0.7779426143834924, 0.7779426143834924, 0.7779426143834924, 0.7779426143834924, 0.7779426143834924, 0.7832792207792207, 0.7832792207792207, 0.7832792207792207, 0.7832792207792207, 0.7832792207792207, 0.7832792207792207, 0.7899457163087089, 0.822507994360967, 0.822507994360967, 0.822507994360967, 0.822507994360967, 0.822507994360967, 0.822507994360967, 0.822507994360967, 0.822507994360967, 0.815734989648033, 0.822507994360967, 0.822507994360967, 0.822507994360967, 0.822507994360967, 0.822507994360967, 0.815734989648033, 0.8280193236714977, 0.8323039882759342, 0.8265920981418005, 0.8249754178957718, 0.8249754178957718, 0.8249754178957718, 0.8158167036215817, 0.8352086597350804, 0.820977011494253, 0.8043470552778073, 0.7896273637374862, nan]}\n",
      "A tree with 200 was created\n",
      "{'alpha': [0, 0, 2.168404344971009e-19, 3.2526065174565133e-19, 0.00038466470060264106, 0.0004701457451810061, 0.0004701457451810064, 0.0004701457451810065, 0.0004701457451810067, 0.0005093245572794229, 0.0005641748942172072, 0.0005641748942172073, 0.0005641748942172084, 0.0007052186177715087, 0.000705218617771509, 0.0007052186177715092, 0.0007052186177715093, 0.0007052186177715094, 0.0007052186177715095, 0.0008059641345960107, 0.0009402914903620076, 0.0010074551682450132, 0.001175364362952516, 0.0014104372355430172, 0.001410437235543018, 0.0014104372355430183, 0.0014104372355430185, 0.0014104372355430187, 0.0014104372355430192, 0.0018134193028410221, 0.002115655853314545, 0.002256699576868823, 0.0063469675599435865, 0.00775740479548661, 0.010578279266572649], 'R': [0.021156558533145277, 0.021156558533145277, 0.021156558533145277, 0.025387870239774325, 0.026798307475317345, 0.028208744710860365, 0.029619181946403384, 0.03244005641748943, 0.050775740479548644, 0.05359661495063468, 0.05641748942172072, 0.05923836389280676, 0.060648801128349784, 0.0705218617771509, 0.07616361071932297, 0.08039492242595203, 0.08180535966149505, 0.08321579689703806, 0.08885754583921013, 0.09167842031029616, 0.09873060648801125, 0.10578279266572636, 0.10719322990126938, 0.11283497884344144, 0.11565585331452748, 0.11706629055007049, 0.1255289139633286, 0.12693935119887162, 0.13963328631875876, 0.14386459802538787, 0.155148095909732, 0.16784203102961917, 0.18335684062059238, 0.20451339915373767, 0.386459802538787], 'n_leafs': [175, 173, 171, 160, 157, 154, 151, 145, 109, 104, 99, 94, 92, 78, 70, 64, 62, 60, 53, 50, 43, 37, 36, 32, 30, 29, 23, 22, 15, 13, 8, 6, 4, 2, 1], 'A_cv': [0.8033707865168539, 0.8033707865168539, 0.8033707865168539, 0.8089887640449438, 0.8089887640449438, 0.8089887640449438, 0.8089887640449438, 0.8089887640449438, 0.8146067415730337, 0.8146067415730337, 0.8146067415730337, 0.8146067415730337, 0.8146067415730337, 0.8089887640449438, 0.8033707865168539, 0.8089887640449438, 0.8089887640449438, 0.8202247191011236, 0.8202247191011236, 0.8258426966292135, 0.8426966292134831, 0.8426966292134831, 0.8426966292134831, 0.8370786516853933, 0.8370786516853933, 0.8370786516853933, 0.8258426966292135, 0.8258426966292135, 0.8258426966292135, 0.8258426966292135, 0.8202247191011236, 0.7865168539325843, 0.7752808988764045, 0.7471910112359551, 0.6179775280898876], 'R_cv': [array([0.82608696, 0.76190476]), array([0.82608696, 0.76190476]), array([0.82608696, 0.76190476]), array([0.82758621, 0.77419355]), array([0.82758621, 0.77419355]), array([0.82758621, 0.77419355]), array([0.82758621, 0.77419355]), array([0.82758621, 0.77419355]), array([0.82905983, 0.78688525]), array([0.82905983, 0.78688525]), array([0.82905983, 0.78688525]), array([0.82905983, 0.78688525]), array([0.82905983, 0.78688525]), array([0.82758621, 0.77419355]), array([0.82051282, 0.7704918 ]), array([0.81666667, 0.79310345]), array([0.81666667, 0.79310345]), array([0.81967213, 0.82142857]), array([0.81967213, 0.82142857]), array([0.82644628, 0.8245614 ]), array([0.84745763, 0.83333333]), array([0.83606557, 0.85714286]), array([0.83606557, 0.85714286]), array([0.83471074, 0.84210526]), array([0.83471074, 0.84210526]), array([0.83471074, 0.84210526]), array([0.82644628, 0.8245614 ]), array([0.82644628, 0.8245614 ]), array([0.85585586, 0.7761194 ]), array([0.85585586, 0.7761194 ]), array([0.84821429, 0.77272727]), array([0.83962264, 0.70833333]), array([0.83653846, 0.68918919]), array([0.79279279, 0.67164179]), array([0.61797753,        nan])], 'P_cv': [array([0.86363636, 0.70588235]), array([0.86363636, 0.70588235]), array([0.86363636, 0.70588235]), array([0.87272727, 0.70588235]), array([0.87272727, 0.70588235]), array([0.87272727, 0.70588235]), array([0.87272727, 0.70588235]), array([0.87272727, 0.70588235]), array([0.88181818, 0.70588235]), array([0.88181818, 0.70588235]), array([0.88181818, 0.70588235]), array([0.88181818, 0.70588235]), array([0.88181818, 0.70588235]), array([0.87272727, 0.70588235]), array([0.87272727, 0.69117647]), array([0.89090909, 0.67647059]), array([0.89090909, 0.67647059]), array([0.90909091, 0.67647059]), array([0.90909091, 0.67647059]), array([0.90909091, 0.69117647]), array([0.90909091, 0.73529412]), array([0.92727273, 0.70588235]), array([0.92727273, 0.70588235]), array([0.91818182, 0.70588235]), array([0.91818182, 0.70588235]), array([0.91818182, 0.70588235]), array([0.90909091, 0.69117647]), array([0.90909091, 0.69117647]), array([0.86363636, 0.76470588]), array([0.86363636, 0.76470588]), array([0.86363636, 0.75      ]), array([0.80909091, 0.75      ]), array([0.79090909, 0.75      ]), array([0.8       , 0.66176471]), array([1., 0.])], 'F_cv': [0.7886344359626802, 0.7886344359626802, 0.7886344359626802, 0.7940095302927161, 0.7940095302927161, 0.7940095302927161, 0.7940095302927161, 0.7940095302927161, 0.7994057985862104, 0.7994057985862104, 0.7994057985862104, 0.7994057985862104, 0.7994057985862104, 0.7940095302927161, 0.7872485742581019, 0.7911663216011042, 0.7911663216011042, 0.8020022246941045, 0.8020022246941045, 0.8089004329004328, 0.8292214912280701, 0.8267519466073414, 0.8267519466073414, 0.8212294372294372, 0.8212294372294372, 0.8212294372294372, 0.8089004329004328, 0.8089004329004328, 0.8150494385788503, 0.8150494385788503, 0.8085249428533011, 0.7763227513227513, 0.7656969856522311, 0.7315233785822022, nan]}\n",
      "A tree with 193 was created\n",
      "{'alpha': [0, 0, 2.168404344971009e-19, 6.505213034913027e-19, 0.00023507287259050353, 0.0003526093088857544, 0.00035260930888575496, 0.0004701457451810053, 0.00047014574518100603, 0.00047014574518100625, 0.00047014574518100647, 0.000604473100947008, 0.0007052186177715085, 0.000705218617771509, 0.0007052186177715093, 0.0007052186177715094, 0.0008462623413258107, 0.0008975509680728316, 0.000940291490362013, 0.0010578279266572634, 0.001410437235543017, 0.0014104372355430179, 0.001410437235543018, 0.0014104372355430183, 0.0014104372355430183, 0.0014104372355430185, 0.001410437235543019, 0.0014104372355430213, 0.0019393511988716498, 0.0021156558533145277, 0.0028208744710860358, 0.004231311706629062, 0.007052186177715081, 0.00846262341325811, 0.009873060648801127], 'R': [0.014104372355430182, 0.014104372355430182, 0.014104372355430182, 0.015514809590973202, 0.01692524682651622, 0.01833568406205924, 0.025387870239774322, 0.026798307475317338, 0.029619181946403377, 0.033850493653032436, 0.03808180535966149, 0.046544428772919595, 0.06064880112834978, 0.06911142454160789, 0.07193229901269392, 0.08039492242595203, 0.09026798307475317, 0.09308885754583922, 0.09732016925246828, 0.0987306064880113, 0.10578279266572638, 0.11988716502115657, 0.1227080394922426, 0.12552891396332863, 0.1297602256699577, 0.13258110014104374, 0.13399153737658676, 0.14950634696755996, 0.153737658674189, 0.15937940761636107, 0.16361071932299015, 0.1847672778561354, 0.1932299012693935, 0.21297602256699574, 0.390691114245416], 'n_leafs': [180, 178, 177, 171, 167, 163, 148, 145, 139, 130, 123, 111, 91, 79, 75, 65, 54, 51, 47, 46, 41, 31, 29, 27, 24, 22, 21, 13, 11, 9, 8, 5, 4, 2, 1], 'A_cv': [0.7696629213483146, 0.7640449438202247, 0.7640449438202247, 0.7640449438202247, 0.7640449438202247, 0.7640449438202247, 0.7752808988764045, 0.7696629213483146, 0.7808988764044944, 0.7808988764044944, 0.7865168539325843, 0.8033707865168539, 0.8202247191011236, 0.8202247191011236, 0.8089887640449438, 0.8033707865168539, 0.8033707865168539, 0.8033707865168539, 0.8033707865168539, 0.8033707865168539, 0.8033707865168539, 0.8146067415730337, 0.8146067415730337, 0.8089887640449438, 0.8033707865168539, 0.8033707865168539, 0.8033707865168539, 0.8089887640449438, 0.8089887640449438, 0.8089887640449438, 0.8089887640449438, 0.797752808988764, 0.7921348314606742, 0.7808988764044944, 0.6348314606741573], 'R_cv': [array([0.83962264, 0.66666667]), array([0.83809524, 0.65753425]), array([0.83809524, 0.65753425]), array([0.83809524, 0.65753425]), array([0.83809524, 0.65753425]), array([0.83809524, 0.65753425]), array([0.83486239, 0.68115942]), array([0.83333333, 0.67142857]), array([0.83636364, 0.69117647]), array([0.83636364, 0.69117647]), array([0.83185841, 0.70769231]), array([0.85454545, 0.72058824]), array([0.85840708, 0.75384615]), array([0.85217391, 0.76190476]), array([0.84955752, 0.73846154]), array([0.84821429, 0.72727273]), array([0.84210526, 0.734375  ]), array([0.84210526, 0.734375  ]), array([0.84210526, 0.734375  ]), array([0.84210526, 0.734375  ]), array([0.85454545, 0.72058824]), array([0.87037037, 0.72857143]), array([0.87037037, 0.72857143]), array([0.86238532, 0.72463768]), array([0.86792453, 0.70833333]), array([0.86792453, 0.70833333]), array([0.86792453, 0.70833333]), array([0.82113821, 0.78181818]), array([0.82113821, 0.78181818]), array([0.82113821, 0.78181818]), array([0.82644628, 0.77192982]), array([0.81300813, 0.76363636]), array([0.81147541, 0.75      ]), array([0.80833333, 0.72413793]), array([0.63483146,        nan])], 'P_cv': [array([0.78761062, 0.73846154]), array([0.77876106, 0.73846154]), array([0.77876106, 0.73846154]), array([0.77876106, 0.73846154]), array([0.77876106, 0.73846154]), array([0.77876106, 0.73846154]), array([0.80530973, 0.72307692]), array([0.79646018, 0.72307692]), array([0.81415929, 0.72307692]), array([0.81415929, 0.72307692]), array([0.83185841, 0.70769231]), array([0.83185841, 0.75384615]), array([0.85840708, 0.75384615]), array([0.86725664, 0.73846154]), array([0.84955752, 0.73846154]), array([0.84070796, 0.73846154]), array([0.84955752, 0.72307692]), array([0.84955752, 0.72307692]), array([0.84955752, 0.72307692]), array([0.84955752, 0.72307692]), array([0.83185841, 0.75384615]), array([0.83185841, 0.78461538]), array([0.83185841, 0.78461538]), array([0.83185841, 0.76923077]), array([0.81415929, 0.78461538]), array([0.81415929, 0.78461538]), array([0.81415929, 0.78461538]), array([0.89380531, 0.66153846]), array([0.89380531, 0.66153846]), array([0.89380531, 0.66153846]), array([0.88495575, 0.67692308]), array([0.88495575, 0.64615385]), array([0.87610619, 0.64615385]), array([0.85840708, 0.64615385]), array([1., 0.])], 'F_cv': [0.7567576575675767, 0.751495811727164, 0.751495811727164, 0.751495811727164, 0.751495811727164, 0.751495811727164, 0.7606561785666264, 0.7553879671526731, 0.7659395124582757, 0.7659395124582757, 0.7697753573859769, 0.7899457163087089, 0.8061266167460858, 0.8048245614035088, 0.7940095302927161, 0.7886344359626802, 0.7872485742581019, 0.7872485742581019, 0.7872485742581019, 0.7872485742581019, 0.7899457163087089, 0.8031171442936149, 0.8031171442936149, 0.7965577517816322, 0.792354097923541, 0.792354097923541, 0.792354097923541, 0.7862994350282485, 0.7862994350282485, 0.7862994350282485, 0.7880061650553454, 0.7737288135593221, 0.7683840337612099, 0.7577724275096829, nan]}\n",
      "A tree with 211 was created\n",
      "{'alpha': [0, 0, 2.168404344971009e-19, 4.336808689942018e-19, 6.505213034913027e-19, 0.00023408239700374524, 0.000280898876404494, 0.00035112359550561764, 0.0003511235955056179, 0.00035112359550561797, 0.00042134831460674245, 0.00046816479400749026, 0.00046816479400749053, 0.0004681647940074911, 0.0005617977528089886, 0.0005617977528089887, 0.0005852059925093633, 0.0005852059925093644, 0.0006242197253433219, 0.0007022471910112346, 0.0007022471910112358, 0.0007022471910112359, 0.000702247191011236, 0.0007022471910112363, 0.0009363295880149804, 0.0012289325842696635, 0.0014044943820224701, 0.0014044943820224717, 0.0014044943820224719, 0.001404494382022472, 0.0014044943820224725, 0.0014044943820224727, 0.0016385767790262171, 0.0020287141073657934, 0.002106741573033706, 0.004915730337078653, 0.009831460674157293, 0.0098314606741573], 'R': [0.01685393258426966, 0.01685393258426966, 0.01685393258426966, 0.016853932584269662, 0.019662921348314606, 0.021067415730337075, 0.022471910112359543, 0.023876404494382015, 0.02528089887640449, 0.029494382022471913, 0.03089887640449438, 0.032303370786516857, 0.03370786516853933, 0.03932584269662921, 0.042134831460674156, 0.04915730337078651, 0.06320224719101125, 0.06882022471910115, 0.0716292134831461, 0.07865168539325845, 0.08426966292134833, 0.08707865168539328, 0.0912921348314607, 0.09410112359550564, 0.10393258426966294, 0.10533707865168541, 0.11235955056179778, 0.11657303370786519, 0.11797752808988766, 0.11938202247191014, 0.12078651685393262, 0.1306179775280899, 0.14887640449438205, 0.1657303370786517, 0.1853932584269663, 0.1952247191011236, 0.2148876404494382, 0.3806179775280899], 'n_leafs': [198, 197, 196, 195, 183, 178, 174, 170, 166, 156, 153, 150, 147, 137, 132, 120, 96, 87, 83, 73, 65, 61, 55, 52, 44, 43, 38, 35, 34, 33, 32, 26, 17, 9, 5, 4, 2, 1], 'A_cv': [0.7771428571428571, 0.7771428571428571, 0.7771428571428571, 0.7771428571428571, 0.7828571428571428, 0.7885714285714286, 0.8, 0.8, 0.8, 0.8, 0.8, 0.8057142857142857, 0.8057142857142857, 0.8114285714285714, 0.8114285714285714, 0.8171428571428572, 0.8342857142857143, 0.8342857142857143, 0.84, 0.84, 0.8514285714285714, 0.8514285714285714, 0.8514285714285714, 0.8571428571428571, 0.8571428571428571, 0.8571428571428571, 0.8628571428571429, 0.8514285714285714, 0.8514285714285714, 0.8514285714285714, 0.8514285714285714, 0.8628571428571429, 0.8285714285714286, 0.8342857142857143, 0.8171428571428572, 0.8171428571428572, 0.7885714285714286, 0.5942857142857143], 'R_cv': [array([0.79816514, 0.74242424]), array([0.79816514, 0.74242424]), array([0.79816514, 0.74242424]), array([0.79816514, 0.74242424]), array([0.8       , 0.75384615]), array([0.8018018, 0.765625 ]), array([0.80530973, 0.79032258]), array([0.80530973, 0.79032258]), array([0.80530973, 0.79032258]), array([0.80530973, 0.79032258]), array([0.80530973, 0.79032258]), array([0.8125    , 0.79365079]), array([0.8125    , 0.79365079]), array([0.81415929, 0.80645161]), array([0.80869565, 0.81666667]), array([0.82142857, 0.80952381]), array([0.82608696, 0.85      ]), array([0.82608696, 0.85      ]), array([0.83333333, 0.85245902]), array([0.83333333, 0.85245902]), array([0.8362069 , 0.88135593]), array([0.8362069 , 0.88135593]), array([0.8362069 , 0.88135593]), array([0.84347826, 0.88333333]), array([0.84347826, 0.88333333]), array([0.84347826, 0.88333333]), array([0.83898305, 0.9122807 ]), array([0.8362069 , 0.88135593]), array([0.8362069 , 0.88135593]), array([0.8362069 , 0.88135593]), array([0.8362069 , 0.88135593]), array([0.83898305, 0.9122807 ]), array([0.79365079, 0.91836735]), array([0.80991736, 0.88888889]), array([0.79032258, 0.88235294]), array([0.79508197, 0.86792453]), array([0.79130435, 0.78333333]), array([0.59428571,        nan])], 'P_cv': [array([0.83653846, 0.69014085]), array([0.83653846, 0.69014085]), array([0.83653846, 0.69014085]), array([0.83653846, 0.69014085]), array([0.84615385, 0.69014085]), array([0.85576923, 0.69014085]), array([0.875     , 0.69014085]), array([0.875     , 0.69014085]), array([0.875     , 0.69014085]), array([0.875     , 0.69014085]), array([0.875     , 0.69014085]), array([0.875     , 0.70422535]), array([0.875     , 0.70422535]), array([0.88461538, 0.70422535]), array([0.89423077, 0.69014085]), array([0.88461538, 0.71830986]), array([0.91346154, 0.71830986]), array([0.91346154, 0.71830986]), array([0.91346154, 0.73239437]), array([0.91346154, 0.73239437]), array([0.93269231, 0.73239437]), array([0.93269231, 0.73239437]), array([0.93269231, 0.73239437]), array([0.93269231, 0.74647887]), array([0.93269231, 0.74647887]), array([0.93269231, 0.74647887]), array([0.95192308, 0.73239437]), array([0.93269231, 0.73239437]), array([0.93269231, 0.73239437]), array([0.93269231, 0.73239437]), array([0.93269231, 0.73239437]), array([0.95192308, 0.73239437]), array([0.96153846, 0.63380282]), array([0.94230769, 0.67605634]), array([0.94230769, 0.63380282]), array([0.93269231, 0.64788732]), array([0.875     , 0.66197183]), array([1., 0.])], 'F_cv': [0.7661149378019945, 0.7661149378019945, 0.7661149378019945, 0.7661149378019945, 0.7715090709180868, 0.776916451335056, 0.7877758913412563, 0.7877758913412563, 0.7877758913412563, 0.7877758913412563, 0.7877758913412563, 0.7944306246545052, 0.7944306246545052, 0.7999029832646132, 0.7987033357732929, 0.806522940851299, 0.8231029314371362, 0.8231029314371362, 0.8297192104531554, 0.8297192104531554, 0.8409090909090909, 0.8409090909090909, 0.8409090909090909, 0.8475025271009795, 0.8475025271009795, 0.8475025271009795, 0.8521959459459458, 0.8409090909090909, 0.8409090909090909, 0.8409090909090909, 0.8409090909090909, 0.8521959459459458, 0.8097826086956522, 0.8195555555555555, 0.7986770204199023, 0.8001712817584927, 0.7743037401094497, nan]}\n"
     ]
    },
    {
     "data": {
      "image/png": "[encoded data removed]",
      "text/plain": [
       "<Figure size 640x480 with 1 Axes>"
      ]
     },
     "metadata": {},
     "output_type": "display_data"
    }
   ],
   "source": [
    "c_titanic.train()\n"
   ]
  },
  {
   "cell_type": "code",
   "execution_count": null,
   "metadata": {},
   "outputs": [],
   "source": []
  }
 ],
 "metadata": {
  "kernelspec": {
   "display_name": "Python 3 (ipykernel)",
   "language": "python",
   "name": "python3"
  },
  "language_info": {
   "codemirror_mode": {
    "name": "ipython",
    "version": 3
   },
   "file_extension": ".py",
   "mimetype": "text/x-python",
   "name": "python",
   "nbconvert_exporter": "python",
   "pygments_lexer": "ipython3",
   "version": "3.7.12"
  }
 },
 "nbformat": 4,
 "nbformat_minor": 4
}
