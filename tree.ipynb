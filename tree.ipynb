{
 "cells": [
  {
   "cell_type": "code",
   "execution_count": 1,
   "metadata": {},
   "outputs": [],
   "source": [
    "import pandas as pd\n",
    "import numpy as np\n",
    "import copy\n",
    "import treelib\n",
    "import itertools\n",
    "import scipy.optimize as opt"
   ]
  },
  {
   "cell_type": "code",
   "execution_count": 2,
   "metadata": {},
   "outputs": [],
   "source": [
    "class Node:\n",
    "    def __init__(self,branches=None,attribute=None,threshold=None,value=None):\n",
    "        if branches is None and value is None:\n",
    "            print(\"ERROR\")\n",
    "        \n",
    "        self.branches = branches\n",
    "        self.threshold = threshold\n",
    "        self.attribute = attribute\n",
    "        self.is_leaf = True if self.branches is None else False\n",
    "        self.value = value\n",
    "        self.pinfo = {}\n",
    "        \n",
    "    def get_child(self,df):\n",
    "        if isinstance(df[self.attribute],(int,float,np.number)):\n",
    "            return self.branches[0] if df[self.attribute] < self.threshold else self.branches[1]\n",
    "        else:\n",
    "            return self.branches[0] if df[self.attribute] in self.threshold else self.branches[1]\n",
    "        "
   ]
  },
  {
   "cell_type": "code",
   "execution_count": 3,
   "metadata": {},
   "outputs": [],
   "source": [
    "class Tree:\n",
    "    def __init__(self,root):\n",
    "        self.root = root\n",
    "        \n",
    "    def predict(self,x):\n",
    "        item = self.root\n",
    "        while not item.is_leaf:\n",
    "            item = item.get_child(x)\n",
    "        return item\n",
    "    \n",
    "    def leaf_count(self):\n",
    "        return self._leaf_count(self.root)\n",
    "    \n",
    "    def _leaf_count(self,node):\n",
    "        if node.is_leaf:\n",
    "            return 1\n",
    "        else:\n",
    "            return np.sum([self._leaf_count(b) for b in node.branches])\n",
    "    \n",
    "    def nodes(self):\n",
    "        return self._nodes(self.root)\n",
    "    \n",
    "    def _nodes(self,node):\n",
    "        if node.is_leaf:\n",
    "            return [node]\n",
    "        \n",
    "        nl = [node]\n",
    "        for b in node.branches:\n",
    "            nl += self._nodes(b)\n",
    "        return nl\n",
    "    \n",
    "    def classes(self):\n",
    "        nodes = self.nodes()\n",
    "        c = []\n",
    "        for n in nodes:\n",
    "            c.append(n.value)\n",
    "        return np.unique(c).tolist()\n",
    "    \n",
    "    def show(self):\n",
    "        tree_view = treelib.Tree()\n",
    "        self._show(self.root,tree_view)\n",
    "        tree_view.show()\n",
    "        \n",
    "    def _show(self,node,tree_view,parent=None):\n",
    "        name = str(hash(node))\n",
    "        if node.is_leaf:\n",
    "            text = f\"{node.value}\"\n",
    "        else:\n",
    "            if isinstance(node.threshold,(int,float,np.number)):\n",
    "                text = f\"{node.attribute}<{node.threshold:.2f}\"\n",
    "            else:\n",
    "                text = f\"{node.attribute} in {node.threshold}\"\n",
    "        tree_view.create_node(text,name,parent=parent)\n",
    "        \n",
    "        if not node.is_leaf:\n",
    "            for b in node.branches:\n",
    "                self._show(b,tree_view,parent=name)\n",
    "    "
   ]
  },
  {
   "cell_type": "code",
   "execution_count": 4,
   "metadata": {},
   "outputs": [
    {
     "name": "stdout",
     "output_type": "stream",
     "text": [
      "young\n"
     ]
    }
   ],
   "source": [
    "l0= Node(value=\"young\")\n",
    "l1=Node(value=\"old\")\n",
    "r=Node([l0,l1],\"age\",18)\n",
    "t=Tree(r)\n",
    "print(t.predict({\"age\":2}).value)"
   ]
  },
  {
   "cell_type": "code",
   "execution_count": 5,
   "metadata": {},
   "outputs": [
    {
     "name": "stdout",
     "output_type": "stream",
     "text": [
      "old\n"
     ]
    }
   ],
   "source": [
    "print(t.predict({\"age\":20}).value)"
   ]
  },
  {
   "cell_type": "code",
   "execution_count": 6,
   "metadata": {},
   "outputs": [
    {
     "data": {
      "text/plain": [
       "2"
      ]
     },
     "execution_count": 6,
     "metadata": {},
     "output_type": "execute_result"
    }
   ],
   "source": [
    "t.leaf_count()"
   ]
  },
  {
   "cell_type": "code",
   "execution_count": 7,
   "metadata": {},
   "outputs": [
    {
     "data": {
      "text/plain": [
       "[<__main__.Node at 0x7f7bf6f1cbd0>,\n",
       " <__main__.Node at 0x7f7bf6f1cb90>,\n",
       " <__main__.Node at 0x7f7bf6f1cc90>]"
      ]
     },
     "execution_count": 7,
     "metadata": {},
     "output_type": "execute_result"
    }
   ],
   "source": [
    "t.nodes()"
   ]
  },
  {
   "cell_type": "code",
   "execution_count": 8,
   "metadata": {},
   "outputs": [],
   "source": [
    "class CART:\n",
    "    def __init__(self,df,y_name,X_names):\n",
    "        self.y_name = y_name\n",
    "        self.X_names = X_names\n",
    "        self.df = self._handle_missings(df)\n",
    "        self.tree = None\n",
    "        self.splittyness = 1.\n",
    "        self.leaf_loss_threshold = 1e-12\n",
    "        \n",
    "        self.classes = np.unique(df[self.y_name]).tolist()\n",
    "        \n",
    "    def train(self,k=5):\n",
    "        \"\"\"\n",
    "        train desicion tree by k-fold cross-validation\n",
    "        \"\"\"\n",
    "        #shuffle dataframe\n",
    "        df = self.df.sample(frac=1.)\n",
    "        \n",
    "        # train tree with full dataset\n",
    "        self.create_tree()\n",
    "        pres = self.prune()\n",
    "        print(pres)\n",
    "    \n",
    "        #split df for k-fold cross-validation\n",
    "        training_sets, test_sets = self._k_fold_split(df,k)\n",
    "        for i in range(len(training_sets)):\n",
    "            c = CART(training_sets[i],self.y_name, self.X_names)\n",
    "            c.create_tree()          \n",
    "            pres = c.prune()\n",
    "            metric = c.metrics(df=test_sets[i])\n",
    "            print(pres)\n",
    "        #train k trees\n",
    "        #prune k trees\n",
    "        #get table alpha vs mean accuracy\n",
    "        #train tree with full df\n",
    "        #prune to best alpha from cross-validation\n",
    "        pass\n",
    "    \n",
    "    @staticmethod\n",
    "    def _k_fold_split(df,k):\n",
    "        N = len(df.index)\n",
    "        n = int(np.ceil(N/k))\n",
    "        training_sets = []\n",
    "        test_sets = []\n",
    "        for i in range(k):\n",
    "            test = df.iloc[i*n:min(N,(i+1)*n),:]\n",
    "            training = df.loc[df.index.difference(test.index),:]\n",
    "            test_sets.append(test)\n",
    "            training_sets.append(training)\n",
    "        return training_sets, test_sets\n",
    "    \n",
    "    def _handle_missings(self,df_in):\n",
    "        df_out = df_in.dropna(subset=[self.y_name])\n",
    "        # use nan as category\n",
    "        # use mean if numerical\n",
    "        for name in self.X_names:\n",
    "            if np.issubdtype(df_out[name].values.dtype, np.number):\n",
    "                df_out[name] = df_out[name].fillna(np.nanmean(df_out[name].values))\n",
    "            else:\n",
    "                df_out[name] = df_out[name].fillna(\"missing\")\n",
    "        return df_out\n",
    "        \n",
    "    def create_tree(self,splittyness=1., leaf_loss_threshold=1e-12):\n",
    "        self.splittyness = splittyness\n",
    "        self.leaf_loss_threshold = leaf_loss_threshold\n",
    "        root = self._node_or_leaf(self.df)\n",
    "        self.tree = Tree(root)\n",
    "        n_leafs = self.tree.leaf_count()\n",
    "        print(f\"A tree with {n_leafs} was created\")\n",
    "        return self.tree\n",
    "    \n",
    "    def _gini_impurity(self, df):\n",
    "        unique, counts = np.unique(df[self.y_name].values, return_counts=True)\n",
    "        N = df[self.y_name].values.ravel().size\n",
    "        p = counts/N\n",
    "        #print(unique)\n",
    "        #print(p)\n",
    "        return 1. - np.sum(p**2)\n",
    "    \n",
    "    def _shannon_entropy(self,df):\n",
    "        unique, counts = np.unique(df[self.y_name].values, return_counts=True)\n",
    "        N = df[self.y_name].values.size\n",
    "        p = counts/N\n",
    "        return -np.sum(p * np.log2(p))\n",
    "    \n",
    "    def _misclassification_cost(self,df):\n",
    "        y = df[self.y_name].values\n",
    "        unique, counts = np.unique(y, return_counts=True)\n",
    "        N = y.size\n",
    "        p = np.max(counts)/N\n",
    "        return 1. - p\n",
    "        \n",
    "    def _opt_fun(self,df,split_name):\n",
    "        def fun(x):\n",
    "            split_df = [df[df[split_name]<x],\n",
    "                        df[df[split_name]>=x]]\n",
    "            N = len(df.index)\n",
    "            n = [len(df_.index) for df_ in split_df]\n",
    "            return n[0]/N * self._loss(split_df[0]) + n[1]/N * self._loss(split_df[1])\n",
    "        return fun\n",
    "        \n",
    "    def _node_or_leaf(self,df):\n",
    "        loss_parent = self._loss(df)\n",
    "        if loss_parent < self.leaf_loss_threshold:\n",
    "            return self._leaf(df)\n",
    "        \n",
    "        loss_best, split_df, split_threshold, split_name = self._loss_best(df)\n",
    "        #print(f\"Computed split:\\nloss: {loss_best:.2f} (parent: {loss_parent:.2f})\\nattribute: {split_name}\\nthreshold: {split_threshold}\\ncount: {[len(df_.index) for df_ in split_df]}\")\n",
    "        if loss_best * self.splittyness < loss_parent:\n",
    "            #print(f\"=> Node({split_name}, {split_threshold})\")\n",
    "            branches = []\n",
    "            for i in range(2):\n",
    "                branches.append(self._node_or_leaf(split_df[i]))\n",
    "            unique, counts = np.unique(df[self.y_name], return_counts=True)\n",
    "            value = unique[np.argmax(counts)]\n",
    "            item = Node(branches=branches,attribute=split_name,threshold=split_threshold,value=value)\n",
    "            item.pinfo[\"N\"] = len(df.index)\n",
    "            item.pinfo[\"r\"] = self._misclassification_cost(df)\n",
    "            item.pinfo[\"R\"] = item.pinfo[\"N\"]/len(self.df.index) * item.pinfo[\"r\"]\n",
    "        else:\n",
    "            item = self._leaf(df)\n",
    "            \n",
    "        return item\n",
    "    \n",
    "    def _leaf(self,df):\n",
    "        unique, counts = np.unique(df[self.y_name].values,return_counts=True)\n",
    "        #print([(unique[i], counts[i]) for i in range(len(counts))])\n",
    "        sort_ind = np.argsort(-counts)\n",
    "        value = unique[sort_ind[0]]\n",
    "        leaf = Node(value=value)\n",
    "        \n",
    "        leaf.pinfo[\"N\"] = len(df.index)\n",
    "        leaf.pinfo[\"r\"] = self._misclassification_cost(df)\n",
    "        leaf.pinfo[\"R\"] = leaf.pinfo[\"N\"]/len(self.df.index) * leaf.pinfo[\"r\"]\n",
    "        #print(f\"=> Leaf({value}, N={len(df.index)})\")\n",
    "        return leaf\n",
    "    \n",
    "    def _loss_best(self,df):\n",
    "        loss0 = 10\n",
    "        for name in self.X_names:\n",
    "            loss = np.Inf\n",
    "            if np.issubdtype(df[name].values.dtype, np.number):\n",
    "                #split_threshold_ = np.median(df[name].v\n",
    "                res = opt.minimize_scalar(self._opt_fun(df,name),bounds=(df[name].min(),df[name].max()),method=\"bounded\")\n",
    "                split_threshold_ = res.x\n",
    "                split_df_ = [df[df[name]<split_threshold_],\n",
    "                        df[df[name]>=split_threshold_]]\n",
    "                #loss = self._loss(split_df_[0]) + self._loss(split_df_[1])\n",
    "                loss = res.fun\n",
    "            else:\n",
    "                unique = np.unique(df[name])\n",
    "                comb = []\n",
    "                for i in range(1,len(unique)):\n",
    "                    comb += list(itertools.combinations(unique,i))\n",
    "                loss__ = np.Inf\n",
    "                for c in comb:\n",
    "                    split_threshold__ = c\n",
    "                    split_df__ =[df[df[name].isin(split_threshold__)],\n",
    "                            df[~df[name].isin(split_threshold__)]]\n",
    "                    N = len(df.index)\n",
    "                    n = [len(df_.index) for df_ in split_df__]\n",
    "                    loss__ = n[0]/N * self._loss(split_df__[0]) + n[1]/N * self._loss(split_df__[1])\n",
    "                    if loss__ < loss0:\n",
    "                        loss = loss__\n",
    "                        split_threshold_ = split_threshold__\n",
    "                        split_df_ = split_df__\n",
    "            if loss < loss0:\n",
    "                loss0 = loss\n",
    "                split_threshold = split_threshold_\n",
    "                split_df = split_df_\n",
    "                split_name = name\n",
    "                \n",
    "        #print(loss0)\n",
    "                \n",
    "        return loss0, split_df, split_threshold, split_name\n",
    "    \n",
    "    def _loss(self,df):\n",
    "        #return self._gini_impurity(df)\n",
    "        return self._shannon_entropy(df)\n",
    "    \n",
    "    def metrics(self,df=None):\n",
    "        confmat = self.confusion_matrix(df=df)\n",
    "        P = self._precision(confmat)\n",
    "        #print(f\"precision: {P}\")\n",
    "        R = self._recall(confmat)\n",
    "        #print(f\"recall: {R}\")\n",
    "        F = np.mean(self._F1(P,R))\n",
    "        #print(f\"F-score: {F}\")\n",
    "        A = self._accuracy(confmat)\n",
    "        return {\"precision\":P,\n",
    "                \"recall\":R,\n",
    "                \"F-score\":F,\n",
    "                \"accuracy\":A}\n",
    "    \n",
    "    def _k_fold_miss(self,k=5,frac=0.5):\n",
    "        R = []\n",
    "        for i in range(k):\n",
    "            df = self.df.sample(frac=frac, replace=True)\n",
    "            r = self._miss(df)\n",
    "            R.append(r)\n",
    "        return R\n",
    "    \n",
    "    def prune(self,alpha_max=None):\n",
    "        if not alpha_max:\n",
    "            tree = copy.deepcopy(self.tree)\n",
    "        else:\n",
    "            tree = self.tree\n",
    "                \n",
    "        d={}\n",
    "        d[\"alpha\"]=[]\n",
    "        d[\"R\"]=[]\n",
    "        d[\"n_leafs\"]=[]\n",
    "        n_iter = 0\n",
    "        g_min = 0\n",
    "        alpha = 0\n",
    "        #print(\"n_leafs\\tR\\talpha\")\n",
    "        n_leafs, R = self._g2(tree.root)\n",
    "        #print(f\"{n_leafs}\\t{R:.4f}\\t{g_min:.2e}\")\n",
    "        while tree.leaf_count() > 1 and n_iter < 100:\n",
    "            n_iter += 1\n",
    "            \n",
    "            alpha = g_min\n",
    "            if alpha_max is not None and alpha > alpha_max:\n",
    "                break\n",
    "            d[\"alpha\"].append(alpha)\n",
    "            # compute g\n",
    "            nodes = tree.nodes()\n",
    "            g = []\n",
    "            pnodes = []\n",
    "            for n in nodes:\n",
    "                if not n.is_leaf:\n",
    "                    g.append(self._g(n))\n",
    "                    pnodes.append(n)\n",
    "                    \n",
    "            g_min = max(0,np.min(g))\n",
    "            for i, n in enumerate(pnodes):\n",
    "                if g[i] <= g_min:\n",
    "                    n.is_leaf = True\n",
    "            N, R = self._g2(tree.root)\n",
    "            d[\"n_leafs\"].append(N)\n",
    "            d[\"R\"].append(R)\n",
    "            #print(f\"{N}\\t{R:.4f}\\t{alpha:.2e}\")\n",
    "        return d\n",
    "            \n",
    "    \n",
    "    def _g(self,node):\n",
    "        n_leafs, R_desc = self._g2(node)\n",
    "        R = node.pinfo[\"R\"]\n",
    "        #print(n_leafs, R, R_desc)\n",
    "        return (R - R_desc)/(n_leafs - 1)\n",
    "                              \n",
    "    def _g2(self,node):\n",
    "        n_leafs = 0\n",
    "        R_desc = 0\n",
    "        if node.is_leaf:\n",
    "            return 1, node.pinfo[\"R\"]\n",
    "        \n",
    "        for b in node.branches:\n",
    "            nl, R = self._g2(b)\n",
    "            n_leafs += nl\n",
    "            R_desc += R\n",
    "        return n_leafs, R_desc\n",
    "           \n",
    "            \n",
    "            \n",
    "                 \n",
    "                              \n",
    "        \n",
    "    \n",
    "    @staticmethod\n",
    "    def _precision(m):\n",
    "        return np.diag(m) / np.sum(m, axis=1)\n",
    "        \n",
    "    \n",
    "    @staticmethod\n",
    "    def _recall(m):\n",
    "        return np.diag(m) / np.sum(m, axis=0)\n",
    "    \n",
    "    @staticmethod\n",
    "    def _F1(P,R):\n",
    "        #F = np.zeros_like(P)\n",
    "        #for i in range(len(\n",
    "        return 2 * P * R / (P + R)\n",
    "    \n",
    "    @staticmethod\n",
    "    def _accuracy(m):\n",
    "        return np.sum(np.diag(m))/np.sum(np.sum(m))\n",
    "    \n",
    "    def _specificity(m):\n",
    "        pass\n",
    "            \n",
    "        \n",
    "        \n",
    "\n",
    "    def confusion_matrix(self,df=None):\n",
    "        if df is None:\n",
    "            df = self.df\n",
    "        classes = self.tree.classes()\n",
    "        n_classes = len(classes)\n",
    "        confmat = np.zeros((n_classes,n_classes))\n",
    "        \n",
    "        for i in range(len(df.index)):\n",
    "            val_pred = self.tree.predict(df.iloc[i]).value\n",
    "            val_true = df[self.y_name].iloc[i]\n",
    "            i_pred = classes.index(val_pred)\n",
    "            i_true = classes.index(val_true)\n",
    "            confmat[i_true,i_pred] += 1\n",
    "        return confmat\n",
    "    \n",
    "    def validate(self,df):\n",
    "        pass\n",
    "        "
   ]
  },
  {
   "cell_type": "markdown",
   "metadata": {},
   "source": [
    "Iris dataset\n",
    "=="
   ]
  },
  {
   "cell_type": "code",
   "execution_count": 9,
   "metadata": {},
   "outputs": [],
   "source": [
    "df=pd.read_csv(\"iris.csv\")"
   ]
  },
  {
   "cell_type": "code",
   "execution_count": 10,
   "metadata": {},
   "outputs": [
    {
     "data": {
      "text/html": [
       "<div>\n",
       "<style scoped>\n",
       "    .dataframe tbody tr th:only-of-type {\n",
       "        vertical-align: middle;\n",
       "    }\n",
       "\n",
       "    .dataframe tbody tr th {\n",
       "        vertical-align: top;\n",
       "    }\n",
       "\n",
       "    .dataframe thead th {\n",
       "        text-align: right;\n",
       "    }\n",
       "</style>\n",
       "<table border=\"1\" class=\"dataframe\">\n",
       "  <thead>\n",
       "    <tr style=\"text-align: right;\">\n",
       "      <th></th>\n",
       "      <th>petal_length</th>\n",
       "      <th>petal_width</th>\n",
       "    </tr>\n",
       "  </thead>\n",
       "  <tbody>\n",
       "    <tr>\n",
       "      <th>0</th>\n",
       "      <td>1.4</td>\n",
       "      <td>0.2</td>\n",
       "    </tr>\n",
       "    <tr>\n",
       "      <th>1</th>\n",
       "      <td>1.4</td>\n",
       "      <td>0.2</td>\n",
       "    </tr>\n",
       "    <tr>\n",
       "      <th>2</th>\n",
       "      <td>1.3</td>\n",
       "      <td>0.2</td>\n",
       "    </tr>\n",
       "    <tr>\n",
       "      <th>3</th>\n",
       "      <td>1.5</td>\n",
       "      <td>0.2</td>\n",
       "    </tr>\n",
       "    <tr>\n",
       "      <th>4</th>\n",
       "      <td>1.4</td>\n",
       "      <td>0.2</td>\n",
       "    </tr>\n",
       "    <tr>\n",
       "      <th>...</th>\n",
       "      <td>...</td>\n",
       "      <td>...</td>\n",
       "    </tr>\n",
       "    <tr>\n",
       "      <th>145</th>\n",
       "      <td>5.2</td>\n",
       "      <td>2.3</td>\n",
       "    </tr>\n",
       "    <tr>\n",
       "      <th>146</th>\n",
       "      <td>5.0</td>\n",
       "      <td>1.9</td>\n",
       "    </tr>\n",
       "    <tr>\n",
       "      <th>147</th>\n",
       "      <td>5.2</td>\n",
       "      <td>2.0</td>\n",
       "    </tr>\n",
       "    <tr>\n",
       "      <th>148</th>\n",
       "      <td>5.4</td>\n",
       "      <td>2.3</td>\n",
       "    </tr>\n",
       "    <tr>\n",
       "      <th>149</th>\n",
       "      <td>5.1</td>\n",
       "      <td>1.8</td>\n",
       "    </tr>\n",
       "  </tbody>\n",
       "</table>\n",
       "<p>150 rows × 2 columns</p>\n",
       "</div>"
      ],
      "text/plain": [
       "     petal_length  petal_width\n",
       "0             1.4          0.2\n",
       "1             1.4          0.2\n",
       "2             1.3          0.2\n",
       "3             1.5          0.2\n",
       "4             1.4          0.2\n",
       "..            ...          ...\n",
       "145           5.2          2.3\n",
       "146           5.0          1.9\n",
       "147           5.2          2.0\n",
       "148           5.4          2.3\n",
       "149           5.1          1.8\n",
       "\n",
       "[150 rows x 2 columns]"
      ]
     },
     "execution_count": 10,
     "metadata": {},
     "output_type": "execute_result"
    }
   ],
   "source": [
    "df.columns\n",
    "X_names=[\"petal_length\",\"petal_width\"]\n",
    "df[X_names]"
   ]
  },
  {
   "cell_type": "code",
   "execution_count": 11,
   "metadata": {},
   "outputs": [
    {
     "data": {
      "text/plain": [
       "sepal_length       5.1\n",
       "sepal_width        3.5\n",
       "petal_length       1.4\n",
       "petal_width        0.2\n",
       "species         setosa\n",
       "Name: 0, dtype: object"
      ]
     },
     "execution_count": 11,
     "metadata": {},
     "output_type": "execute_result"
    }
   ],
   "source": [
    "df.iloc[0]"
   ]
  },
  {
   "cell_type": "code",
   "execution_count": 12,
   "metadata": {},
   "outputs": [
    {
     "name": "stdout",
     "output_type": "stream",
     "text": [
      "A tree with 12 was created\n"
     ]
    },
    {
     "data": {
      "text/plain": [
       "<__main__.Tree at 0x7f7bf6eafd90>"
      ]
     },
     "execution_count": 12,
     "metadata": {},
     "output_type": "execute_result"
    }
   ],
   "source": [
    "c = CART(df,\"species\",X_names)\n",
    "c.create_tree(splittyness=1.)\n"
   ]
  },
  {
   "cell_type": "code",
   "execution_count": 13,
   "metadata": {},
   "outputs": [
    {
     "data": {
      "text/plain": [
       "'setosa'"
      ]
     },
     "execution_count": 13,
     "metadata": {},
     "output_type": "execute_result"
    }
   ],
   "source": [
    "c.tree.predict(df.iloc[0]).value"
   ]
  },
  {
   "cell_type": "code",
   "execution_count": 14,
   "metadata": {},
   "outputs": [
    {
     "data": {
      "text/plain": [
       "{'N': 50, 'r': 0.0, 'R': 0.0}"
      ]
     },
     "execution_count": 14,
     "metadata": {},
     "output_type": "execute_result"
    }
   ],
   "source": [
    "c.tree.root.branches[0].pinfo\n"
   ]
  },
  {
   "cell_type": "code",
   "execution_count": 15,
   "metadata": {},
   "outputs": [
    {
     "data": {
      "text/plain": [
       "{'alpha': [0,\n",
       "  0,\n",
       "  0.0016666666666666642,\n",
       "  0.006666666666666663,\n",
       "  0.29333333333333333],\n",
       " 'R': [0.006666666666666665,\n",
       "  0.013333333333333322,\n",
       "  0.03999999999999997,\n",
       "  0.3333333333333333,\n",
       "  0.6666666666666667],\n",
       " 'n_leafs': [11, 7, 3, 2, 1]}"
      ]
     },
     "execution_count": 15,
     "metadata": {},
     "output_type": "execute_result"
    }
   ],
   "source": [
    "c.prune()\n"
   ]
  },
  {
   "cell_type": "code",
   "execution_count": 16,
   "metadata": {},
   "outputs": [
    {
     "data": {
      "text/plain": [
       "{'alpha': [0, 0, 0.0016666666666666642],\n",
       " 'R': [0.006666666666666665, 0.013333333333333322, 0.03999999999999997],\n",
       " 'n_leafs': [11, 7, 3]}"
      ]
     },
     "execution_count": 16,
     "metadata": {},
     "output_type": "execute_result"
    }
   ],
   "source": [
    "c.prune(alpha_max = 2e-3)\n"
   ]
  },
  {
   "cell_type": "code",
   "execution_count": 17,
   "metadata": {},
   "outputs": [
    {
     "data": {
      "text/plain": [
       "array([[50.,  0.,  0.],\n",
       "       [ 0., 48.,  2.],\n",
       "       [ 0.,  4., 46.]])"
      ]
     },
     "execution_count": 17,
     "metadata": {},
     "output_type": "execute_result"
    }
   ],
   "source": [
    "\n",
    "c.confusion_matrix()\n"
   ]
  },
  {
   "cell_type": "code",
   "execution_count": 18,
   "metadata": {},
   "outputs": [
    {
     "data": {
      "text/plain": [
       "<matplotlib.collections.PathCollection at 0x7f7bf50c8cd0>"
      ]
     },
     "execution_count": 18,
     "metadata": {},
     "output_type": "execute_result"
    },
    {
     "data": {
      "image/png": "[encoded data removed]",
      "text/plain": [
       "<Figure size 640x480 with 1 Axes>"
      ]
     },
     "metadata": {},
     "output_type": "display_data"
    }
   ],
   "source": [
    "import matplotlib.pyplot as plt\n",
    "colors = {\"setosa\":\"red\", \"versicolor\":\"blue\", \"virginica\":\"green\"}\n",
    "plt.scatter(df[\"petal_length\"],df[\"petal_width\"],c=df[\"species\"].map(colors))\n"
   ]
  },
  {
   "cell_type": "code",
   "execution_count": 19,
   "metadata": {},
   "outputs": [],
   "source": [
    "\n",
    "x, y = np.meshgrid(np.linspace(1,7,11),np.linspace(0,2.5,11))\n",
    "col = []\n",
    "for i in range(len(x.ravel())):\n",
    "    d = df.iloc[120].copy()\n",
    "    d[\"petal_length\"] = x.ravel()[i]\n",
    "    d[\"petal_width\"] = y.ravel()[i]\n",
    "    col.append(c.tree.predict(d).value)\n",
    "for i in range(len(col)):\n",
    "    if col[i] == \"setosa\":\n",
    "        col[i] = 0\n",
    "    if col[i] == \"versicolor\":\n",
    "        col[i] = 1\n",
    "    if col[i] == \"virginica\":\n",
    "        col[i] = 2\n",
    "z = np.array(col).reshape(x.shape)"
   ]
  },
  {
   "cell_type": "code",
   "execution_count": 20,
   "metadata": {},
   "outputs": [
    {
     "data": {
      "text/plain": [
       "<matplotlib.collections.PathCollection at 0x7f7bf51aa350>"
      ]
     },
     "execution_count": 20,
     "metadata": {},
     "output_type": "execute_result"
    },
    {
     "data": {
      "image/png": "[encoded data removed]",
      "text/plain": [
       "<Figure size 640x480 with 1 Axes>"
      ]
     },
     "metadata": {},
     "output_type": "display_data"
    }
   ],
   "source": [
    "fig, ax = plt.subplots()\n",
    "ax.pcolormesh(x,y,z)\n",
    "ax.scatter(df[\"petal_length\"],df[\"petal_width\"],c=df[\"species\"].map(colors))"
   ]
  },
  {
   "cell_type": "code",
   "execution_count": 21,
   "metadata": {},
   "outputs": [
    {
     "data": {
      "text/plain": [
       "{'precision': array([1.  , 0.96, 0.92]),\n",
       " 'recall': array([1.        , 0.92307692, 0.95833333]),\n",
       " 'F-score': 0.9599839935974389,\n",
       " 'accuracy': 0.96}"
      ]
     },
     "execution_count": 21,
     "metadata": {},
     "output_type": "execute_result"
    }
   ],
   "source": [
    "c.metrics()"
   ]
  },
  {
   "cell_type": "code",
   "execution_count": 22,
   "metadata": {},
   "outputs": [
    {
     "data": {
      "text/html": [
       "<div>\n",
       "<style scoped>\n",
       "    .dataframe tbody tr th:only-of-type {\n",
       "        vertical-align: middle;\n",
       "    }\n",
       "\n",
       "    .dataframe tbody tr th {\n",
       "        vertical-align: top;\n",
       "    }\n",
       "\n",
       "    .dataframe thead th {\n",
       "        text-align: right;\n",
       "    }\n",
       "</style>\n",
       "<table border=\"1\" class=\"dataframe\">\n",
       "  <thead>\n",
       "    <tr style=\"text-align: right;\">\n",
       "      <th></th>\n",
       "      <th>Survived</th>\n",
       "      <th>Pclass</th>\n",
       "      <th>Name</th>\n",
       "      <th>Sex</th>\n",
       "      <th>Age</th>\n",
       "      <th>Siblings/Spouses Aboard</th>\n",
       "      <th>Parents/Children Aboard</th>\n",
       "      <th>Fare</th>\n",
       "    </tr>\n",
       "  </thead>\n",
       "  <tbody>\n",
       "    <tr>\n",
       "      <th>0</th>\n",
       "      <td>0</td>\n",
       "      <td>3</td>\n",
       "      <td>Mr. Owen Harris Braund</td>\n",
       "      <td>male</td>\n",
       "      <td>22.0</td>\n",
       "      <td>1</td>\n",
       "      <td>0</td>\n",
       "      <td>7.2500</td>\n",
       "    </tr>\n",
       "    <tr>\n",
       "      <th>1</th>\n",
       "      <td>1</td>\n",
       "      <td>1</td>\n",
       "      <td>Mrs. John Bradley (Florence Briggs Thayer) Cum...</td>\n",
       "      <td>female</td>\n",
       "      <td>38.0</td>\n",
       "      <td>1</td>\n",
       "      <td>0</td>\n",
       "      <td>71.2833</td>\n",
       "    </tr>\n",
       "    <tr>\n",
       "      <th>2</th>\n",
       "      <td>1</td>\n",
       "      <td>3</td>\n",
       "      <td>Miss. Laina Heikkinen</td>\n",
       "      <td>female</td>\n",
       "      <td>26.0</td>\n",
       "      <td>0</td>\n",
       "      <td>0</td>\n",
       "      <td>7.9250</td>\n",
       "    </tr>\n",
       "    <tr>\n",
       "      <th>3</th>\n",
       "      <td>1</td>\n",
       "      <td>1</td>\n",
       "      <td>Mrs. Jacques Heath (Lily May Peel) Futrelle</td>\n",
       "      <td>female</td>\n",
       "      <td>35.0</td>\n",
       "      <td>1</td>\n",
       "      <td>0</td>\n",
       "      <td>53.1000</td>\n",
       "    </tr>\n",
       "    <tr>\n",
       "      <th>4</th>\n",
       "      <td>0</td>\n",
       "      <td>3</td>\n",
       "      <td>Mr. William Henry Allen</td>\n",
       "      <td>male</td>\n",
       "      <td>35.0</td>\n",
       "      <td>0</td>\n",
       "      <td>0</td>\n",
       "      <td>8.0500</td>\n",
       "    </tr>\n",
       "    <tr>\n",
       "      <th>...</th>\n",
       "      <td>...</td>\n",
       "      <td>...</td>\n",
       "      <td>...</td>\n",
       "      <td>...</td>\n",
       "      <td>...</td>\n",
       "      <td>...</td>\n",
       "      <td>...</td>\n",
       "      <td>...</td>\n",
       "    </tr>\n",
       "    <tr>\n",
       "      <th>882</th>\n",
       "      <td>0</td>\n",
       "      <td>2</td>\n",
       "      <td>Rev. Juozas Montvila</td>\n",
       "      <td>male</td>\n",
       "      <td>27.0</td>\n",
       "      <td>0</td>\n",
       "      <td>0</td>\n",
       "      <td>13.0000</td>\n",
       "    </tr>\n",
       "    <tr>\n",
       "      <th>883</th>\n",
       "      <td>1</td>\n",
       "      <td>1</td>\n",
       "      <td>Miss. Margaret Edith Graham</td>\n",
       "      <td>female</td>\n",
       "      <td>19.0</td>\n",
       "      <td>0</td>\n",
       "      <td>0</td>\n",
       "      <td>30.0000</td>\n",
       "    </tr>\n",
       "    <tr>\n",
       "      <th>884</th>\n",
       "      <td>0</td>\n",
       "      <td>3</td>\n",
       "      <td>Miss. Catherine Helen Johnston</td>\n",
       "      <td>female</td>\n",
       "      <td>7.0</td>\n",
       "      <td>1</td>\n",
       "      <td>2</td>\n",
       "      <td>23.4500</td>\n",
       "    </tr>\n",
       "    <tr>\n",
       "      <th>885</th>\n",
       "      <td>1</td>\n",
       "      <td>1</td>\n",
       "      <td>Mr. Karl Howell Behr</td>\n",
       "      <td>male</td>\n",
       "      <td>26.0</td>\n",
       "      <td>0</td>\n",
       "      <td>0</td>\n",
       "      <td>30.0000</td>\n",
       "    </tr>\n",
       "    <tr>\n",
       "      <th>886</th>\n",
       "      <td>0</td>\n",
       "      <td>3</td>\n",
       "      <td>Mr. Patrick Dooley</td>\n",
       "      <td>male</td>\n",
       "      <td>32.0</td>\n",
       "      <td>0</td>\n",
       "      <td>0</td>\n",
       "      <td>7.7500</td>\n",
       "    </tr>\n",
       "  </tbody>\n",
       "</table>\n",
       "<p>887 rows × 8 columns</p>\n",
       "</div>"
      ],
      "text/plain": [
       "     Survived  Pclass                                               Name  \\\n",
       "0           0       3                             Mr. Owen Harris Braund   \n",
       "1           1       1  Mrs. John Bradley (Florence Briggs Thayer) Cum...   \n",
       "2           1       3                              Miss. Laina Heikkinen   \n",
       "3           1       1        Mrs. Jacques Heath (Lily May Peel) Futrelle   \n",
       "4           0       3                            Mr. William Henry Allen   \n",
       "..        ...     ...                                                ...   \n",
       "882         0       2                               Rev. Juozas Montvila   \n",
       "883         1       1                        Miss. Margaret Edith Graham   \n",
       "884         0       3                     Miss. Catherine Helen Johnston   \n",
       "885         1       1                               Mr. Karl Howell Behr   \n",
       "886         0       3                                 Mr. Patrick Dooley   \n",
       "\n",
       "        Sex   Age  Siblings/Spouses Aboard  Parents/Children Aboard     Fare  \n",
       "0      male  22.0                        1                        0   7.2500  \n",
       "1    female  38.0                        1                        0  71.2833  \n",
       "2    female  26.0                        0                        0   7.9250  \n",
       "3    female  35.0                        1                        0  53.1000  \n",
       "4      male  35.0                        0                        0   8.0500  \n",
       "..      ...   ...                      ...                      ...      ...  \n",
       "882    male  27.0                        0                        0  13.0000  \n",
       "883  female  19.0                        0                        0  30.0000  \n",
       "884  female   7.0                        1                        2  23.4500  \n",
       "885    male  26.0                        0                        0  30.0000  \n",
       "886    male  32.0                        0                        0   7.7500  \n",
       "\n",
       "[887 rows x 8 columns]"
      ]
     },
     "execution_count": 22,
     "metadata": {},
     "output_type": "execute_result"
    }
   ],
   "source": [
    "titanic = pd.read_csv(\"titanic.csv\")\n",
    "titanic"
   ]
  },
  {
   "cell_type": "code",
   "execution_count": 23,
   "metadata": {},
   "outputs": [
    {
     "data": {
      "text/plain": [
       "Index(['Survived', 'Pclass', 'Name', 'Sex', 'Age', 'Siblings/Spouses Aboard',\n",
       "       'Parents/Children Aboard', 'Fare'],\n",
       "      dtype='object')"
      ]
     },
     "execution_count": 23,
     "metadata": {},
     "output_type": "execute_result"
    }
   ],
   "source": [
    "titanic.columns"
   ]
  },
  {
   "cell_type": "code",
   "execution_count": 24,
   "metadata": {},
   "outputs": [
    {
     "name": "stdout",
     "output_type": "stream",
     "text": [
      "A tree with 205 was created\n"
     ]
    },
    {
     "data": {
      "text/plain": [
       "<__main__.Tree at 0x7f7bf2c8b750>"
      ]
     },
     "execution_count": 24,
     "metadata": {},
     "output_type": "execute_result"
    }
   ],
   "source": [
    "\n",
    "c_titanic = CART(titanic,\"Survived\",[\"Pclass\",\"Age\",\"Fare\",\"Siblings/Spouses Aboard\",\"Sex\",\"Parents/Children Aboard\"])\n",
    "c_titanic.create_tree(splittyness=1.01)"
   ]
  },
  {
   "cell_type": "code",
   "execution_count": 25,
   "metadata": {},
   "outputs": [
    {
     "data": {
      "text/plain": [
       "{'precision': array([0.92110092, 0.95614035]),\n",
       " 'recall': array([0.97098646, 0.88378378]),\n",
       " 'F-score': 0.9319626949364141,\n",
       " 'accuracy': 0.9346110484780158}"
      ]
     },
     "execution_count": 25,
     "metadata": {},
     "output_type": "execute_result"
    }
   ],
   "source": [
    "\n",
    "c_titanic.metrics()"
   ]
  },
  {
   "cell_type": "code",
   "execution_count": 26,
   "metadata": {},
   "outputs": [
    {
     "data": {
      "text/plain": [
       "{'alpha': [0,\n",
       "  0,\n",
       "  2.168404344971009e-19,\n",
       "  4.336808689942018e-19,\n",
       "  6.505213034913027e-19,\n",
       "  0.00016105653084232582,\n",
       "  0.00018789928598271337,\n",
       "  0.0002505323813102843,\n",
       "  0.00028184892897407,\n",
       "  0.00037579857196542624,\n",
       "  0.00037579857196542646,\n",
       "  0.0003757985719654267,\n",
       "  0.0003757985719654269,\n",
       "  0.00040264132710581425,\n",
       "  0.0004227733934611044,\n",
       "  0.0004509582863585108,\n",
       "  0.00045095828635851167,\n",
       "  0.00045095828635851313,\n",
       "  0.0004642217653690565,\n",
       "  0.0005636978579481397,\n",
       "  0.0005636978579481398,\n",
       "  0.0005636978579481399,\n",
       "  0.00056369785794814,\n",
       "  0.0005636978579481432,\n",
       "  0.0007515971439308535,\n",
       "  0.0007515971439308536,\n",
       "  0.0011273957158962787,\n",
       "  0.0011273957158962793,\n",
       "  0.0011273957158962795,\n",
       "  0.0011273957158962798,\n",
       "  0.00112739571589628,\n",
       "  0.0011273957158962802,\n",
       "  0.001691093573844421,\n",
       "  0.0016910935738444245,\n",
       "  0.0018789928598271315,\n",
       "  0.00479143179255918,\n",
       "  0.007891770011273967,\n",
       "  0.01071025930101465],\n",
       " 'R': [0.0653889515219842,\n",
       "  0.0653889515219842,\n",
       "  0.0653889515219842,\n",
       "  0.0653889515219842,\n",
       "  0.06764374295377677,\n",
       "  0.06877113866967305,\n",
       "  0.0710259301014656,\n",
       "  0.07215332581736189,\n",
       "  0.07440811724915444,\n",
       "  0.07779030439684329,\n",
       "  0.07891770011273956,\n",
       "  0.08004509582863584,\n",
       "  0.08568207440811725,\n",
       "  0.08906426155580607,\n",
       "  0.09131905298759863,\n",
       "  0.09808342728297631,\n",
       "  0.10033821871476889,\n",
       "  0.10822998872604284,\n",
       "  0.11048478015783539,\n",
       "  0.11386696730552423,\n",
       "  0.11499436302142052,\n",
       "  0.1161217587373168,\n",
       "  0.11724915445321307,\n",
       "  0.11950394588500565,\n",
       "  0.1217587373167982,\n",
       "  0.1228861330326945,\n",
       "  0.12514092446448705,\n",
       "  0.133032694475761,\n",
       "  0.13416009019165728,\n",
       "  0.13528748590755357,\n",
       "  0.13641488162344984,\n",
       "  0.13979706877113868,\n",
       "  0.14317925591882752,\n",
       "  0.1657271702367531,\n",
       "  0.18489289740698983,\n",
       "  0.1927846674182638,\n",
       "  0.2142051860202931,\n",
       "  0.38556933483652767],\n",
       " 'n_leafs': [187,\n",
       "  182,\n",
       "  181,\n",
       "  178,\n",
       "  164,\n",
       "  158,\n",
       "  149,\n",
       "  145,\n",
       "  139,\n",
       "  130,\n",
       "  127,\n",
       "  124,\n",
       "  110,\n",
       "  102,\n",
       "  97,\n",
       "  82,\n",
       "  77,\n",
       "  60,\n",
       "  56,\n",
       "  50,\n",
       "  48,\n",
       "  46,\n",
       "  44,\n",
       "  41,\n",
       "  38,\n",
       "  37,\n",
       "  35,\n",
       "  28,\n",
       "  27,\n",
       "  26,\n",
       "  25,\n",
       "  23,\n",
       "  21,\n",
       "  9,\n",
       "  5,\n",
       "  4,\n",
       "  2,\n",
       "  1]}"
      ]
     },
     "execution_count": 26,
     "metadata": {},
     "output_type": "execute_result"
    }
   ],
   "source": [
    "c_titanic.prune()\n"
   ]
  },
  {
   "cell_type": "code",
   "execution_count": 27,
   "metadata": {},
   "outputs": [
    {
     "data": {
      "text/plain": [
       "{'alpha': [0,\n",
       "  0,\n",
       "  2.168404344971009e-19,\n",
       "  4.336808689942018e-19,\n",
       "  6.505213034913027e-19,\n",
       "  0.00016105653084232582,\n",
       "  0.00018789928598271337,\n",
       "  0.0002505323813102843,\n",
       "  0.00028184892897407,\n",
       "  0.00037579857196542624,\n",
       "  0.00037579857196542646,\n",
       "  0.0003757985719654267,\n",
       "  0.0003757985719654269,\n",
       "  0.00040264132710581425,\n",
       "  0.0004227733934611044,\n",
       "  0.0004509582863585108,\n",
       "  0.00045095828635851167,\n",
       "  0.00045095828635851313,\n",
       "  0.0004642217653690565,\n",
       "  0.0005636978579481397,\n",
       "  0.0005636978579481398,\n",
       "  0.0005636978579481399,\n",
       "  0.00056369785794814,\n",
       "  0.0005636978579481432,\n",
       "  0.0007515971439308535,\n",
       "  0.0007515971439308536,\n",
       "  0.0011273957158962787,\n",
       "  0.0011273957158962793,\n",
       "  0.0011273957158962795,\n",
       "  0.0011273957158962798,\n",
       "  0.00112739571589628,\n",
       "  0.0011273957158962802,\n",
       "  0.001691093573844421,\n",
       "  0.0016910935738444245],\n",
       " 'R': [0.0653889515219842,\n",
       "  0.0653889515219842,\n",
       "  0.0653889515219842,\n",
       "  0.0653889515219842,\n",
       "  0.06764374295377677,\n",
       "  0.06877113866967305,\n",
       "  0.0710259301014656,\n",
       "  0.07215332581736189,\n",
       "  0.07440811724915444,\n",
       "  0.07779030439684329,\n",
       "  0.07891770011273956,\n",
       "  0.08004509582863584,\n",
       "  0.08568207440811725,\n",
       "  0.08906426155580607,\n",
       "  0.09131905298759863,\n",
       "  0.09808342728297631,\n",
       "  0.10033821871476889,\n",
       "  0.10822998872604284,\n",
       "  0.11048478015783539,\n",
       "  0.11386696730552423,\n",
       "  0.11499436302142052,\n",
       "  0.1161217587373168,\n",
       "  0.11724915445321307,\n",
       "  0.11950394588500565,\n",
       "  0.1217587373167982,\n",
       "  0.1228861330326945,\n",
       "  0.12514092446448705,\n",
       "  0.133032694475761,\n",
       "  0.13416009019165728,\n",
       "  0.13528748590755357,\n",
       "  0.13641488162344984,\n",
       "  0.13979706877113868,\n",
       "  0.14317925591882752,\n",
       "  0.1657271702367531],\n",
       " 'n_leafs': [187,\n",
       "  182,\n",
       "  181,\n",
       "  178,\n",
       "  164,\n",
       "  158,\n",
       "  149,\n",
       "  145,\n",
       "  139,\n",
       "  130,\n",
       "  127,\n",
       "  124,\n",
       "  110,\n",
       "  102,\n",
       "  97,\n",
       "  82,\n",
       "  77,\n",
       "  60,\n",
       "  56,\n",
       "  50,\n",
       "  48,\n",
       "  46,\n",
       "  44,\n",
       "  41,\n",
       "  38,\n",
       "  37,\n",
       "  35,\n",
       "  28,\n",
       "  27,\n",
       "  26,\n",
       "  25,\n",
       "  23,\n",
       "  21,\n",
       "  9]}"
      ]
     },
     "execution_count": 27,
     "metadata": {},
     "output_type": "execute_result"
    }
   ],
   "source": [
    "c_titanic.prune(alpha_max=1.7e-3)\n"
   ]
  },
  {
   "cell_type": "code",
   "execution_count": 28,
   "metadata": {},
   "outputs": [
    {
     "data": {
      "text/plain": [
       "{'precision': array([0.90458716, 0.72222222]),\n",
       " 'recall': array([0.83843537, 0.82608696]),\n",
       " 'F-score': 0.8204633922338358,\n",
       " 'accuracy': 0.8342728297632469}"
      ]
     },
     "execution_count": 28,
     "metadata": {},
     "output_type": "execute_result"
    }
   ],
   "source": [
    "c_titanic.metrics()\n"
   ]
  },
  {
   "cell_type": "code",
   "execution_count": 29,
   "metadata": {},
   "outputs": [
    {
     "data": {
      "text/plain": [
       "Index(['rowid', 'species', 'island', 'bill_length_mm', 'bill_depth_mm',\n",
       "       'flipper_length_mm', 'body_mass_g', 'sex', 'year'],\n",
       "      dtype='object')"
      ]
     },
     "execution_count": 29,
     "metadata": {},
     "output_type": "execute_result"
    }
   ],
   "source": [
    "\n",
    "penguins = pd.read_csv(\"penguins.txt\")\n",
    "penguins.columns"
   ]
  },
  {
   "cell_type": "code",
   "execution_count": 30,
   "metadata": {},
   "outputs": [
    {
     "data": {
      "text/html": [
       "<div>\n",
       "<style scoped>\n",
       "    .dataframe tbody tr th:only-of-type {\n",
       "        vertical-align: middle;\n",
       "    }\n",
       "\n",
       "    .dataframe tbody tr th {\n",
       "        vertical-align: top;\n",
       "    }\n",
       "\n",
       "    .dataframe thead th {\n",
       "        text-align: right;\n",
       "    }\n",
       "</style>\n",
       "<table border=\"1\" class=\"dataframe\">\n",
       "  <thead>\n",
       "    <tr style=\"text-align: right;\">\n",
       "      <th></th>\n",
       "      <th>rowid</th>\n",
       "      <th>species</th>\n",
       "      <th>island</th>\n",
       "      <th>bill_length_mm</th>\n",
       "      <th>bill_depth_mm</th>\n",
       "      <th>flipper_length_mm</th>\n",
       "      <th>body_mass_g</th>\n",
       "      <th>sex</th>\n",
       "      <th>year</th>\n",
       "    </tr>\n",
       "  </thead>\n",
       "  <tbody>\n",
       "    <tr>\n",
       "      <th>0</th>\n",
       "      <td>1</td>\n",
       "      <td>Adelie</td>\n",
       "      <td>Torgersen</td>\n",
       "      <td>39.1</td>\n",
       "      <td>18.7</td>\n",
       "      <td>181.0</td>\n",
       "      <td>3750.0</td>\n",
       "      <td>male</td>\n",
       "      <td>2007</td>\n",
       "    </tr>\n",
       "    <tr>\n",
       "      <th>1</th>\n",
       "      <td>2</td>\n",
       "      <td>Adelie</td>\n",
       "      <td>Torgersen</td>\n",
       "      <td>39.5</td>\n",
       "      <td>17.4</td>\n",
       "      <td>186.0</td>\n",
       "      <td>3800.0</td>\n",
       "      <td>female</td>\n",
       "      <td>2007</td>\n",
       "    </tr>\n",
       "    <tr>\n",
       "      <th>2</th>\n",
       "      <td>3</td>\n",
       "      <td>Adelie</td>\n",
       "      <td>Torgersen</td>\n",
       "      <td>40.3</td>\n",
       "      <td>18.0</td>\n",
       "      <td>195.0</td>\n",
       "      <td>3250.0</td>\n",
       "      <td>female</td>\n",
       "      <td>2007</td>\n",
       "    </tr>\n",
       "    <tr>\n",
       "      <th>3</th>\n",
       "      <td>4</td>\n",
       "      <td>Adelie</td>\n",
       "      <td>Torgersen</td>\n",
       "      <td>NaN</td>\n",
       "      <td>NaN</td>\n",
       "      <td>NaN</td>\n",
       "      <td>NaN</td>\n",
       "      <td>NaN</td>\n",
       "      <td>2007</td>\n",
       "    </tr>\n",
       "    <tr>\n",
       "      <th>4</th>\n",
       "      <td>5</td>\n",
       "      <td>Adelie</td>\n",
       "      <td>Torgersen</td>\n",
       "      <td>36.7</td>\n",
       "      <td>19.3</td>\n",
       "      <td>193.0</td>\n",
       "      <td>3450.0</td>\n",
       "      <td>female</td>\n",
       "      <td>2007</td>\n",
       "    </tr>\n",
       "    <tr>\n",
       "      <th>...</th>\n",
       "      <td>...</td>\n",
       "      <td>...</td>\n",
       "      <td>...</td>\n",
       "      <td>...</td>\n",
       "      <td>...</td>\n",
       "      <td>...</td>\n",
       "      <td>...</td>\n",
       "      <td>...</td>\n",
       "      <td>...</td>\n",
       "    </tr>\n",
       "    <tr>\n",
       "      <th>339</th>\n",
       "      <td>340</td>\n",
       "      <td>Chinstrap</td>\n",
       "      <td>Dream</td>\n",
       "      <td>55.8</td>\n",
       "      <td>19.8</td>\n",
       "      <td>207.0</td>\n",
       "      <td>4000.0</td>\n",
       "      <td>male</td>\n",
       "      <td>2009</td>\n",
       "    </tr>\n",
       "    <tr>\n",
       "      <th>340</th>\n",
       "      <td>341</td>\n",
       "      <td>Chinstrap</td>\n",
       "      <td>Dream</td>\n",
       "      <td>43.5</td>\n",
       "      <td>18.1</td>\n",
       "      <td>202.0</td>\n",
       "      <td>3400.0</td>\n",
       "      <td>female</td>\n",
       "      <td>2009</td>\n",
       "    </tr>\n",
       "    <tr>\n",
       "      <th>341</th>\n",
       "      <td>342</td>\n",
       "      <td>Chinstrap</td>\n",
       "      <td>Dream</td>\n",
       "      <td>49.6</td>\n",
       "      <td>18.2</td>\n",
       "      <td>193.0</td>\n",
       "      <td>3775.0</td>\n",
       "      <td>male</td>\n",
       "      <td>2009</td>\n",
       "    </tr>\n",
       "    <tr>\n",
       "      <th>342</th>\n",
       "      <td>343</td>\n",
       "      <td>Chinstrap</td>\n",
       "      <td>Dream</td>\n",
       "      <td>50.8</td>\n",
       "      <td>19.0</td>\n",
       "      <td>210.0</td>\n",
       "      <td>4100.0</td>\n",
       "      <td>male</td>\n",
       "      <td>2009</td>\n",
       "    </tr>\n",
       "    <tr>\n",
       "      <th>343</th>\n",
       "      <td>344</td>\n",
       "      <td>Chinstrap</td>\n",
       "      <td>Dream</td>\n",
       "      <td>50.2</td>\n",
       "      <td>18.7</td>\n",
       "      <td>198.0</td>\n",
       "      <td>3775.0</td>\n",
       "      <td>female</td>\n",
       "      <td>2009</td>\n",
       "    </tr>\n",
       "  </tbody>\n",
       "</table>\n",
       "<p>344 rows × 9 columns</p>\n",
       "</div>"
      ],
      "text/plain": [
       "     rowid    species     island  bill_length_mm  bill_depth_mm  \\\n",
       "0        1     Adelie  Torgersen            39.1           18.7   \n",
       "1        2     Adelie  Torgersen            39.5           17.4   \n",
       "2        3     Adelie  Torgersen            40.3           18.0   \n",
       "3        4     Adelie  Torgersen             NaN            NaN   \n",
       "4        5     Adelie  Torgersen            36.7           19.3   \n",
       "..     ...        ...        ...             ...            ...   \n",
       "339    340  Chinstrap      Dream            55.8           19.8   \n",
       "340    341  Chinstrap      Dream            43.5           18.1   \n",
       "341    342  Chinstrap      Dream            49.6           18.2   \n",
       "342    343  Chinstrap      Dream            50.8           19.0   \n",
       "343    344  Chinstrap      Dream            50.2           18.7   \n",
       "\n",
       "     flipper_length_mm  body_mass_g     sex  year  \n",
       "0                181.0       3750.0    male  2007  \n",
       "1                186.0       3800.0  female  2007  \n",
       "2                195.0       3250.0  female  2007  \n",
       "3                  NaN          NaN     NaN  2007  \n",
       "4                193.0       3450.0  female  2007  \n",
       "..                 ...          ...     ...   ...  \n",
       "339              207.0       4000.0    male  2009  \n",
       "340              202.0       3400.0  female  2009  \n",
       "341              193.0       3775.0    male  2009  \n",
       "342              210.0       4100.0    male  2009  \n",
       "343              198.0       3775.0  female  2009  \n",
       "\n",
       "[344 rows x 9 columns]"
      ]
     },
     "execution_count": 30,
     "metadata": {},
     "output_type": "execute_result"
    }
   ],
   "source": [
    "penguins"
   ]
  },
  {
   "cell_type": "code",
   "execution_count": 31,
   "metadata": {},
   "outputs": [],
   "source": [
    "c_penguins = CART(penguins,\"species\",[\"island\",\"bill_length_mm\",\"bill_depth_mm\",\"flipper_length_mm\",\"body_mass_g\",\"sex\"])"
   ]
  },
  {
   "cell_type": "code",
   "execution_count": 32,
   "metadata": {},
   "outputs": [
    {
     "name": "stdout",
     "output_type": "stream",
     "text": [
      "A tree with 15 was created\n"
     ]
    },
    {
     "data": {
      "text/plain": [
       "<__main__.Tree at 0x7f7bf2c4b090>"
      ]
     },
     "execution_count": 32,
     "metadata": {},
     "output_type": "execute_result"
    }
   ],
   "source": [
    "c_penguins.create_tree()"
   ]
  },
  {
   "cell_type": "code",
   "execution_count": 33,
   "metadata": {},
   "outputs": [
    {
     "data": {
      "text/plain": [
       "{'precision': array([1., 1., 1.]),\n",
       " 'recall': array([1., 1., 1.]),\n",
       " 'F-score': 1.0,\n",
       " 'accuracy': 1.0}"
      ]
     },
     "execution_count": 33,
     "metadata": {},
     "output_type": "execute_result"
    }
   ],
   "source": [
    "c_penguins.metrics()"
   ]
  },
  {
   "cell_type": "code",
   "execution_count": 34,
   "metadata": {},
   "outputs": [
    {
     "data": {
      "text/plain": [
       "{'alpha': [0,\n",
       "  0.001453488372093023,\n",
       "  0.002906976744186046,\n",
       "  0.002906976744186047,\n",
       "  0.0029069767441860478,\n",
       "  0.004844961240310083,\n",
       "  0.0058139534883720955,\n",
       "  0.00872093023255814,\n",
       "  0.023255813953488393,\n",
       "  0.14244186046511625],\n",
       " 'R': [0.002906976744186046,\n",
       "  0.005813953488372092,\n",
       "  0.00872093023255814,\n",
       "  0.011627906976744188,\n",
       "  0.026162790697674437,\n",
       "  0.03779069767441863,\n",
       "  0.04651162790697677,\n",
       "  0.06976744186046516,\n",
       "  0.21220930232558144,\n",
       "  0.5581395348837209],\n",
       " 'n_leafs': [13, 12, 11, 10, 7, 5, 4, 3, 2, 1]}"
      ]
     },
     "execution_count": 34,
     "metadata": {},
     "output_type": "execute_result"
    }
   ],
   "source": [
    "c_penguins.prune()\n"
   ]
  },
  {
   "cell_type": "code",
   "execution_count": 35,
   "metadata": {},
   "outputs": [
    {
     "data": {
      "text/plain": [
       "{'alpha': [0,\n",
       "  0.001453488372093023,\n",
       "  0.002906976744186046,\n",
       "  0.002906976744186047,\n",
       "  0.0029069767441860478,\n",
       "  0.004844961240310083],\n",
       " 'R': [0.002906976744186046,\n",
       "  0.005813953488372092,\n",
       "  0.00872093023255814,\n",
       "  0.011627906976744188,\n",
       "  0.026162790697674437,\n",
       "  0.03779069767441863],\n",
       " 'n_leafs': [13, 12, 11, 10, 7, 5]}"
      ]
     },
     "execution_count": 35,
     "metadata": {},
     "output_type": "execute_result"
    }
   ],
   "source": [
    "c_penguins.prune(alpha_max=5e-3)"
   ]
  },
  {
   "cell_type": "code",
   "execution_count": 36,
   "metadata": {},
   "outputs": [
    {
     "data": {
      "text/plain": [
       "<bound method CART.metrics of <__main__.CART object at 0x7f7bf2adee90>>"
      ]
     },
     "execution_count": 36,
     "metadata": {},
     "output_type": "execute_result"
    }
   ],
   "source": [
    "c_penguins.metrics"
   ]
  },
  {
   "cell_type": "code",
   "execution_count": 37,
   "metadata": {},
   "outputs": [
    {
     "name": "stdout",
     "output_type": "stream",
     "text": [
      "flipper_length_mm<204.36\n",
      "├── bill_length_mm<43.68\n",
      "│   ├── Adelie\n",
      "│   └── Chinstrap\n",
      "└── island in ('Dream', 'Torgersen')\n",
      "    ├── Gentoo\n",
      "    └── bill_length_mm<44.34\n",
      "        ├── Adelie\n",
      "        └── Chinstrap\n",
      "\n"
     ]
    }
   ],
   "source": [
    "c_penguins.tree.show()"
   ]
  },
  {
   "cell_type": "code",
   "execution_count": 38,
   "metadata": {},
   "outputs": [
    {
     "name": "stdout",
     "output_type": "stream",
     "text": [
      "Sex in ('male',)\n",
      "├── Pclass<1.47\n",
      "│   ├── 0\n",
      "│   └── Age<45.02\n",
      "│       ├── 0\n",
      "│       └── Age<10.37\n",
      "│           ├── 0\n",
      "│           └── Siblings/Spouses Aboard<1.17\n",
      "│               ├── 0\n",
      "│               └── 1\n",
      "└── Pclass<2.24\n",
      "    ├── 1\n",
      "    └── Fare<24.67\n",
      "        ├── 0\n",
      "        └── Age<37.99\n",
      "            ├── 0\n",
      "            └── 1\n",
      "\n"
     ]
    }
   ],
   "source": [
    "c_titanic.tree.show()"
   ]
  },
  {
   "cell_type": "code",
   "execution_count": 39,
   "metadata": {},
   "outputs": [
    {
     "name": "stdout",
     "output_type": "stream",
     "text": [
      "petal_length<2.30\n",
      "├── petal_width<1.65\n",
      "│   ├── versicolor\n",
      "│   └── virginica\n",
      "└── setosa\n",
      "\n"
     ]
    }
   ],
   "source": [
    "c.tree.show()"
   ]
  },
  {
   "cell_type": "code",
   "execution_count": 40,
   "metadata": {},
   "outputs": [
    {
     "name": "stdout",
     "output_type": "stream",
     "text": [
      "A tree with 12 was created\n",
      "{'alpha': [0, 0, 0.0016666666666666642, 0.006666666666666663, 0.29333333333333333], 'R': [0.006666666666666665, 0.013333333333333322, 0.03999999999999997, 0.3333333333333333, 0.6666666666666667], 'n_leafs': [11, 7, 3, 2, 1]}\n",
      "A tree with 8 was created\n",
      "{'alpha': [0, 0.002083333333333334, 0.024999999999999988, 0.2750000000000001], 'R': [0.008333333333333337, 0.033333333333333326, 0.3083333333333334, 0.6416666666666666], 'n_leafs': [4, 3, 2, 1]}\n",
      "A tree with 8 was created\n",
      "{'alpha': [0, 0, 0.005555555555555556, 0.01666666666666668, 0.29166666666666663], 'R': [0.008333333333333318, 0.024999999999999984, 0.041666666666666664, 0.3333333333333333, 0.65], 'n_leafs': [7, 4, 3, 2, 1]}\n",
      "A tree with 9 was created\n",
      "{'alpha': [0, 0, 0.004166666666666668, 0.012499999999999994, 0.2750000000000001], 'R': [0.008333333333333318, 0.016666666666666656, 0.041666666666666644, 0.3166666666666667, 0.65], 'n_leafs': [7, 5, 3, 2, 1]}\n",
      "A tree with 11 was created\n",
      "{'alpha': [0, 0, 1.214306433183765e-17, 0.004166666666666671, 0.008333333333333335, 0.016666666666666646], 'R': [0.008333333333333328, 0.00833333333333334, 0.016666666666666684, 0.033333333333333354, 0.049999999999999996, 0.6333333333333333], 'n_leafs': [9, 8, 6, 4, 3, 1]}\n",
      "A tree with 9 was created\n",
      "{'alpha': [0, 0, 8.673617379884035e-18, 0.0041666666666666675, 0.27499999999999997], 'R': [0.008333333333333331, 0.00833333333333334, 0.02500000000000001, 0.3, 0.6333333333333333], 'n_leafs': [8, 7, 3, 2, 1]}\n"
     ]
    }
   ],
   "source": [
    "c.train()\n"
   ]
  },
  {
   "cell_type": "code",
   "execution_count": null,
   "metadata": {},
   "outputs": [],
   "source": []
  }
 ],
 "metadata": {
  "kernelspec": {
   "display_name": "Python 3 (ipykernel)",
   "language": "python",
   "name": "python3"
  },
  "language_info": {
   "codemirror_mode": {
    "name": "ipython",
    "version": 3
   },
   "file_extension": ".py",
   "mimetype": "text/x-python",
   "name": "python",
   "nbconvert_exporter": "python",
   "pygments_lexer": "ipython3",
   "version": "3.7.12"
  }
 },
 "nbformat": 4,
 "nbformat_minor": 4
}
