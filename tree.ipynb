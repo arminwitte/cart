{
  "metadata": {
    "language_info": {
      "codemirror_mode": {
        "name": "python",
        "version": 3
      },
      "file_extension": ".py",
      "mimetype": "text/x-python",
      "name": "python",
      "nbconvert_exporter": "python",
      "pygments_lexer": "ipython3",
      "version": "3.8"
    },
    "kernelspec": {
      "name": "python",
      "display_name": "Python (Pyodide)",
      "language": "python"
    }
  },
  "nbformat_minor": 4,
  "nbformat": 4,
  "cells": [
    {
      "cell_type": "code",
      "source": "import pandas as pd\nimport numpy as np\nimport scipy.optimize as opt",
      "metadata": {
        "trusted": true
      },
      "execution_count": 1,
      "outputs": []
    },
    {
      "cell_type": "code",
      "source": "class Leaf:\n    def __init__(self,value):\n        self.value = value",
      "metadata": {
        "tags": [],
        "trusted": true
      },
      "execution_count": 2,
      "outputs": []
    },
    {
      "cell_type": "code",
      "source": "class Node:\n    def __init__(self,branches,attribute,threshold):\n        self.branches = branches\n        self.threshold = threshold\n        self.attribute = attribute\n        \n    def get(self,df):\n        return self.branches[0] if df[self.attribute] < self.threshold else self.branches[1]\n        ",
      "metadata": {
        "trusted": true
      },
      "execution_count": 3,
      "outputs": []
    },
    {
      "cell_type": "code",
      "source": "class Tree:\n    def __init__(self,root):\n        self.root = root\n        \n    def predict(self,x):\n        item = self.root\n        while isinstance(item,Node):\n            item = item.get(x)\n        return item",
      "metadata": {
        "trusted": true
      },
      "execution_count": 4,
      "outputs": []
    },
    {
      "cell_type": "code",
      "source": "r=Node([Leaf('young'),Leaf('old')],\"age\",18)\nt=Tree(r)\nprint(t.predict({\"age\":2}).value)",
      "metadata": {
        "trusted": true
      },
      "execution_count": 5,
      "outputs": [
        {
          "name": "stdout",
          "text": "young\n",
          "output_type": "stream"
        }
      ]
    },
    {
      "cell_type": "code",
      "source": "df=pd.read_csv(\"iris.csv\")",
      "metadata": {
        "trusted": true
      },
      "execution_count": 6,
      "outputs": []
    },
    {
      "cell_type": "code",
      "source": "print(t.predict({\"age\":20}).value)",
      "metadata": {
        "trusted": true
      },
      "execution_count": 7,
      "outputs": [
        {
          "name": "stdout",
          "text": "old\n",
          "output_type": "stream"
        }
      ]
    },
    {
      "cell_type": "code",
      "source": "class CART:\n    def __init__(self,df,y_name,X_names):\n        self.df = df\n        self.y_name = y_name\n        self.X_names = X_names\n        self.tree = None\n        \n    def create_tree(self):\n        root = self._node_or_leaf(self.df)\n        self.tree = Tree(root)\n        return self.tree\n    \n    def _gini_impurity(self, df):\n        unique, counts = np.unique(df[self.y_name].values, return_counts=True)\n        N = df[self.y_name].values.ravel().size\n        p = counts/N\n        #print(unique)\n        #print(p)\n        return 1. - np.sum(p**2)\n    \n    def _opt_fun(self,df,split_name):\n        df1 = df[df[split_name]<split_threshold]\n        \n    def _node_or_leaf(self,df,loss_parent=0.99):\n        loss_best, split_df, split_threshold, split_name = self._loss_best(df)\n        print(f\"Computed split:\\nloss: {loss_best:.2f} (parent: {loss_parent:.2f})\\nattribute: {split_name}\\nthreshold: {split_threshold}\\ncount: {[len(df_.index) for df_ in split_df]}\")\n        if loss_best < loss_parent and loss_best > 0.:\n            branches = []\n            for i in range(2):\n                branches.append(self._node_or_leaf(split_df[i],loss_parent=loss_best))\n            item = Node(branches,split_name,split_threshold)\n            print(f\"\\n * creating Node({split_name}, {split_threshold})\")\n        else:\n            value = np.unique(df[self.y_name])[0]\n            item = Leaf(value)\n            print(f\"\\n * creating Leaf({value})\")\n        return item\n    \n    def _loss_best(self,df):\n        loss0 = 10\n        for name in self.X_names:\n            split_threshold_ = np.median(df[name].values)\n            split_df_ = [df[df[name]<split_threshold_],\n                        df[df[name]>=split_threshold_]]\n            loss = self._loss(split_df_[0]) + self._loss(split_df_[1])\n            if loss < loss0:\n                loss0 = loss\n                split_threshold = split_threshold_\n                split_df = split_df_\n                split_name = name\n                \n        #print(loss0)\n                \n        return loss0, split_df, split_threshold, split_name\n    \n    def _loss(self,df):\n        return self._gini_impurity(df)\n            \n        \n        ",
      "metadata": {
        "trusted": true
      },
      "execution_count": 8,
      "outputs": []
    },
    {
      "cell_type": "code",
      "source": "df.columns\nX_names=[\"sepal_length\",\"sepal_width\"]\ndf[X_names]",
      "metadata": {
        "trusted": true
      },
      "execution_count": 9,
      "outputs": [
        {
          "execution_count": 9,
          "output_type": "execute_result",
          "data": {
            "text/plain": "     sepal_length  sepal_width\n0             5.1          3.5\n1             4.9          3.0\n2             4.7          3.2\n3             4.6          3.1\n4             5.0          3.6\n..            ...          ...\n145           6.7          3.0\n146           6.3          2.5\n147           6.5          3.0\n148           6.2          3.4\n149           5.9          3.0\n\n[150 rows x 2 columns]",
            "text/html": "<div>\n<style scoped>\n    .dataframe tbody tr th:only-of-type {\n        vertical-align: middle;\n    }\n\n    .dataframe tbody tr th {\n        vertical-align: top;\n    }\n\n    .dataframe thead th {\n        text-align: right;\n    }\n</style>\n<table border=\"1\" class=\"dataframe\">\n  <thead>\n    <tr style=\"text-align: right;\">\n      <th></th>\n      <th>sepal_length</th>\n      <th>sepal_width</th>\n    </tr>\n  </thead>\n  <tbody>\n    <tr>\n      <th>0</th>\n      <td>5.1</td>\n      <td>3.5</td>\n    </tr>\n    <tr>\n      <th>1</th>\n      <td>4.9</td>\n      <td>3.0</td>\n    </tr>\n    <tr>\n      <th>2</th>\n      <td>4.7</td>\n      <td>3.2</td>\n    </tr>\n    <tr>\n      <th>3</th>\n      <td>4.6</td>\n      <td>3.1</td>\n    </tr>\n    <tr>\n      <th>4</th>\n      <td>5.0</td>\n      <td>3.6</td>\n    </tr>\n    <tr>\n      <th>...</th>\n      <td>...</td>\n      <td>...</td>\n    </tr>\n    <tr>\n      <th>145</th>\n      <td>6.7</td>\n      <td>3.0</td>\n    </tr>\n    <tr>\n      <th>146</th>\n      <td>6.3</td>\n      <td>2.5</td>\n    </tr>\n    <tr>\n      <th>147</th>\n      <td>6.5</td>\n      <td>3.0</td>\n    </tr>\n    <tr>\n      <th>148</th>\n      <td>6.2</td>\n      <td>3.4</td>\n    </tr>\n    <tr>\n      <th>149</th>\n      <td>5.9</td>\n      <td>3.0</td>\n    </tr>\n  </tbody>\n</table>\n<p>150 rows × 2 columns</p>\n</div>"
          },
          "metadata": {}
        }
      ]
    },
    {
      "cell_type": "code",
      "source": "",
      "metadata": {},
      "execution_count": null,
      "outputs": []
    },
    {
      "cell_type": "code",
      "source": "df.iloc[0]",
      "metadata": {
        "trusted": true
      },
      "execution_count": 10,
      "outputs": [
        {
          "execution_count": 10,
          "output_type": "execute_result",
          "data": {
            "text/plain": "sepal_length       5.1\nsepal_width        3.5\npetal_length       1.4\npetal_width        0.2\nspecies         setosa\nName: 0, dtype: object"
          },
          "metadata": {}
        }
      ]
    },
    {
      "cell_type": "code",
      "source": "c = CART(df,\"species\",X_names)\nc.create_tree()",
      "metadata": {
        "trusted": true
      },
      "execution_count": 11,
      "outputs": [
        {
          "name": "stdout",
          "text": "Computed split:\nloss: 0.95 (parent: 0.99)\nattribute: sepal_length\nthreshold: 5.8\ncount: [73, 77]\nComputed split:\nloss: 0.54 (parent: 0.95)\nattribute: sepal_width\nthreshold: 3.2\ncount: [36, 37]\nComputed split:\nloss: 0.67 (parent: 0.54)\nattribute: sepal_length\nthreshold: 5.300000000000001\ncount: [18, 18]\n\n * creating Leaf(setosa)\nComputed split:\nloss: 0.00 (parent: 0.54)\nattribute: sepal_length\nthreshold: 5.1\ncount: [16, 21]\n\n * creating Leaf(setosa)\n\n * creating Node(sepal_width, 3.2)\nComputed split:\nloss: 0.91 (parent: 0.95)\nattribute: sepal_length\nthreshold: 6.4\ncount: [35, 42]\nComputed split:\nloss: 1.03 (parent: 0.91)\nattribute: sepal_width\nthreshold: 2.8\ncount: [14, 21]\n\n * creating Leaf(setosa)\nComputed split:\nloss: 0.80 (parent: 0.91)\nattribute: sepal_length\nthreshold: 6.7\ncount: [14, 28]\nComputed split:\nloss: 0.88 (parent: 0.80)\nattribute: sepal_width\nthreshold: 3.0\ncount: [6, 8]\n\n * creating Leaf(versicolor)\nComputed split:\nloss: 0.65 (parent: 0.80)\nattribute: sepal_width\nthreshold: 3.1\ncount: [13, 15]\nComputed split:\nloss: 0.44 (parent: 0.65)\nattribute: sepal_length\nthreshold: 7.2\ncount: [6, 7]\nComputed split:\nloss: 0.88 (parent: 0.44)\nattribute: sepal_width\nthreshold: 3.0\ncount: [2, 4]\n\n * creating Leaf(versicolor)\nComputed split:\nloss: 0.00 (parent: 0.44)\nattribute: sepal_length\nthreshold: 7.6\ncount: [3, 4]\n\n * creating Leaf(virginica)\n\n * creating Node(sepal_length, 7.2)\nComputed split:\nloss: 0.70 (parent: 0.65)\nattribute: sepal_width\nthreshold: 3.2\ncount: [6, 9]\n\n * creating Leaf(versicolor)\n\n * creating Node(sepal_width, 3.1)\n\n * creating Node(sepal_length, 6.7)\n\n * creating Node(sepal_length, 6.4)\n\n * creating Node(sepal_length, 5.8)\n",
          "output_type": "stream"
        },
        {
          "execution_count": 11,
          "output_type": "execute_result",
          "data": {
            "text/plain": "<__main__.Tree at 0x3eca268>"
          },
          "metadata": {}
        }
      ]
    },
    {
      "cell_type": "code",
      "source": "c.tree.predict(df.iloc[0]).value",
      "metadata": {
        "trusted": true
      },
      "execution_count": 12,
      "outputs": [
        {
          "execution_count": 12,
          "output_type": "execute_result",
          "data": {
            "text/plain": "'setosa'"
          },
          "metadata": {}
        }
      ]
    },
    {
      "cell_type": "code",
      "source": "",
      "metadata": {},
      "execution_count": null,
      "outputs": []
    }
  ]
}