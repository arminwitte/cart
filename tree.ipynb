{
 "cells": [
  {
   "cell_type": "code",
   "execution_count": 1,
   "metadata": {},
   "outputs": [],
   "source": [
    "import pandas as pd\n",
    "import numpy as np\n",
    "import scipy.optimize as opt"
   ]
  },
  {
   "cell_type": "code",
   "execution_count": 2,
   "metadata": {
    "tags": []
   },
   "outputs": [],
   "source": [
    "class Leaf:\n",
    "    def __init__(self,value):\n",
    "        self.value = value"
   ]
  },
  {
   "cell_type": "code",
   "execution_count": 3,
   "metadata": {},
   "outputs": [],
   "source": [
    "class Node:\n",
    "    def __init__(self,branches,attribute,threshold):\n",
    "        self.branches = branches\n",
    "        self.threshold = threshold\n",
    "        self.attribute = attribute\n",
    "        \n",
    "    def get(self,df):\n",
    "        return self.branches[0] if df[self.attribute] < self.threshold else self.branches[1]\n",
    "        "
   ]
  },
  {
   "cell_type": "code",
   "execution_count": 4,
   "metadata": {},
   "outputs": [],
   "source": [
    "class Tree:\n",
    "    def __init__(self,root):\n",
    "        self.root = root\n",
    "        \n",
    "    def predict(self,x):\n",
    "        item = self.root\n",
    "        while isinstance(item,Node):\n",
    "            item = item.get(x)\n",
    "        return item"
   ]
  },
  {
   "cell_type": "code",
   "execution_count": 5,
   "metadata": {},
   "outputs": [
    {
     "name": "stdout",
     "output_type": "stream",
     "text": [
      "young\n"
     ]
    }
   ],
   "source": [
    "r=Node([Leaf('young'),Leaf('old')],\"age\",18)\n",
    "t=Tree(r)\n",
    "print(t.predict({\"age\":2}).value)"
   ]
  },
  {
   "cell_type": "code",
   "execution_count": 6,
   "metadata": {},
   "outputs": [
    {
     "name": "stdout",
     "output_type": "stream",
     "text": [
      "old\n"
     ]
    }
   ],
   "source": [
    "print(t.predict({\"age\":20}).value)"
   ]
  },
  {
   "cell_type": "code",
   "execution_count": 7,
   "metadata": {},
   "outputs": [],
   "source": [
    "class CART:\n",
    "    def __init__(self,df,y_name,X_names):\n",
    "        self.df = df\n",
    "        self.y_name = y_name\n",
    "        self.X_names = X_names\n",
    "        self.tree = None\n",
    "        \n",
    "    def create_tree(self):\n",
    "        root = self._node_or_leaf(self.df)\n",
    "        self.tree = Tree(root)\n",
    "        return self.tree\n",
    "    \n",
    "    def _gini_impurity(self, df):\n",
    "        unique, counts = np.unique(df[self.y_name].values, return_counts=True)\n",
    "        N = df[self.y_name].values.ravel().size\n",
    "        p = counts/N\n",
    "        #print(unique)\n",
    "        #print(p)\n",
    "        return 1. - np.sum(p**2)\n",
    "    \n",
    "    def _opt_fun(self,df,split_name):\n",
    "        def fun(x):\n",
    "            split_df = [df[df[split_name]<x],\n",
    "                        df[df[split_name]>=x]]\n",
    "            return self._loss(split_df[0]) + self._loss(split_df[1])\n",
    "        return fun\n",
    "        \n",
    "    def _node_or_leaf(self,df,loss_parent=0.99):\n",
    "        loss_best, split_df, split_threshold, split_name = self._loss_best(df)\n",
    "        print(f\"Computed split:\\nloss: {loss_best:.2f} (parent: {loss_parent:.2f})\\nattribute: {split_name}\\nthreshold: {split_threshold}\\ncount: {[len(df_.index) for df_ in split_df]}\")\n",
    "        if loss_best < loss_parent and loss_best > 0.:\n",
    "            print(f\"  => creating Node({split_name}, {split_threshold})\\n\")\n",
    "            branches = []\n",
    "            for i in range(2):\n",
    "                branches.append(self._node_or_leaf(split_df[i],loss_parent=loss_best))\n",
    "            item = Node(branches,split_name,split_threshold)\n",
    "        else:\n",
    "            unique, counts = np.unique(df[self.y_name].values,return_counts=True)\n",
    "            print(unique, counts)\n",
    "            sort_ind = np.argsort(-counts)\n",
    "            value = unique[sort_ind[0]]\n",
    "            item = Leaf(value)\n",
    "            print(f\"  => creating Leaf({value}, N={len(df.index)})\\n\")\n",
    "        return item\n",
    "    \n",
    "    def _loss_best(self,df):\n",
    "        loss0 = 10\n",
    "        for name in self.X_names:\n",
    "            #split_threshold_ = np.median(df[name].v\n",
    "            res = opt.minimize_scalar(self._opt_fun(df,name),bounds=(df[name].min(),df[name].max()),method=\"bounded\")\n",
    "            split_threshold_ = res.x\n",
    "            split_df_ = [df[df[name]<split_threshold_],\n",
    "                        df[df[name]>=split_threshold_]]\n",
    "            #loss = self._loss(split_df_[0]) + self._loss(split_df_[1])\n",
    "            loss = res.fun\n",
    "            if loss < loss0:\n",
    "                loss0 = loss\n",
    "                split_threshold = split_threshold_\n",
    "                split_df = split_df_\n",
    "                split_name = name\n",
    "                \n",
    "        #print(loss0)\n",
    "                \n",
    "        return loss0, split_df, split_threshold, split_name\n",
    "    \n",
    "    def _loss(self,df):\n",
    "        return self._gini_impurity(df)\n",
    "            \n",
    "        \n",
    "        "
   ]
  },
  {
   "cell_type": "code",
   "execution_count": 8,
   "metadata": {},
   "outputs": [],
   "source": [
    "df=pd.read_csv(\"iris.csv\")"
   ]
  },
  {
   "cell_type": "code",
   "execution_count": 9,
   "metadata": {},
   "outputs": [
    {
     "data": {
      "text/html": [
       "<div>\n",
       "<style scoped>\n",
       "    .dataframe tbody tr th:only-of-type {\n",
       "        vertical-align: middle;\n",
       "    }\n",
       "\n",
       "    .dataframe tbody tr th {\n",
       "        vertical-align: top;\n",
       "    }\n",
       "\n",
       "    .dataframe thead th {\n",
       "        text-align: right;\n",
       "    }\n",
       "</style>\n",
       "<table border=\"1\" class=\"dataframe\">\n",
       "  <thead>\n",
       "    <tr style=\"text-align: right;\">\n",
       "      <th></th>\n",
       "      <th>sepal_length</th>\n",
       "      <th>sepal_width</th>\n",
       "      <th>petal_length</th>\n",
       "      <th>petal_width</th>\n",
       "    </tr>\n",
       "  </thead>\n",
       "  <tbody>\n",
       "    <tr>\n",
       "      <th>0</th>\n",
       "      <td>5.1</td>\n",
       "      <td>3.5</td>\n",
       "      <td>1.4</td>\n",
       "      <td>0.2</td>\n",
       "    </tr>\n",
       "    <tr>\n",
       "      <th>1</th>\n",
       "      <td>4.9</td>\n",
       "      <td>3.0</td>\n",
       "      <td>1.4</td>\n",
       "      <td>0.2</td>\n",
       "    </tr>\n",
       "    <tr>\n",
       "      <th>2</th>\n",
       "      <td>4.7</td>\n",
       "      <td>3.2</td>\n",
       "      <td>1.3</td>\n",
       "      <td>0.2</td>\n",
       "    </tr>\n",
       "    <tr>\n",
       "      <th>3</th>\n",
       "      <td>4.6</td>\n",
       "      <td>3.1</td>\n",
       "      <td>1.5</td>\n",
       "      <td>0.2</td>\n",
       "    </tr>\n",
       "    <tr>\n",
       "      <th>4</th>\n",
       "      <td>5.0</td>\n",
       "      <td>3.6</td>\n",
       "      <td>1.4</td>\n",
       "      <td>0.2</td>\n",
       "    </tr>\n",
       "    <tr>\n",
       "      <th>...</th>\n",
       "      <td>...</td>\n",
       "      <td>...</td>\n",
       "      <td>...</td>\n",
       "      <td>...</td>\n",
       "    </tr>\n",
       "    <tr>\n",
       "      <th>145</th>\n",
       "      <td>6.7</td>\n",
       "      <td>3.0</td>\n",
       "      <td>5.2</td>\n",
       "      <td>2.3</td>\n",
       "    </tr>\n",
       "    <tr>\n",
       "      <th>146</th>\n",
       "      <td>6.3</td>\n",
       "      <td>2.5</td>\n",
       "      <td>5.0</td>\n",
       "      <td>1.9</td>\n",
       "    </tr>\n",
       "    <tr>\n",
       "      <th>147</th>\n",
       "      <td>6.5</td>\n",
       "      <td>3.0</td>\n",
       "      <td>5.2</td>\n",
       "      <td>2.0</td>\n",
       "    </tr>\n",
       "    <tr>\n",
       "      <th>148</th>\n",
       "      <td>6.2</td>\n",
       "      <td>3.4</td>\n",
       "      <td>5.4</td>\n",
       "      <td>2.3</td>\n",
       "    </tr>\n",
       "    <tr>\n",
       "      <th>149</th>\n",
       "      <td>5.9</td>\n",
       "      <td>3.0</td>\n",
       "      <td>5.1</td>\n",
       "      <td>1.8</td>\n",
       "    </tr>\n",
       "  </tbody>\n",
       "</table>\n",
       "<p>150 rows × 4 columns</p>\n",
       "</div>"
      ],
      "text/plain": [
       "     sepal_length  sepal_width  petal_length  petal_width\n",
       "0             5.1          3.5           1.4          0.2\n",
       "1             4.9          3.0           1.4          0.2\n",
       "2             4.7          3.2           1.3          0.2\n",
       "3             4.6          3.1           1.5          0.2\n",
       "4             5.0          3.6           1.4          0.2\n",
       "..            ...          ...           ...          ...\n",
       "145           6.7          3.0           5.2          2.3\n",
       "146           6.3          2.5           5.0          1.9\n",
       "147           6.5          3.0           5.2          2.0\n",
       "148           6.2          3.4           5.4          2.3\n",
       "149           5.9          3.0           5.1          1.8\n",
       "\n",
       "[150 rows x 4 columns]"
      ]
     },
     "execution_count": 9,
     "metadata": {},
     "output_type": "execute_result"
    }
   ],
   "source": [
    "df.columns\n",
    "X_names=[\"sepal_length\",\"sepal_width\",\"petal_length\",\"petal_width\"]\n",
    "df[X_names]"
   ]
  },
  {
   "cell_type": "code",
   "execution_count": 10,
   "metadata": {},
   "outputs": [
    {
     "data": {
      "text/plain": [
       "sepal_length       5.1\n",
       "sepal_width        3.5\n",
       "petal_length       1.4\n",
       "petal_width        0.2\n",
       "species         setosa\n",
       "Name: 0, dtype: object"
      ]
     },
     "execution_count": 10,
     "metadata": {},
     "output_type": "execute_result"
    }
   ],
   "source": [
    "df.iloc[0]"
   ]
  },
  {
   "cell_type": "code",
   "execution_count": 11,
   "metadata": {},
   "outputs": [
    {
     "name": "stdout",
     "output_type": "stream",
     "text": [
      "Computed split:\n",
      "loss: 0.50 (parent: 0.99)\n",
      "attribute: petal_length\n",
      "threshold: 2.3928050106119554\n",
      "count: [50, 100]\n",
      "  => creating Node(petal_length, 2.3928050106119554)\n",
      "\n",
      "Computed split:\n",
      "loss: 0.00 (parent: 0.50)\n",
      "attribute: sepal_length\n",
      "threshold: 5.799994478069624\n",
      "count: [49, 1]\n",
      "['setosa'] [50]\n",
      "  => creating Leaf(setosa, N=50)\n",
      "\n",
      "Computed split:\n",
      "loss: 0.21 (parent: 0.50)\n",
      "attribute: petal_width\n",
      "threshold: 1.7120403835448885\n",
      "count: [54, 46]\n",
      "  => creating Node(petal_width, 1.7120403835448885)\n",
      "\n",
      "Computed split:\n",
      "loss: 0.18 (parent: 0.21)\n",
      "attribute: petal_length\n",
      "threshold: 3.3094496107966327\n",
      "count: [3, 51]\n",
      "  => creating Node(petal_length, 3.3094496107966327)\n",
      "\n",
      "Computed split:\n",
      "loss: 0.00 (parent: 0.18)\n",
      "attribute: sepal_length\n",
      "threshold: 5.099995237708634\n",
      "count: [2, 1]\n",
      "['versicolor'] [3]\n",
      "  => creating Leaf(versicolor, N=3)\n",
      "\n",
      "Computed split:\n",
      "loss: 0.19 (parent: 0.18)\n",
      "attribute: sepal_width\n",
      "threshold: 3.1605583854679087\n",
      "count: [47, 4]\n",
      "['versicolor' 'virginica'] [46  5]\n",
      "  => creating Leaf(versicolor, N=51)\n",
      "\n",
      "Computed split:\n",
      "loss: 0.05 (parent: 0.21)\n",
      "attribute: sepal_width\n",
      "threshold: 3.454283080105119\n",
      "count: [43, 3]\n",
      "  => creating Node(sepal_width, 3.454283080105119)\n",
      "\n",
      "Computed split:\n",
      "loss: 0.05 (parent: 0.05)\n",
      "attribute: petal_length\n",
      "threshold: 6.404262002047041\n",
      "count: [40, 3]\n",
      "['versicolor' 'virginica'] [ 1 42]\n",
      "  => creating Leaf(virginica, N=43)\n",
      "\n",
      "Computed split:\n",
      "loss: 0.00 (parent: 0.05)\n",
      "attribute: sepal_length\n",
      "threshold: 7.899993248587026\n",
      "count: [2, 1]\n",
      "['virginica'] [3]\n",
      "  => creating Leaf(virginica, N=3)\n",
      "\n"
     ]
    },
    {
     "data": {
      "text/plain": [
       "<__main__.Tree at 0x7f23e2f31550>"
      ]
     },
     "execution_count": 11,
     "metadata": {},
     "output_type": "execute_result"
    }
   ],
   "source": [
    "c = CART(df,\"species\",X_names)\n",
    "c.create_tree()"
   ]
  },
  {
   "cell_type": "code",
   "execution_count": 12,
   "metadata": {},
   "outputs": [
    {
     "data": {
      "text/plain": [
       "'setosa'"
      ]
     },
     "execution_count": 12,
     "metadata": {},
     "output_type": "execute_result"
    }
   ],
   "source": [
    "c.tree.predict(df.iloc[0]).value"
   ]
  }
 ],
 "metadata": {
  "kernelspec": {
   "display_name": "Python 3 (ipykernel)",
   "language": "python",
   "name": "python3"
  },
  "language_info": {
   "codemirror_mode": {
    "name": "ipython",
    "version": 3
   },
   "file_extension": ".py",
   "mimetype": "text/x-python",
   "name": "python",
   "nbconvert_exporter": "python",
   "pygments_lexer": "ipython3",
   "version": "3.7.12"
  }
 },
 "nbformat": 4,
 "nbformat_minor": 4
}
